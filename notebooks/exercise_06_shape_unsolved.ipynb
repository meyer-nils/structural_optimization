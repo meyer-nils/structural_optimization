{
 "cells": [
  {
   "attachments": {},
   "cell_type": "markdown",
   "metadata": {},
   "source": [
    "# Exercise 06 - Shape optimization of trusses\n",
    "\n",
    "Shape optimization means that given a fixed topology of a truss, we want optimize its stiffness by modifying some node positions. In this particular example, we investigate the optimal shape of a railway bridge like in the photograph here:\n",
    "\n",
    "![Bridge](../figures/bridge.jpeg)\n"
   ]
  },
  {
   "cell_type": "code",
   "execution_count": null,
   "metadata": {},
   "outputs": [],
   "source": [
    "from math import sqrt\n",
    "\n",
    "import matplotlib.pyplot as plt\n",
    "import torch\n",
    "from simple_truss import Truss\n",
    "\n",
    "torch.set_default_dtype(torch.double)"
   ]
  },
  {
   "attachments": {},
   "cell_type": "markdown",
   "metadata": {},
   "source": [
    "So let's start by defining the base truss topology of the bridge without considering the exact shape for now. We create a simple rectangular bridge that has all the bars seen in the photo. The truss is fixed at the bottom left side and simply supported at the bottom right side. The load is distributed along the bottom edge of the bridge, which represents the train track."
   ]
  },
  {
   "cell_type": "code",
   "execution_count": null,
   "metadata": {},
   "outputs": [],
   "source": [
    "# Dimensions\n",
    "A = 17\n",
    "B = 2\n",
    "\n",
    "# Nodes\n",
    "n1 = torch.linspace(0.0, 5.0, A)\n",
    "n2 = torch.linspace(0.0, 0.5, B)\n",
    "n1, n2 = torch.stack(torch.meshgrid(n1, n2, indexing=\"xy\"))\n",
    "nodes = torch.stack([n1.ravel(), n2.ravel()], dim=1)\n",
    "\n",
    "# Elements\n",
    "elements = []\n",
    "for i in range(A - 1):\n",
    "    for j in range(B):\n",
    "        elements.append([i + j * A, i + 1 + j * A])\n",
    "for i in range(A):\n",
    "    for j in range(B - 1):\n",
    "        elements.append([i + j * A, i + A + j * A])\n",
    "for i in range(A - 1):\n",
    "    for j in range(B - 1):\n",
    "        if i >= (A - 1) / 2:\n",
    "            elements.append([i + j * A, i + 1 + A + j * A])\n",
    "        else:\n",
    "            elements.append([i + 1 + j * A, i + A + j * A])\n",
    "\n",
    "# Forces at bottom edge\n",
    "forces = torch.zeros_like(nodes)\n",
    "forces[1 : A - 1, 1] = -0.1\n",
    "\n",
    "# Constraints by the supports\n",
    "constraints = torch.zeros_like(nodes, dtype=bool)\n",
    "constraints[0, 0] = True\n",
    "constraints[0, 1] = True\n",
    "constraints[A - 1, 1] = True\n",
    "\n",
    "# Areas\n",
    "areas = torch.ones((len(elements)))\n",
    "\n",
    "# Truss\n",
    "bridge = Truss(nodes.clone(), elements, forces, constraints, areas, E=500.0)\n",
    "bridge.plot()"
   ]
  },
  {
   "attachments": {},
   "cell_type": "markdown",
   "metadata": {},
   "source": [
    "## Task 1 - Preparation of design variables\n",
    "\n",
    "We want to restrict the shape optimization problem to the vertical displacement of the top nodes. Other nodes should not be modified - the train track should remain a flat line.\n",
    "\n",
    "a) Create a boolean tensor `mask` of the same shape as `nodes`. It should be `True` for the vertical degree of freedom of the top nodes and `False` for every other degree of freedom. Essentially it should mask out those nodal degrees of freedom which should be optimized.\n",
    "\n",
    "b) Create initial values `x_0` of the masked top node positions. Set limits to the deformation (`x_min`, `x_max`) such that nodes can move down by 0.4 and up by 0.5 units.\n",
    "\n",
    "c) Compute the current volume of the truss `V0`. We will use this as a constraint in the optimization problem such that the optimized solution does not exceed this initial volume."
   ]
  },
  {
   "cell_type": "code",
   "execution_count": null,
   "metadata": {},
   "outputs": [],
   "source": [
    "# Mask for design variables.\n",
    "\n",
    "# Limits on design variables\n",
    "\n",
    "# Compute current volume"
   ]
  },
  {
   "attachments": {},
   "cell_type": "markdown",
   "metadata": {},
   "source": [
    "## Task 2 - Optimization\n",
    "\n",
    "You are provided with the `box_constrained_decent` function for minimization and `MMA` function for approximation from previous exercises. Using these, you should write a function `optimize(truss, x_0, x_min, x_max, V_0, mask, iter)` that takes a `truss` and optimizes its (masked) nodal positions `x` such that it minimizes the compliance using a maximum volume `V_0`. The function should return a list $\\mathbf{x}^0, \\mathbf{x}^1, \\mathbf{x}^2, ...$ containing the iteration steps of the optimization procedure. "
   ]
  },
  {
   "cell_type": "code",
   "execution_count": null,
   "metadata": {},
   "outputs": [],
   "source": [
    "def box_constrained_decent(func, x_init, x_lower, x_upper, eta=0.1, max_iter=100):\n",
    "    x = x_init.clone().requires_grad_()\n",
    "    for _ in range(max_iter):\n",
    "        grad = torch.autograd.grad(func(x).sum(), x)[0]\n",
    "        x = x - eta * grad\n",
    "        x = torch.clamp(x, x_lower, x_upper)\n",
    "    return x"
   ]
  },
  {
   "cell_type": "code",
   "execution_count": null,
   "metadata": {},
   "outputs": [],
   "source": [
    "def MMA(func, x_k, L_k, U_k):\n",
    "    x_lin = x_k.clone().requires_grad_()\n",
    "    grads = torch.autograd.grad(func(x_lin), x_lin)[0]\n",
    "    f_k = func(x_k)\n",
    "\n",
    "    def approximation(x):\n",
    "        res = f_k * torch.ones_like(x[..., 0])\n",
    "        for j, grad in enumerate(grads):\n",
    "            if grad < 0.0:\n",
    "                p = 0\n",
    "                q = -((x_k[j] - L_k[j]) ** 2) * grad\n",
    "            else:\n",
    "                p = (U_k[j] - x_k[j]) ** 2 * grad\n",
    "                q = 0\n",
    "            res -= p / (U_k[j] - x_k[j]) + q / (x_k[j] - L_k[j])\n",
    "            res += p / (U_k[j] - x[..., j]) + q / (x[..., j] - L_k[j])\n",
    "        return res\n",
    "\n",
    "    return approximation, grads"
   ]
  },
  {
   "cell_type": "code",
   "execution_count": null,
   "metadata": {},
   "outputs": [],
   "source": [
    "def optimize(truss, x_0, x_min, x_max, V_0, mask, iter):\n",
    "    s = 0.7\n",
    "\n",
    "    # Set up lists for L, U, x\n",
    "    L = []\n",
    "    U = []\n",
    "    x = [x_0]\n",
    "\n",
    "    # Define the initial value, lower bound, and upper bound of \"mu\"\n",
    "    mu_0 = torch.tensor([0.01])\n",
    "    mu_lower = torch.tensor([1e-10])\n",
    "    mu_upper = torch.tensor([100.0])\n",
    "\n",
    "    def f(x):\n",
    "        # Update nodes\n",
    "\n",
    "        # Solve truss with updated nodes\n",
    "\n",
    "        # Return compliance\n",
    "        pass\n",
    "\n",
    "    def g(x):\n",
    "        # Update nodes\n",
    "\n",
    "        # Return constraint function\n",
    "        pass\n",
    "\n",
    "    for k in range(iter):\n",
    "        # Update asymptotes with heuristic procedure (see Exercise 04)\n",
    "\n",
    "        # Compute lower and upper move limit in this step\n",
    "\n",
    "        # Compute the current approximation function and save gradients\n",
    "\n",
    "        # Define the Lagrangian\n",
    "\n",
    "        # Define x_star by minimizing the Lagrangian w. r. t. x analytically\n",
    "        def x_star(mu):\n",
    "            pass\n",
    "\n",
    "        # Define (-1 times) the dual function\n",
    "        def dual_function(mu):\n",
    "            pass\n",
    "\n",
    "        # Compute the maximum of the dual function\n",
    "\n",
    "        # Compute current optimal point with dual solution\n",
    "\n",
    "    return x"
   ]
  },
  {
   "cell_type": "code",
   "execution_count": null,
   "metadata": {},
   "outputs": [],
   "source": [
    "x_opt = optimize(bridge, x_0, x_min, x_max, V0, mask, iter=50)"
   ]
  },
  {
   "cell_type": "code",
   "execution_count": null,
   "metadata": {},
   "outputs": [],
   "source": [
    "# Plot the development of design variables\n",
    "plt.plot(torch.stack(x_opt).detach())\n",
    "plt.xlabel(\"Iteration\")\n",
    "plt.ylabel(\"Values $x_i$\")\n",
    "plt.show()\n",
    "\n",
    "# Plot the optimized bridge\n",
    "bridge.plot(node_labels=False)"
   ]
  }
 ],
 "metadata": {
  "kernelspec": {
   "display_name": "Python 3 (ipykernel)",
   "language": "python",
   "name": "python3"
  },
  "language_info": {
   "codemirror_mode": {
    "name": "ipython",
    "version": 3
   },
   "file_extension": ".py",
   "mimetype": "text/x-python",
   "name": "python",
   "nbconvert_exporter": "python",
   "pygments_lexer": "ipython3",
   "version": "3.9.15"
  },
  "vscode": {
   "interpreter": {
    "hash": "53e816d343ac3b69abbe00d0113a5825a790940e53acda2e016fe2e76fc78702"
   }
  }
 },
 "nbformat": 4,
 "nbformat_minor": 4
}
