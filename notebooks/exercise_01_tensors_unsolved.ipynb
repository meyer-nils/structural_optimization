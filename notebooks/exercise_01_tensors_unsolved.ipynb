{
 "cells": [
  {
   "attachments": {},
   "cell_type": "markdown",
   "metadata": {},
   "source": [
    "# Exercise 1 - Tensors\n",
    "\n",
    "In Chapter 1 of the lecture, we recapitulated tensor notation and tensor analysis. In this exercise, we will gain some more confidence in working with tensors by hand calculations as well as code. \n",
    "\n",
    "After studying this chapter and finishing the exercise, you should be able to \n",
    " - ... distinguish three types of structural optimization problems.\n",
    " - ... perform tensor algebra computations such as inner products, cross products, outer products, dyadic products, and tensor contractions.\n",
    " - ... apply differential operators such as divergence and gradient on tensor fields.\n"
   ]
  },
  {
   "cell_type": "markdown",
   "metadata": {},
   "source": [
    "## Task 1.0: Installation \n",
    "\n",
    "To solve the tasks with code, we will use a package called torch-fem. It is a differentiable finite element solver based on the PyTorch framework. PyTorch is a powerful Python package to operate on tensors. In comparison to NumPy, it stores gradients together with tensors and thus allows automatic differentiation. The package is used widely for machine learning and optimization. \n",
    "\n",
    "For installation it is best to create a new conda environment via\n",
    "```bash\n",
    "    conda create -n \"struct_opt\" python\n",
    "```\n",
    "and activate that environment via\n",
    "```bash\n",
    "    conda activate struct_opt\n",
    "``` \n",
    "to have a fresh new independent virtual Python environment to install the required packages with this course. It is highly recommended to use such an environment to prevent potential conflicts with other Python projects.\n",
    "\n",
    "In the activated environment, you should install the package torch-fem\n",
    "```bash\n",
    "    pip install torch-fem\n",
    "```\n",
    "to install the required packages. After that, you should be able to import the torch package in this Jupyter Notebook:"
   ]
  },
  {
   "cell_type": "code",
   "execution_count": null,
   "metadata": {},
   "outputs": [],
   "source": [
    "import torch\n",
    "\n",
    "torch.set_default_dtype(torch.double)"
   ]
  },
  {
   "attachments": {},
   "cell_type": "markdown",
   "metadata": {},
   "source": [
    "## Task 1.1: Vector products\n",
    "\n",
    "Given two vectors $\\mathbf{a}, \\mathbf{b} \\in \\mathcal{R}^3$ with\n",
    "$$\n",
    "\\mathbf{a} = \\begin{pmatrix}2\\\\1\\\\3\\end{pmatrix} \\quad \\mathbf{b} = \\begin{pmatrix}5\\\\0\\\\1\\end{pmatrix}\n",
    "$$\n",
    "define the vectors in torch and compute the dot product, cross product and outer product. "
   ]
  },
  {
   "cell_type": "code",
   "execution_count": null,
   "metadata": {},
   "outputs": [],
   "source": []
  },
  {
   "cell_type": "code",
   "execution_count": null,
   "metadata": {},
   "outputs": [],
   "source": []
  },
  {
   "cell_type": "code",
   "execution_count": null,
   "metadata": {},
   "outputs": [],
   "source": []
  },
  {
   "cell_type": "code",
   "execution_count": null,
   "metadata": {},
   "outputs": [],
   "source": []
  },
  {
   "attachments": {},
   "cell_type": "markdown",
   "metadata": {},
   "source": [
    "## Task 1.2 - Tensor products\n",
    "Given the tensors $\\mathbf{A}, \\mathbf{B} \\in \\mathcal{R}^{3 \\times 3}$ and $\\mathbb{C} \\in \\mathcal{R}^{3 \\times 3 \\times 3 \\times 3}$ convert the following expressions to sums of components and determine the dimensions of the resulting tensor. \n",
    "\n",
    "Example: \n",
    "\n",
    "$$\\mathbf{A} \\cdot \\mathbf{b} \\rightarrow \\sum_{i,j} A_{ij}b_j \\mathbf{e}_j$$\n",
    "\n",
    "a)  $$\\mathbf{a} \\cdot \\mathbf{A} \\cdot \\mathbf{b}$$\n",
    "b) $$\\mathbf{b} \\cdot \\mathbf{A} \\cdot \\mathbf{a}$$\n",
    "c) $$\\mathbf{A} \\cdot \\mathbf{B} \\cdot \\mathbf{b}$$\n",
    "d) $$(\\mathbf{A} : \\mathbf{B}) \\mathbf{b}$$\n",
    "e) $$(\\mathbf{a} \\otimes \\mathbf{b}) : \\mathbf{B}$$\n",
    "f) $$\\mathbf{A} \\otimes \\mathbb{C} : \\mathbf{B}$$\n"
   ]
  },
  {
   "attachments": {},
   "cell_type": "markdown",
   "metadata": {},
   "source": []
  },
  {
   "attachments": {},
   "cell_type": "markdown",
   "metadata": {},
   "source": [
    "Convert the following expressions to symbolic notation and determine the dimensions of the resulting tensor: \n",
    "\n",
    "g) $$\\sum_{z,j} A_{zj}b_z \\mathbf{e}_j$$\n",
    "h) $$\\sum_{i,j,k} A_{ij}B_{jk}a_k \\mathbf{e}_i$$\n",
    "i) $$\\sum_{m,n,o,p,i} C_{mnop}A_{po}\\delta_{ni}a_{i} \\mathbf{e}_m$$"
   ]
  },
  {
   "attachments": {},
   "cell_type": "markdown",
   "metadata": {},
   "source": []
  },
  {
   "attachments": {},
   "cell_type": "markdown",
   "metadata": {},
   "source": [
    "Given the values \n",
    "$$\n",
    "\\mathbf{A} = \n",
    "\\begin{pmatrix}\n",
    "    6 & 2 & 1\\\\\n",
    "    4 & 7 & 6\\\\\n",
    "    0 & 2 & 9\n",
    "\\end{pmatrix} \n",
    "\\quad \n",
    "\\mathbf{B} = \n",
    "\\begin{pmatrix}\n",
    "    5 & 7 & 11\\\\\n",
    "    0 & 4 & 3\\\\\n",
    "    1 & 2 & 9\n",
    "\\end{pmatrix}\n",
    "\\quad \n",
    "C_{ijkl} = 1 \\forall i,j,k,l\n",
    "$$\n",
    "define the tensors in torch and compute the expressions above. Reuse $\\mathbf{a}$ and $\\mathbf{b}$ from the first task.\n",
    "\n",
    "*Tips:* \n",
    "- What we denote with $\\cdot$ in the lecture, can be written with an `@` or `torch.tensordot(...,dim=1)`  in numpy and torch.\n",
    "- What we denote with $:$ in the lhe lecture, can be written with `torch.tensordot` in numpy and torch.\n",
    "- Multiplication between scalars is done simply by `*`.\n",
    "- We can use `torch.einsum()` to define arbitrary expressions using Einstein's summation convention. Here, the function automatically sums over indices in an expression, e.g. `torch.einsum(\"ij,j->i\",A,b)` computes $\\sum_{ij} A_{ij}b_j \\mathbf{e}_i$"
   ]
  },
  {
   "cell_type": "code",
   "execution_count": null,
   "metadata": {},
   "outputs": [],
   "source": []
  },
  {
   "cell_type": "code",
   "execution_count": null,
   "metadata": {},
   "outputs": [],
   "source": []
  },
  {
   "attachments": {},
   "cell_type": "markdown",
   "metadata": {},
   "source": [
    "## Task 1.3: Gradients in 1D \n",
    "\n",
    "Given the function $g: \\mathbf{R} \\rightarrow \\mathbf{R}$ defined as \n",
    "\n",
    "$$\n",
    "g(x) = x^2+x+1\n",
    "$$\n",
    "\n",
    "define the function, compute its gradient and plot it on $x \\in [-5, 5]$."
   ]
  },
  {
   "cell_type": "code",
   "execution_count": null,
   "metadata": {},
   "outputs": [],
   "source": []
  },
  {
   "cell_type": "code",
   "execution_count": null,
   "metadata": {},
   "outputs": [],
   "source": []
  },
  {
   "cell_type": "code",
   "execution_count": null,
   "metadata": {},
   "outputs": [],
   "source": []
  },
  {
   "cell_type": "code",
   "execution_count": null,
   "metadata": {},
   "outputs": [],
   "source": []
  },
  {
   "attachments": {},
   "cell_type": "markdown",
   "metadata": {},
   "source": [
    "## Task 1.4: Gradients in 2D \n",
    "Given the vectorfield $f: \\mathcal{R}^2 \\rightarrow \\mathcal{R}$ defined as \n",
    "\n",
    "$$\n",
    "f(\\mathbf{x}) = (\\mathbf{x} - \\tilde{\\mathbf{x}}) \\cdot \\mathbf{Q} \\cdot (\\mathbf{x} - \\tilde{\\mathbf{x}})\n",
    "$$\n",
    "with \n",
    "$$\n",
    "\\mathbf{Q} = \n",
    "\\begin{pmatrix}\n",
    "    2 & 1 \\\\\n",
    "    1 & 1 \n",
    "\\end{pmatrix} \n",
    "\\quad \n",
    "\\text{and}\n",
    "\\quad\n",
    "\\tilde{\\mathbf{x}} = \n",
    "\\begin{pmatrix}\n",
    "    -1\\\\\n",
    "    1 \n",
    "\\end{pmatrix}\n",
    "$$\n",
    "compute the gradient analytically."
   ]
  },
  {
   "attachments": {},
   "cell_type": "markdown",
   "metadata": {},
   "source": []
  },
  {
   "attachments": {},
   "cell_type": "markdown",
   "metadata": {},
   "source": [
    "Doing these computations by hand takes a while. Therefore we take a look at how to compute gradients using PyTorch. To do so, we start by defining $\\mathbf{Q}$, $\\tilde{\\mathbf{x}}$ and the function $f(\\mathbf{x})$. The function $f(\\mathbf{x})$ can be implemented in a straight forward way and you should try a straight forward implementation first. \n",
    "\n",
    "However, we would like to be able to evaluate the function for many values of $\\mathbf{x}$ at the same time. This is equivalent to passing a tensor of the shape $\\mathcal{R}^{... \\times 2}$ with arbitray dimensions except the last axis. This can be implemented using an ellipsis `...` in `torch.einsum()`."
   ]
  },
  {
   "cell_type": "code",
   "execution_count": null,
   "metadata": {},
   "outputs": [],
   "source": []
  },
  {
   "attachments": {},
   "cell_type": "markdown",
   "metadata": {},
   "source": [
    "If your function is defined correctly, the following cell should plot the function values as a contour plot. Make sure that you have the file `utils.py` located in the same directory as this notebook to use the `plot_contours()` function."
   ]
  },
  {
   "cell_type": "code",
   "execution_count": null,
   "metadata": {},
   "outputs": [],
   "source": [
    "from utils import plot_contours\n",
    "\n",
    "# Define x\n",
    "x0 = torch.linspace(-3, 3, steps=100, requires_grad=True)\n",
    "x1 = torch.linspace(-3, 3, steps=100, requires_grad=True)\n",
    "x = torch.stack(torch.meshgrid(x0, x1, indexing=\"xy\"), dim=2)\n",
    "\n",
    "plot_contours(x, f(x), title=\"f(x)\")"
   ]
  },
  {
   "attachments": {},
   "cell_type": "markdown",
   "metadata": {},
   "source": [
    "Note that the `requires_grad=True` argument defines that these specific tensors will be used in gradient computations. They reserve storage for the tensor data as well as the gradients. Now, lets compute the actual gradients with automatic differentiation:"
   ]
  },
  {
   "cell_type": "code",
   "execution_count": null,
   "metadata": {},
   "outputs": [],
   "source": [
    "dfdx = torch.autograd.grad(f(x).sum(), x)[0]\n",
    "\n",
    "\n",
    "# Reproduce basic plot\n",
    "plot_contours(x, f(x), title=\"f(x)\")\n",
    "\n",
    "# Plot gradient vectors as arrows on top of previous plot\n",
    "with torch.no_grad():\n",
    "    stride = 5\n",
    "    plt.quiver(\n",
    "        x[::stride, ::stride, 0],\n",
    "        x[::stride, ::stride, 1],\n",
    "        dfdx[::stride, ::stride, 0],\n",
    "        dfdx[::stride, ::stride, 1],\n",
    "    )\n",
    "    plt.axis(\"equal\")"
   ]
  }
 ],
 "metadata": {
  "kernelspec": {
   "display_name": "Python 3 (ipykernel)",
   "language": "python",
   "name": "python3"
  },
  "language_info": {
   "codemirror_mode": {
    "name": "ipython",
    "version": 3
   },
   "file_extension": ".py",
   "mimetype": "text/x-python",
   "name": "python",
   "nbconvert_exporter": "python",
   "pygments_lexer": "ipython3",
   "version": "3.12.2"
  }
 },
 "nbformat": 4,
 "nbformat_minor": 4
}
