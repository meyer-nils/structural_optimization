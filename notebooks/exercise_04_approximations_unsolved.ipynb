{
 "cells": [
  {
   "attachments": {},
   "cell_type": "markdown",
   "metadata": {},
   "source": [
    "# Exercise 04 - Local approximations\n",
    "\n",
    "The volume of a four-bar truss should be minimized under the displacement constraint $\\delta \\le \\delta_0$. There is a force $P>0$ acting along the direction of bar 4. All bars have identical lengths $l$ and identical Young's moduli $E$. The modifiable structural variables are the cross sectional areas $A_1=A_4$ and $A_2=A_3$. We define $A_0 = Pl / (10\\delta_0E)$ and constrain the variables $0.2A_0 \\le A_j \\le 2.5 A_0$. Then we can use dimensionless design variables $a_j=A_j/A_0 \\in [0.2, 2.5]$.\n",
    "\n",
    "\n",
    "![Four bar truss](https://meyer-nils.github.io/structural_optimization/figures/four_bar_truss.png)\n",
    "\n",
    "\n",
    "Credits: Peter W. Christensen and Anders Klarbring. *An Introduction to Structural Optimization.* Springer Netherlands, 2008."
   ]
  },
  {
   "cell_type": "code",
   "execution_count": null,
   "metadata": {},
   "outputs": [],
   "source": [
    "from math import sqrt\n",
    "\n",
    "import matplotlib.pyplot as plt\n",
    "import torch\n",
    "from torchfem.utils import plot_contours"
   ]
  },
  {
   "attachments": {},
   "cell_type": "markdown",
   "metadata": {},
   "source": [
    "## Task 1 - Defining the constrained optimization problem\n",
    "\n",
    "a) Compute the objective function $f(\\mathbf{a})$ that should be minimized and define it as Python function that accepts inputs tensors of the shape [..., 2].\n"
   ]
  },
  {
   "attachments": {},
   "cell_type": "markdown",
   "metadata": {},
   "source": []
  },
  {
   "cell_type": "code",
   "execution_count": null,
   "metadata": {},
   "outputs": [],
   "source": [
    "# Define f(a)\n",
    "def f(a):\n",
    "    pass"
   ]
  },
  {
   "attachments": {},
   "cell_type": "markdown",
   "metadata": {},
   "source": [
    "b) Compute the constraint function $g(\\mathbf{a})$ for $\\delta_0=0.1$ and define it as Python function that accepts inputs tensors of the shape [..., 2]."
   ]
  },
  {
   "attachments": {},
   "cell_type": "markdown",
   "metadata": {},
   "source": []
  },
  {
   "cell_type": "code",
   "execution_count": null,
   "metadata": {},
   "outputs": [],
   "source": [
    "# Define g(a)\n",
    "def g(a):\n",
    "    pass"
   ]
  },
  {
   "attachments": {},
   "cell_type": "markdown",
   "metadata": {},
   "source": [
    "c) Summarize the optimization problem statement with all constraints. "
   ]
  },
  {
   "attachments": {},
   "cell_type": "markdown",
   "metadata": {},
   "source": []
  },
  {
   "attachments": {},
   "cell_type": "markdown",
   "metadata": {},
   "source": [
    "## Task 2 - CONLIN\n",
    "\n",
    "a) Implement a function named `CONLIN(func, a_k)` that computes a CONLIN approximation of the function `func` at position `a_k`. `CONLIN` should return an approximation function that can be evaluated at any point `a`.\n"
   ]
  },
  {
   "cell_type": "code",
   "execution_count": null,
   "metadata": {},
   "outputs": [],
   "source": [
    "def CONLIN(func, a_k):\n",
    "    # Implement your solution here\n",
    "    a_lin = a_k.clone().requires_grad_()\n",
    "    gradients = torch.autograd.grad(func(a_lin).sum(), a_lin)[0]\n",
    "\n",
    "    def approximation(a):\n",
    "        # Implement your solution here\n",
    "        pass\n",
    "\n",
    "    return approximation"
   ]
  },
  {
   "cell_type": "markdown",
   "metadata": {},
   "source": [
    "b) Test your CONLIN approximation with the following code. Does the plot match your expectations?"
   ]
  },
  {
   "cell_type": "code",
   "execution_count": null,
   "metadata": {},
   "outputs": [],
   "source": [
    "def test_function(x):\n",
    "    return 5.0 / x + 2.0 * x\n",
    "\n",
    "\n",
    "x = torch.linspace(0, 10, 100)[:, None]\n",
    "x_0 = torch.tensor([1.0])\n",
    "test_approximation = CONLIN(test_function, x_0)\n",
    "plt.plot(x, test_function(x), label=\"f(x)\")\n",
    "plt.plot(x, [test_approximation(x_i) for x_i in x], label=f\"CONLIN at x={x_0.item()}\")\n",
    "plt.axvline(x_0, color=\"tab:orange\", linestyle=\"--\")\n",
    "plt.legend()\n",
    "plt.xlabel(\"x\")\n",
    "plt.ylabel(\"f(x)\")\n",
    "plt.xlim(0, 10)\n",
    "plt.ylim(0, 25)\n",
    "plt.show()"
   ]
  },
  {
   "attachments": {},
   "cell_type": "markdown",
   "metadata": {},
   "source": [
    "c) Solve the problem with sequential CONLIN approximations starting from $\\mathbf{a}^0 = (2,1)^\\top$ with the dual method. Record all intermediate points $\\mathbf{a}^0, \\mathbf{a}^1, \\mathbf{a}^2, ...$ in a list called `a` for later plotting."
   ]
  },
  {
   "attachments": {},
   "cell_type": "markdown",
   "metadata": {},
   "source": [
    "You will need to compute minima and maxima in this procedure, hence you are given the `box_constrained_decent` method from the previous excercise to perform these operations. The method is slightly modified:\n",
    "- It takes extra arguments that can be passed to the function, e.g. by `box_constrained_decent(..., mu=1.0)` \n",
    "- It returns only the final result and not all intermediate steps"
   ]
  },
  {
   "cell_type": "code",
   "execution_count": null,
   "metadata": {},
   "outputs": [],
   "source": [
    "def box_constrained_decent(\n",
    "    func, x_init, x_lower, x_upper, eta=0.1, max_iter=100, **extra_args\n",
    "):\n",
    "    x = x_init.clone().requires_grad_()\n",
    "    for _ in range(max_iter):\n",
    "        grad = torch.autograd.grad(func(x, **extra_args).sum(), x)[0]\n",
    "        x = x - eta * grad\n",
    "        x = torch.clamp(x, x_lower, x_upper)\n",
    "    return x"
   ]
  },
  {
   "cell_type": "code",
   "execution_count": null,
   "metadata": {},
   "outputs": [],
   "source": [
    "# Define the initial values, lower bound, and upper bound of \"a\"\n",
    "a_0 = torch.tensor([2.0, 1.0])\n",
    "a_lower = torch.tensor([0.2, 0.2])\n",
    "a_upper = torch.tensor([2.5, 2.5])\n",
    "\n",
    "# Define the initial value, lower bound, and upper bound of \"mu\"\n",
    "mu_0 = torch.tensor([10.0])\n",
    "mu_lower = torch.tensor([0.0])\n",
    "mu_upper = torch.tensor([1000000000.0])\n",
    "\n",
    "# Define list of a\n",
    "a = [a_0]\n",
    "\n",
    "# Implement your solution here"
   ]
  },
  {
   "attachments": {},
   "cell_type": "markdown",
   "metadata": {},
   "source": [
    "d) Test your optimization with the following code. Does the plot match your expectations?"
   ]
  },
  {
   "cell_type": "code",
   "execution_count": null,
   "metadata": {},
   "outputs": [],
   "source": [
    "# Plotting domain\n",
    "a_1 = torch.linspace(0.1, 3.0, 200)\n",
    "a_2 = torch.linspace(0.1, 3.0, 200)\n",
    "a_grid = torch.stack(torch.meshgrid(a_1, a_2, indexing=\"xy\"), dim=2)\n",
    "\n",
    "# Make a plot\n",
    "plot_contours(\n",
    "    a_grid,\n",
    "    f(a_grid),\n",
    "    paths={\"CONLIN\": a},\n",
    "    box=[a_lower, a_upper],\n",
    "    opti=[a[-1][0], a[-1][1]],\n",
    "    figsize=(5, 5),\n",
    ")\n",
    "plt.contour(a_1, a_2, g(a_grid), [0], colors=\"k\", linewidths=3)\n",
    "plt.contourf(a_1, a_2, g(a_grid), [0, 1], colors=\"gray\", alpha=0.5)\n",
    "plt.show()"
   ]
  },
  {
   "attachments": {},
   "cell_type": "markdown",
   "metadata": {},
   "source": [
    "e) This implementation is relatively slow. How could it be accelerated?"
   ]
  },
  {
   "attachments": {},
   "cell_type": "markdown",
   "metadata": {},
   "source": []
  },
  {
   "attachments": {},
   "cell_type": "markdown",
   "metadata": {},
   "source": [
    "## Task 3 - MMA\n",
    "\n",
    "a) Implement a function named `MMA(func, a_k, L_k, U_k)` that computes a CONLIN approximation of the function `func` at position `a_k` with lower asymptotes `L_k` and uper asymtotes `U_k`. `MMA` should return an approximation function that can be evaluated at any point `a`."
   ]
  },
  {
   "cell_type": "code",
   "execution_count": null,
   "metadata": {},
   "outputs": [],
   "source": [
    "def MMA(func, a_k, L_k, U_k):\n",
    "    a_lin = a_k.clone().requires_grad_()\n",
    "    grads = torch.autograd.grad(func(a_lin), a_lin)[0]\n",
    "\n",
    "    def approximation(a):\n",
    "        # Implement your solution here\n",
    "        pass\n",
    "\n",
    "    return approximation"
   ]
  },
  {
   "cell_type": "markdown",
   "metadata": {},
   "source": [
    "b) Test your MMA approximation with the following code. Does the plot match your expectations?"
   ]
  },
  {
   "cell_type": "code",
   "execution_count": null,
   "metadata": {},
   "outputs": [],
   "source": [
    "def test_function(x):\n",
    "    return 5.0 / x + 2.0 * x\n",
    "\n",
    "\n",
    "x = torch.linspace(0, 10, 100)[:, None]\n",
    "x_0 = torch.tensor([1.0])\n",
    "L_0 = torch.tensor([0.1])\n",
    "U_0 = torch.tensor([8.0])\n",
    "x_test = torch.linspace(L_0.item(), U_0.item(), 100)[:, None]\n",
    "test_approximation = MMA(test_function, x_0, L_0, U_0)\n",
    "plt.plot(x, test_function(x), label=\"f(x)\")\n",
    "plt.plot(x_test, [test_approximation(x_i) for x_i in x_test], label=f\"MMA at x={x_0}\")\n",
    "plt.axvline(x_0, color=\"tab:orange\", linestyle=\"--\")\n",
    "plt.axvline(L_0, color=\"black\", linestyle=\"--\")\n",
    "plt.axvline(U_0, color=\"black\", linestyle=\"--\")\n",
    "plt.legend()\n",
    "plt.xlabel(\"x\")\n",
    "plt.ylabel(\"f(x)\")\n",
    "plt.xlim(0, 10)\n",
    "plt.ylim(-5, 25)\n",
    "plt.show()"
   ]
  },
  {
   "attachments": {},
   "cell_type": "markdown",
   "metadata": {},
   "source": [
    "c) Solve the problem with sequential MMA approximations starting from $\\mathbf{a}^0 = (2,1)^\\top$ with the dual method. Record all intermediate points $\\mathbf{a}^0, \\mathbf{a}^1, \\mathbf{a}^2, ...$ in a list called `a` for the asymptote updates and later plotting."
   ]
  },
  {
   "cell_type": "code",
   "execution_count": null,
   "metadata": {},
   "outputs": [],
   "source": [
    "# Define the initial values, lower bound, and upper bound of \"a\"\n",
    "a_0 = torch.tensor([2.0, 1.0])\n",
    "a_lower = torch.tensor([0.2, 0.2])\n",
    "a_upper = torch.tensor([2.5, 2.5])\n",
    "\n",
    "# Define the initial value, lower bound, and upper bound of \"mu\"\n",
    "mu_0 = torch.tensor([10.0])\n",
    "mu_lower = torch.tensor([0.0])\n",
    "mu_upper = torch.tensor([1000000000.0])\n",
    "\n",
    "# Define lists for  a, L, and U\n",
    "a = [a_0]\n",
    "\n",
    "# Implement your solution here"
   ]
  },
  {
   "attachments": {},
   "cell_type": "markdown",
   "metadata": {},
   "source": [
    "d) Test your optimization with the following code. Does the plot match your expectations?"
   ]
  },
  {
   "cell_type": "code",
   "execution_count": null,
   "metadata": {},
   "outputs": [],
   "source": [
    "# Plotting domain\n",
    "a_1 = torch.linspace(0.1, 3.0, 200)\n",
    "a_2 = torch.linspace(0.1, 3.0, 200)\n",
    "a_grid = torch.stack(torch.meshgrid(a_1, a_2, indexing=\"xy\"), dim=2)\n",
    "\n",
    "# Make a plot\n",
    "plot_contours(\n",
    "    a_grid,\n",
    "    f(a_grid),\n",
    "    paths={\"MMA\": a},\n",
    "    box=[a_lower, a_upper],\n",
    "    opti=[a[-1][0], a[-1][1]],\n",
    "    figsize=(5, 5),\n",
    ")\n",
    "plt.contour(a_1, a_2, g(a_grid), [0], colors=\"k\", linewidths=3)\n",
    "plt.contourf(a_1, a_2, g(a_grid), [0, 1], colors=\"gray\", alpha=0.5)\n",
    "plt.show()"
   ]
  },
  {
   "cell_type": "markdown",
   "metadata": {},
   "source": [
    "e) This implementation is relatively slow. How could it be accelerated?"
   ]
  },
  {
   "cell_type": "markdown",
   "metadata": {},
   "source": []
  }
 ],
 "metadata": {
  "kernelspec": {
   "display_name": "struct_opt",
   "language": "python",
   "name": "python3"
  },
  "language_info": {
   "codemirror_mode": {
    "name": "ipython",
    "version": 3
   },
   "file_extension": ".py",
   "mimetype": "text/x-python",
   "name": "python",
   "nbconvert_exporter": "python",
   "pygments_lexer": "ipython3",
   "version": "3.12.2"
  },
  "orig_nbformat": 4
 },
 "nbformat": 4,
 "nbformat_minor": 2
}
