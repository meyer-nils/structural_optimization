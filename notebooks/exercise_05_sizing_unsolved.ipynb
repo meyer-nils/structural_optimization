{
 "cells": [
  {
   "attachments": {},
   "cell_type": "markdown",
   "metadata": {},
   "source": [
    "# Exercise 05 - Size optimization of trusses\n",
    "We will optimize truss structures in this exercise. There is a prepared Python class for trusses called `Truss` and you can import it via `from utils import Truss`. The next cells show an example of how to use the truss class."
   ]
  },
  {
   "cell_type": "code",
   "execution_count": 11,
   "metadata": {},
   "outputs": [],
   "source": [
    "from math import log, sqrt\n",
    "\n",
    "import torch\n",
    "from simple_truss import Truss"
   ]
  },
  {
   "attachments": {},
   "cell_type": "markdown",
   "metadata": {},
   "source": [
    "The truss consists of `nodes` (tensor with shape Nx2), `elements`(list with shape Mx2), `forces` (tensor with shape Nx2) acting on nodes, constraints (boolean tensor with shape Nx2) defining for each degree of freedom wether it is constrained (`True`) or not (`False`), and cross section `areas` of each element (tensor with shape Mx1). These arguments are passed into the `Truss` class to create a new `Truss` object. We can plot the object with `Truss.plot()`."
   ]
  },
  {
   "cell_type": "code",
   "execution_count": 12,
   "metadata": {},
   "outputs": [
    {
     "data": {
      "image/png": "[encoded data removed]",
      "text/plain": [
       "<Figure size 640x480 with 1 Axes>"
      ]
     },
     "metadata": {},
     "output_type": "display_data"
    }
   ],
   "source": [
    "# Define three nodes\n",
    "nodes = torch.tensor([[0.0, 0.0], [1.0, 1.0], [2.0, 0.0]])\n",
    "\n",
    "# Define two elements connecting nodes\n",
    "elements = [[0, 1], [1, 2]]\n",
    "\n",
    "# Define a single force downwards in x_2 direction\n",
    "forces = torch.zeros_like(nodes)\n",
    "forces[1, 1] = -0.25\n",
    "\n",
    "# Constrain all DOFs except for the central node\n",
    "constraints = torch.zeros_like(nodes, dtype=bool)\n",
    "constraints[0, :] = True\n",
    "constraints[2, :] = True\n",
    "\n",
    "# Define initial cross sectional areas\n",
    "areas = torch.ones((len(elements)))\n",
    "\n",
    "# Define truss\n",
    "sample_truss = Truss(nodes, elements, forces, constraints, areas, E=1.0)\n",
    "\n",
    "# Plot undeformend truss\n",
    "sample_truss.plot()"
   ]
  },
  {
   "attachments": {},
   "cell_type": "markdown",
   "metadata": {},
   "source": [
    "If we specify cross sectional areas of each bar, we can solve the truss problem for deformations at each node. This is done with a function `Truss.solve(a)`, where `a` is a tensor of length M defining areas. The function returns displacements at each node `u`, forces at each node `f` and stresses in each bar `sigma`. \n",
    "\n",
    "If we pass the displacements to the `Truss.plot()` function via `(u=u)`, the visualization shows the deformed configuration. If we pass stresses via `(sigma=sigma)`, the visualization shows color-coded stress in each bar. "
   ]
  },
  {
   "cell_type": "code",
   "execution_count": 13,
   "metadata": {},
   "outputs": [
    {
     "data": {
      "image/png": "[encoded data removed]",
      "text/plain": [
       "<Figure size 640x480 with 2 Axes>"
      ]
     },
     "metadata": {},
     "output_type": "display_data"
    }
   ],
   "source": [
    "# Compute the solution of the truss problem\n",
    "u, f, sigma = sample_truss.solve()\n",
    "\n",
    "# Plot deformend truss\n",
    "sample_truss.plot(u=u)\n",
    "\n",
    "# Plot deformend truss with stresses\n",
    "sample_truss.plot(u=u, sigma=sigma)"
   ]
  },
  {
   "attachments": {},
   "cell_type": "markdown",
   "metadata": {},
   "source": [
    "We can also use convenience functions to access properties of the truss, e.g. the element lengths of each bar or the strain energies associated with each bar:"
   ]
  },
  {
   "cell_type": "code",
   "execution_count": 14,
   "metadata": {},
   "outputs": [
    {
     "name": "stdout",
     "output_type": "stream",
     "text": [
      "The lengths of elemensts are: tensor([1.4142, 1.4142])\n",
      "The strain energies in each element are: tensor([0.0221, 0.0221])\n"
     ]
    }
   ],
   "source": [
    "# Get truss properties\n",
    "l0 = sample_truss.element_lengths()\n",
    "print(f\"The lengths of elemensts are: {l0}\")\n",
    "\n",
    "w = sample_truss.element_strain_energies(u)\n",
    "print(f\"The strain energies in each element are: {w}\")"
   ]
  },
  {
   "attachments": {},
   "cell_type": "markdown",
   "metadata": {},
   "source": [
    "## Task 1 - Solving a simple truss structure\n",
    "Consider the three bar truss example from a previous exercise and the lecture example shown below. The coordinate origin is located at Node 1 now. \n",
    "\n",
    "![](../figures/three_bar_truss_bare.png)\n",
    "\n",
    "The truss is subjected to a force $P=-0.2$ indicated by the gray arrow and supports indicated by gray triangles. It has three nodes \n",
    "$$\n",
    "    \\mathcal{N} = \\{\\mathbf{n}^0=(1,0)^\\top, \\mathbf{n}^1=(0,0)^\\top,\\mathbf{n}^2=(0,1)^\\top \\}\n",
    "$$\n",
    "and three elements \n",
    "$$\n",
    "    \\mathcal{E} = \\{(\\mathbf{n}^0, \\mathbf{n}^1), (\\mathbf{n}^0, \\mathbf{n}^2), (\\mathbf{n}^1, \\mathbf{n}^2)\\}.\n",
    "$$\n",
    "\n",
    "\n",
    "\n",
    "Create a truss model named `three_bar_truss` representing this truss assuming $E=10.0$ and $A=1.0$ for each element. Solve the truss problem and plot the truss in its deformed configuration with colors representing stresses in bars.\n",
    "\n"
   ]
  },
  {
   "cell_type": "code",
   "execution_count": 15,
   "metadata": {},
   "outputs": [],
   "source": [
    "# Implement your solution here"
   ]
  },
  {
   "attachments": {},
   "cell_type": "markdown",
   "metadata": {},
   "source": [
    "## Task 2 - Bisection algorithm \n",
    "To solve the dual problem when optimizing the truss cross sections, we will need to find the roots $\\mu^*>0$ of the gradient \n",
    "$$\n",
    "\\frac{\\partial \\underline{\\mathcal{L}}}{\\partial \\mu}(\\mu) = \\mathbf{l} \\cdot \\mathbf{x}^* (\\mu) - V_0 = 0.\n",
    "$$\n",
    "\n",
    "To prepare the search for these roots, you should implement a bisection algorithm. This algorithm performs well in this case of a highly non-linear convex optimization task, but in principle, you could also use any other gradient based algortihtm from previous exercises."
   ]
  },
  {
   "attachments": {},
   "cell_type": "markdown",
   "metadata": {},
   "source": [
    "a) Write a function `bisection(f, a, b, max_iter=50, tol=1e-10)` that takes a function `f`, a bracket $[a,b]$ with $a<b$, an iteration limit `max_iter` and a tolerance for the solution `tol`. It should implement the following algorithm:\n",
    " - While $b-a > tol$: \n",
    "   - $c = \\frac{a+b}{2}$\n",
    "   - if $f(a)$ and $f(b)$ have the same sign, replace a with c \n",
    "   - else replace b with c \n",
    "\n",
    "Break the loop, if the iteration count `max_iter` is exceeeded to prevent infinite loops."
   ]
  },
  {
   "cell_type": "code",
   "execution_count": 16,
   "metadata": {},
   "outputs": [],
   "source": [
    "def bisection(f, a, b, max_iter=50, tol=1e-10):\n",
    "    # Implement your solution here\n",
    "    pass"
   ]
  },
  {
   "attachments": {},
   "cell_type": "markdown",
   "metadata": {},
   "source": [
    "b) Test the function with the function $f(x)=x^3-\\log(x)-5$."
   ]
  },
  {
   "cell_type": "code",
   "execution_count": 17,
   "metadata": {},
   "outputs": [],
   "source": [
    "# Implement your solution here"
   ]
  },
  {
   "attachments": {},
   "cell_type": "markdown",
   "metadata": {},
   "source": [
    "## Task 3 - Optimization algorithm\n",
    "\n",
    "a) Implement a truss optimization algorithm according to Example 27 in the lecture. To do so, define a function `optimize(truss, a_0, a_min, a_max, V_0)` taking a `Truss` object, an initial solution of `a`, bounds on a `a_min` and `a_max` as well as a maximum volume `V_0`.  You may re-use code from the previous MMA exercise."
   ]
  },
  {
   "cell_type": "code",
   "execution_count": 18,
   "metadata": {},
   "outputs": [],
   "source": [
    "def optimize(truss, a_0, a_min, a_max, V_0, iter=10):\n",
    "    # Set up variables for length and s\n",
    "\n",
    "    # Set up lists for a and L\n",
    "\n",
    "    for k in range(iter):\n",
    "        # Solve the truss problem at point a_k\n",
    "\n",
    "        # Get strain energy of all truss elements for the given displacement\n",
    "\n",
    "        # Compute lower asymptotes\n",
    "\n",
    "        # Compute lower move limit in this step\n",
    "\n",
    "        # Define a fucntion for the analytical solution `a_star(mu)``\n",
    "\n",
    "        # Define a function for the analytical gradient of the dual function\n",
    "\n",
    "        # Solve dual problem by finding the root of the gradient of the dual function\n",
    "        # with the bisection algorithm\n",
    "\n",
    "        # Compute current optimal point with dual solution\n",
    "\n",
    "        pass"
   ]
  },
  {
   "attachments": {},
   "cell_type": "markdown",
   "metadata": {},
   "source": [
    "b) Test the optimization algortihm with the following code. (Works only after completing the previous tasks)"
   ]
  },
  {
   "cell_type": "code",
   "execution_count": 20,
   "metadata": {},
   "outputs": [
    {
     "ename": "NameError",
     "evalue": "name 'three_bar_truss' is not defined",
     "output_type": "error",
     "traceback": [
      "\u001b[0;31m---------------------------------------------------------------------------\u001b[0m",
      "\u001b[0;31mNameError\u001b[0m                                 Traceback (most recent call last)",
      "Cell \u001b[0;32mIn[20], line 7\u001b[0m\n\u001b[1;32m      4\u001b[0m a_max \u001b[39m=\u001b[39m \u001b[39m1.0\u001b[39m \u001b[39m*\u001b[39m torch\u001b[39m.\u001b[39mones_like(a_0)\n\u001b[1;32m      6\u001b[0m \u001b[39m# Define volume constraint\u001b[39;00m\n\u001b[0;32m----> 7\u001b[0m l \u001b[39m=\u001b[39m three_bar_truss\u001b[39m.\u001b[39melement_lengths()\n\u001b[1;32m      8\u001b[0m V0 \u001b[39m=\u001b[39m \u001b[39m0.5\u001b[39m \u001b[39m*\u001b[39m torch\u001b[39m.\u001b[39mdot(a_max, l)\n\u001b[1;32m     10\u001b[0m \u001b[39m# Optimize truss\u001b[39;00m\n",
      "\u001b[0;31mNameError\u001b[0m: name 'three_bar_truss' is not defined"
     ]
    }
   ],
   "source": [
    "# Define initial solution and bounds\n",
    "a_0 = torch.tensor([0.5, 0.2, 0.3])\n",
    "a_min = 0.1 * torch.ones_like(a_0)\n",
    "a_max = 1.0 * torch.ones_like(a_0)\n",
    "\n",
    "# Define volume constraint\n",
    "l = three_bar_truss.element_lengths()\n",
    "V0 = 0.5 * torch.dot(a_max, l)\n",
    "\n",
    "# Optimize truss\n",
    "a_opt = optimize(three_bar_truss, a_0, a_min, a_max, V0)\n",
    "\n",
    "# Plot optimal solution\n",
    "u, f, sigma = three_bar_truss.solve()\n",
    "three_bar_truss.plot(u=u, sigma=sigma, show_thickness=True)"
   ]
  },
  {
   "attachments": {},
   "cell_type": "markdown",
   "metadata": {},
   "source": [
    "c) Is the optimized truss a fully stressed design?"
   ]
  },
  {
   "attachments": {},
   "cell_type": "markdown",
   "metadata": {},
   "source": []
  },
  {
   "attachments": {},
   "cell_type": "markdown",
   "metadata": {},
   "source": [
    "d) Compare the solution to the analytical solution from Excercise 3. Is it the same result?"
   ]
  },
  {
   "attachments": {},
   "cell_type": "markdown",
   "metadata": {},
   "source": []
  },
  {
   "attachments": {},
   "cell_type": "markdown",
   "metadata": {},
   "source": [
    "## Task 4 - Your own truss\n",
    "\n",
    "a) Create your own truss problem by defining `nodes`, `elements`, `forces` and `constraints` to your liking."
   ]
  },
  {
   "cell_type": "code",
   "execution_count": null,
   "metadata": {},
   "outputs": [],
   "source": []
  },
  {
   "attachments": {},
   "cell_type": "markdown",
   "metadata": {},
   "source": [
    "b) Solve your own truss for a prescribed distribution of cross-sectional areas. Plot the deformed truss with colored stresses. "
   ]
  },
  {
   "cell_type": "code",
   "execution_count": null,
   "metadata": {},
   "outputs": [],
   "source": []
  },
  {
   "attachments": {},
   "cell_type": "markdown",
   "metadata": {},
   "source": [
    "c) Optimize the cross sections of your own truss."
   ]
  },
  {
   "cell_type": "code",
   "execution_count": null,
   "metadata": {},
   "outputs": [],
   "source": []
  },
  {
   "attachments": {},
   "cell_type": "markdown",
   "metadata": {},
   "source": [
    "d) What is the interpretation of bars having the minimum cross sectional area? What would happen if we set the minimum area to zero?"
   ]
  },
  {
   "attachments": {},
   "cell_type": "markdown",
   "metadata": {},
   "source": []
  }
 ],
 "metadata": {
  "kernelspec": {
   "display_name": "Python 3 (ipykernel)",
   "language": "python",
   "name": "python3"
  },
  "language_info": {
   "codemirror_mode": {
    "name": "ipython",
    "version": 3
   },
   "file_extension": ".py",
   "mimetype": "text/x-python",
   "name": "python",
   "nbconvert_exporter": "python",
   "pygments_lexer": "ipython3",
   "version": "3.9.15"
  },
  "vscode": {
   "interpreter": {
    "hash": "53e816d343ac3b69abbe00d0113a5825a790940e53acda2e016fe2e76fc78702"
   }
  }
 },
 "nbformat": 4,
 "nbformat_minor": 4
}
