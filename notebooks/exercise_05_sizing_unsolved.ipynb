{
 "cells": [
  {
   "attachments": {},
   "cell_type": "markdown",
   "metadata": {},
   "source": [
    "# Exercise 05 - Size optimization of trusses\n",
    "We will optimize truss structures in this exercise. There is a prepared Python class for trusses called `Truss` and you can import it via `from utils import Truss`. The next cells show an example of how to use the truss class."
   ]
  },
  {
   "cell_type": "code",
   "execution_count": null,
   "metadata": {},
   "outputs": [],
   "source": [
    "from math import log, sqrt\n",
    "\n",
    "import torch\n",
    "from torchfem import Truss\n",
    "\n",
    "torch.set_default_dtype(torch.double)"
   ]
  },
  {
   "attachments": {},
   "cell_type": "markdown",
   "metadata": {},
   "source": [
    "The truss consists of `nodes` (tensor with shape Nx2), `elements`(list with shape Mx2), `forces` (tensor with shape Nx2) acting on nodes, constraints (boolean tensor with shape Nx2) defining for each degree of freedom wether it is constrained (`True`) or not (`False`), and cross section `areas` of each element (tensor with shape Mx1). These arguments are passed into the `Truss` class to create a new `Truss` object. We can plot the object with `Truss.plot()`."
   ]
  },
  {
   "cell_type": "code",
   "execution_count": null,
   "metadata": {},
   "outputs": [],
   "source": [
    "# Define three nodes\n",
    "nodes = torch.tensor([[0.0, 0.0], [1.0, 1.0], [2.0, 0.0]])\n",
    "\n",
    "# Define two elements connecting nodes\n",
    "elements = torch.tensor([[0, 1], [1, 2]])\n",
    "\n",
    "# Define a single force downwards in x_2 direction\n",
    "forces = torch.zeros_like(nodes)\n",
    "forces[1, 1] = -0.25\n",
    "\n",
    "# Constrain all DOFs except for the central node\n",
    "displacements = torch.zeros_like(nodes)\n",
    "constraints = torch.zeros_like(nodes, dtype=bool)\n",
    "constraints[0, :] = True\n",
    "constraints[2, :] = True\n",
    "\n",
    "# Define initial cross sectional areas and Young's moduli\n",
    "A = torch.ones((len(elements)))\n",
    "E = torch.ones((len(elements)))\n",
    "\n",
    "# Define truss\n",
    "sample_truss = Truss(nodes, elements, forces, displacements, constraints, A, E)\n",
    "\n",
    "# Plot undeformend truss\n",
    "sample_truss.plot()"
   ]
  },
  {
   "attachments": {},
   "cell_type": "markdown",
   "metadata": {},
   "source": [
    "If we specify cross sectional areas of each bar, we can solve the truss problem for deformations at each node. This is done with a function `Truss.solve(a)`, where `a` is a tensor of length M defining areas. The function returns displacements at each node `u`, forces at each node `f` and stresses in each bar `sigma`. \n",
    "\n",
    "If we pass the displacements to the `Truss.plot()` function via `(u=u)`, the visualization shows the deformed configuration. If we pass stresses via `(sigma=sigma)`, the visualization shows color-coded stress in each bar. "
   ]
  },
  {
   "cell_type": "code",
   "execution_count": null,
   "metadata": {},
   "outputs": [],
   "source": [
    "# Compute the solution of the truss problem\n",
    "u, f = sample_truss.solve()\n",
    "\n",
    "# Compute the stresses in each element\n",
    "sigma = sample_truss.compute_stress(u)\n",
    "\n",
    "# Plot deformend truss\n",
    "sample_truss.plot(u=u)\n",
    "\n",
    "# Plot deformend truss with stresses\n",
    "sample_truss.plot(u=u, sigma=sigma)"
   ]
  },
  {
   "attachments": {},
   "cell_type": "markdown",
   "metadata": {},
   "source": [
    "## Task 1 - Solving a simple truss structure\n",
    "Consider the three bar truss example from a previous exercise and the lecture example shown below. The coordinate origin is located at Node 1 now. \n",
    "\n",
    "![](../figures/three_bar_truss_bare.png)\n",
    "\n",
    "The truss is subjected to a force $P=-0.2$ indicated by the gray arrow and supports indicated by gray triangles. It has three nodes \n",
    "$$\n",
    "    \\mathcal{N} = \\{\\mathbf{n}^0=(1,0)^\\top, \\mathbf{n}^1=(0,0)^\\top,\\mathbf{n}^2=(0,1)^\\top \\}\n",
    "$$\n",
    "and three elements \n",
    "$$\n",
    "    \\mathcal{E} = \\{(\\mathbf{n}^0, \\mathbf{n}^1), (\\mathbf{n}^0, \\mathbf{n}^2), (\\mathbf{n}^1, \\mathbf{n}^2)\\}.\n",
    "$$\n",
    "\n",
    "\n",
    "\n",
    "Create a truss model named `three_bar_truss` representing this truss assuming $E=10.0$ and $A=1.0$ for each element. \n"
   ]
  },
  {
   "cell_type": "markdown",
   "metadata": {},
   "source": [
    "a) Solve the truss problem and plot the truss in its deformed configuration with colors representing stresses in bars."
   ]
  },
  {
   "cell_type": "code",
   "execution_count": null,
   "metadata": {},
   "outputs": [],
   "source": [
    "# Implement your solution here"
   ]
  },
  {
   "cell_type": "markdown",
   "metadata": {},
   "source": [
    "b) Create a function named `compute_lengths(truss)` that accepts a truss object as input and returns a tensor containing the length of each element."
   ]
  },
  {
   "cell_type": "code",
   "execution_count": null,
   "metadata": {},
   "outputs": [],
   "source": [
    "def compute_lengths(truss):\n",
    "    # Implement your solution here\n",
    "    pass\n",
    "\n",
    "\n",
    "print(compute_lengths(three_bar_truss))"
   ]
  },
  {
   "attachments": {},
   "cell_type": "markdown",
   "metadata": {},
   "source": [
    "## Task 2 - Bisection algorithm \n",
    "To solve the dual problem when optimizing the truss cross sections, we will need to find the roots $\\mu^*>0$ of the gradient \n",
    "$$\n",
    "\\frac{\\partial \\underline{\\mathcal{L}}}{\\partial \\mu}(\\mu) = \\mathbf{l} \\cdot \\mathbf{x}^* (\\mu) - V_0 = 0.\n",
    "$$\n",
    "\n",
    "To prepare the search for these roots, you should implement a bisection algorithm. This algorithm performs well in this case of a highly non-linear convex optimization task, but in principle, you could also use any other gradient based algortihtm from previous exercises."
   ]
  },
  {
   "attachments": {},
   "cell_type": "markdown",
   "metadata": {},
   "source": [
    "a) Write a function `bisection(f, a, b, max_iter=50, tol=1e-10)` that takes a function `f`, a bracket $[a,b]$ with $a<b$, an iteration limit `max_iter` and a tolerance for the solution `tol`. It should implement the following algorithm:\n",
    " - While $b-a > tol$: \n",
    "   - $c = \\frac{a+b}{2}$\n",
    "   - if $f(a)$ and $f(b)$ have the same sign, replace a with c \n",
    "   - else replace b with c \n",
    "\n",
    "Break the loop, if the iteration count `max_iter` is exceeeded to prevent infinite loops."
   ]
  },
  {
   "cell_type": "code",
   "execution_count": null,
   "metadata": {},
   "outputs": [],
   "source": [
    "def bisection(f, a, b, max_iter=50, tol=1e-10):\n",
    "    # Implement your solution here\n",
    "    pass"
   ]
  },
  {
   "attachments": {},
   "cell_type": "markdown",
   "metadata": {},
   "source": [
    "b) Test the function with the function $f(x)=x^3-\\log(x)-5$."
   ]
  },
  {
   "cell_type": "code",
   "execution_count": null,
   "metadata": {},
   "outputs": [],
   "source": [
    "# Implement your solution here"
   ]
  },
  {
   "attachments": {},
   "cell_type": "markdown",
   "metadata": {},
   "source": [
    "## Task 3 - Optimization algorithm\n",
    "\n",
    "a) Implement a truss optimization algorithm according to Example 27 in the lecture. To do so, define a function `optimize(truss, a_0, a_min, a_max, V_0)` taking a `Truss` object, an initial solution of `a`, bounds on a `a_min` and `a_max` as well as a maximum volume `V_0`.  You may re-use code from the previous MMA exercise."
   ]
  },
  {
   "cell_type": "code",
   "execution_count": null,
   "metadata": {},
   "outputs": [],
   "source": [
    "def optimize(truss, a_0, a_min, a_max, V_0, iter=10):\n",
    "    # Get stiffness matrix of truss elements\n",
    "    k0 = truss.k() / truss.areas[:, None, None]\n",
    "\n",
    "    # Set up variables for length and s\n",
    "\n",
    "    # Set up lists for a and L\n",
    "\n",
    "    for k in range(iter):\n",
    "        # Solve the truss problem at point a_k\n",
    "\n",
    "        # Compute strain energy of all truss elements for the given displacement\n",
    "\n",
    "        # Compute lower asymptotes\n",
    "\n",
    "        # Compute lower move limit in this step\n",
    "\n",
    "        # Define a function for the analytical solution `a_star(mu)``\n",
    "\n",
    "        # Define a function for the analytical gradient of the dual function\n",
    "\n",
    "        # Solve dual problem by finding the root of the gradient of the dual function\n",
    "        # with the bisection algorithm\n",
    "\n",
    "        # Compute current optimal point with dual solution\n",
    "\n",
    "        pass"
   ]
  },
  {
   "attachments": {},
   "cell_type": "markdown",
   "metadata": {},
   "source": [
    "b) Test the optimization algortihm with the following code. (Works only after completing the previous tasks)"
   ]
  },
  {
   "cell_type": "code",
   "execution_count": null,
   "metadata": {},
   "outputs": [],
   "source": [
    "# Define initial solution and bounds\n",
    "a_0 = torch.tensor([0.5, 0.2, 0.3])\n",
    "a_min = 0.1 * torch.ones_like(a_0)\n",
    "a_max = 1.0 * torch.ones_like(a_0)\n",
    "\n",
    "# Define volume constraint\n",
    "l = three_bar_truss.element_lengths()\n",
    "V0 = 0.5 * torch.dot(a_max, l)\n",
    "\n",
    "# Optimize truss\n",
    "a_opt = optimize(three_bar_truss, a_0, a_min, a_max, V0)\n",
    "\n",
    "# Plot optimal solution\n",
    "u, f = three_bar_truss.solve()\n",
    "sigma = three_bar_truss.compute_stress(u)\n",
    "three_bar_truss.plot(u=u, sigma=sigma, show_thickness=True)"
   ]
  },
  {
   "attachments": {},
   "cell_type": "markdown",
   "metadata": {},
   "source": [
    "c) Is the optimized truss a fully stressed design?"
   ]
  },
  {
   "attachments": {},
   "cell_type": "markdown",
   "metadata": {},
   "source": []
  },
  {
   "attachments": {},
   "cell_type": "markdown",
   "metadata": {},
   "source": [
    "d) Compare the solution to the analytical solution from Excercise 3. Is it the same result?"
   ]
  },
  {
   "attachments": {},
   "cell_type": "markdown",
   "metadata": {},
   "source": []
  },
  {
   "attachments": {},
   "cell_type": "markdown",
   "metadata": {},
   "source": [
    "## Task 4 - Your own truss\n",
    "\n",
    "a) Create your own truss problem by defining `nodes`, `elements`, `forces` and `constraints` to your liking."
   ]
  },
  {
   "cell_type": "code",
   "execution_count": null,
   "metadata": {},
   "outputs": [],
   "source": []
  },
  {
   "attachments": {},
   "cell_type": "markdown",
   "metadata": {},
   "source": [
    "b) Solve your own truss for a prescribed distribution of cross-sectional areas. Plot the deformed truss with colored stresses. "
   ]
  },
  {
   "cell_type": "code",
   "execution_count": null,
   "metadata": {},
   "outputs": [],
   "source": []
  },
  {
   "attachments": {},
   "cell_type": "markdown",
   "metadata": {},
   "source": [
    "c) Optimize the cross sections of your own truss."
   ]
  },
  {
   "cell_type": "code",
   "execution_count": null,
   "metadata": {},
   "outputs": [],
   "source": []
  },
  {
   "attachments": {},
   "cell_type": "markdown",
   "metadata": {},
   "source": [
    "d) What is the interpretation of bars having the minimum cross sectional area? What would happen if we set the minimum area to zero?"
   ]
  },
  {
   "attachments": {},
   "cell_type": "markdown",
   "metadata": {},
   "source": []
  }
 ],
 "metadata": {
  "kernelspec": {
   "display_name": "Python 3 (ipykernel)",
   "language": "python",
   "name": "python3"
  },
  "language_info": {
   "codemirror_mode": {
    "name": "ipython",
    "version": 3
   },
   "file_extension": ".py",
   "mimetype": "text/x-python",
   "name": "python",
   "nbconvert_exporter": "python",
   "pygments_lexer": "ipython3",
   "version": "3.11.0"
  },
  "vscode": {
   "interpreter": {
    "hash": "53e816d343ac3b69abbe00d0113a5825a790940e53acda2e016fe2e76fc78702"
   }
  }
 },
 "nbformat": 4,
 "nbformat_minor": 4
}
