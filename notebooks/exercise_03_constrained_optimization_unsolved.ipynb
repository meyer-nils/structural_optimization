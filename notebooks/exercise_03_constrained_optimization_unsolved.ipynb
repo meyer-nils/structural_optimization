{
 "cells": [
  {
   "attachments": {},
   "cell_type": "markdown",
   "metadata": {},
   "source": [
    "# Exercise 03 - Constrained optimization\n",
    "\n",
    "\n",
    "We re-use the quadratic function from last exercise $f: \\mathcal{R}^2 \\rightarrow \\mathcal{R}$ defined as \n",
    "\n",
    "$$\n",
    "f(\\mathbf{x}) = (\\mathbf{x} - \\tilde{\\mathbf{x}}) \\cdot \\mathbf{Q} \\cdot (\\mathbf{x} - \\tilde{\\mathbf{x}})\n",
    "$$\n",
    "with \n",
    "$$\n",
    "\\mathbf{Q} = \n",
    "\\begin{pmatrix}\n",
    "    2 & 1 \\\\\n",
    "    1 & 1 \n",
    "\\end{pmatrix} \n",
    "\\quad \n",
    "\\text{and}\n",
    "\\quad\n",
    "\\tilde{\\mathbf{x}} = \n",
    "\\begin{pmatrix}\n",
    "    -1\\\\\n",
    "    1 \n",
    "\\end{pmatrix}\n",
    "$$\n",
    "to test the implemented gradient decent methods."
   ]
  },
  {
   "cell_type": "code",
   "execution_count": null,
   "metadata": {},
   "outputs": [],
   "source": [
    "import torch\n",
    "from utils import plot_contours\n",
    "\n",
    "torch.set_default_dtype(torch.double)\n",
    "\n",
    "# Define domain\n",
    "x1 = torch.linspace(-3, 3, steps=100)\n",
    "x2 = torch.linspace(-3, 3, steps=100)\n",
    "x = torch.stack(torch.meshgrid(x1, x2, indexing=\"xy\"), dim=2)\n",
    "\n",
    "# Define constants\n",
    "xt = torch.tensor([-1.0, 1.0])\n",
    "Q = torch.tensor([[2.0, 1.0], [1, 1.0]])\n",
    "\n",
    "\n",
    "# Define function\n",
    "def f(x):\n",
    "    dx = x - xt\n",
    "    return torch.einsum(\"...i,ij,...j\", dx, Q, dx)\n",
    "\n",
    "\n",
    "# Plot function as contour lines\n",
    "plot_contours(x, f(x), opti=[-1, 1])"
   ]
  },
  {
   "attachments": {},
   "cell_type": "markdown",
   "metadata": {},
   "source": [
    "## Task 1 - Box constraints\n",
    "We want to solve the problem\n",
    "$$\n",
    "    \\min_{\\mathbf{x}} \\quad f(\\mathbf{x})= (\\mathbf{x}-\\tilde{\\mathbf{x}}) \\cdot \\mathbf{Q} \\cdot (\\mathbf{x}-\\tilde{\\mathbf{x}})\\\\\n",
    "    \\textrm{s.t.} \\quad      \\mathbf{x}^- \\le \\mathbf{x} \\le \\mathbf{x}^+\\\\\n",
    "$$\n",
    "\n",
    "\n",
    "We have a predefined function named `box_constrained_decent(x_init, func, x_lower, x_upper, eta=0.1, maxiter=100)` that takes an initial point $\\mathbf{x}_0 \\in \\mathcal{R}^d$ named `x_init`, a function `func`, a lower limit $\\mathbf{x}^- \\in \\mathcal{R}^d$ named `x_lower`, an upper limit $\\mathbf{x}^+ \\in \\mathcal{R}^d$ named `x_upper`,  a step size `eta`, and an iteration limit `max_iter`. \n",
    "\n",
    "a) Implement a simple steepest gradient decent in that function . The function should return a list of all steps $\\mathbf{x}_k \\in \\mathcal{R}^d$ taken during the optimization, i.e. `[[x1_0, x2_0, ..., xd_0], [x1_1, x2_1, ..., xd_1], ...]`"
   ]
  },
  {
   "cell_type": "code",
   "execution_count": null,
   "metadata": {},
   "outputs": [],
   "source": [
    "def box_constrained_decent(x_init, func, x_lower, x_upper, eta=0.1, max_iter=100):\n",
    "    # Copy initial x to new differentiable tensor x\n",
    "    x = x_init.clone().requires_grad_()\n",
    "\n",
    "    points = [x]\n",
    "\n",
    "    # Implement your solution here\n",
    "    # ...\n",
    "\n",
    "    return points"
   ]
  },
  {
   "attachments": {},
   "cell_type": "markdown",
   "metadata": {},
   "source": [
    "b) Test the function with the following code for \n",
    "$$\n",
    "    \\mathbf{x}_0 = \\begin{pmatrix}1\\\\-1\\end{pmatrix}\n",
    "    \\quad \n",
    "    \\mathbf{x}^{-} = \\begin{pmatrix}0\\\\-2\\end{pmatrix}\n",
    "    \\quad \n",
    "    \\mathbf{x}^{+} = \\begin{pmatrix}2\\\\2\\end{pmatrix}\n",
    "$$\n",
    "and play around with the optional parameters. "
   ]
  },
  {
   "cell_type": "code",
   "execution_count": null,
   "metadata": {},
   "outputs": [],
   "source": [
    "x_init = torch.tensor([1.0, -1.0])\n",
    "x_lower = torch.tensor([0.0, -2.0])\n",
    "x_upper = torch.tensor([2.0, 2.0])\n",
    "path = box_constrained_decent(x_init, f, x_lower, x_upper)\n",
    "\n",
    "plot_contours(x, f(x), box=[x_lower, x_upper], paths={\"Box-constrained decent\": path})\n",
    "print(f\"Final values are x_1={path[-1][0]:.3f}, x_2={path[-1][1]:.3f}\")"
   ]
  },
  {
   "attachments": {},
   "cell_type": "markdown",
   "metadata": {},
   "source": [
    "## Task 2 - Visualizing Lagrangian duality\n",
    "\n",
    "We consider a function $f: \\mathcal{R} \\rightarrow \\mathcal{R}$ defined as \n",
    "$$ f(x) = x^2$$ \n",
    "for the box-constrained optimization problem \n",
    "$$\n",
    "\\min_{x} f(x) \\\\\n",
    "s.t. \\quad x \\ge 1.\n",
    "$$\n",
    "We can solve this problem easily by clamping the unconstrained solution $\\hat{x}=0$ with the domain as \n",
    "$$ x^* = \\textrm{clamp}(\\hat{x}, 1, \\infty) = 1$$\n",
    "or using the algorithm from Task 1. \n",
    "\n",
    "a) Use the algorithm from Task 1 `box_constrained_decent` to solve this one-dimensional problem. \n"
   ]
  },
  {
   "cell_type": "code",
   "execution_count": null,
   "metadata": {},
   "outputs": [],
   "source": [
    "# Define 'x_init', 'x_lower' and 'x_upper'\n",
    "# ...\n",
    "\n",
    "# Define f(x)\n",
    "# ...\n",
    "\n",
    "# Solve the optimization and print out the final result\n",
    "# ..."
   ]
  },
  {
   "attachments": {},
   "cell_type": "markdown",
   "metadata": {},
   "source": [
    "However, we may also interpret the problem differently considering a function $g: \\mathcal{R} \\rightarrow \\mathcal{R}$ defined as \n",
    "$$ g(x) = 1-x$$\n",
    "for the constrained optimization problem \n",
    "$$\n",
    "\\min_{x} f(x) \\\\\n",
    "s.t. \\quad g(x) \\le 0.\n",
    "$$\n",
    "\n",
    "b) Formulate the Lagrangian and plot the Langrangian as function of $x$ and $\\mu$. Explain the shape of the plot."
   ]
  },
  {
   "cell_type": "code",
   "execution_count": null,
   "metadata": {},
   "outputs": [],
   "source": [
    "import matplotlib.pyplot as plt\n",
    "\n",
    "# Define domain\n",
    "x_s = torch.linspace(-10, 10, steps=100)\n",
    "mu_s = torch.linspace(-10, 10, steps=100)\n",
    "x, mu = torch.meshgrid(x_s, mu_s, indexing=\"xy\")\n",
    "\n",
    "\n",
    "# Define Lagrangian\n",
    "def L(x, mu):\n",
    "    # Implement the Lagrangian function here\n",
    "    pass\n",
    "\n",
    "\n",
    "# Plot the Lagrangian\n",
    "plot_contours(torch.stack([x, mu], dim=2), L(x, mu))\n",
    "plt.xlabel(\"x\")\n",
    "plt.ylabel(\"µ\")\n",
    "plt.colorbar()"
   ]
  },
  {
   "attachments": {},
   "cell_type": "markdown",
   "metadata": {},
   "source": [
    "b) Solve the problem analytically using KKT conditions."
   ]
  },
  {
   "attachments": {},
   "cell_type": "markdown",
   "metadata": {},
   "source": [
    "> "
   ]
  },
  {
   "attachments": {},
   "cell_type": "markdown",
   "metadata": {},
   "source": [
    "c) Solve the problem using Lagrangian duality and visualize the dual problem in the plot by adding a line $x^*(\\mu)$ and plotting the dual objective function. Interpret this line and how it is related to the dual procedure \n",
    "$$\\max_{\\mu} \\min_{x} L(x, \\mu)$$"
   ]
  },
  {
   "attachments": {},
   "cell_type": "markdown",
   "metadata": {},
   "source": [
    "> "
   ]
  },
  {
   "cell_type": "code",
   "execution_count": null,
   "metadata": {},
   "outputs": [],
   "source": [
    "plot_contours(torch.stack([x, mu], dim=2), L(x, mu), opti=[1, 2])\n",
    "# Add the line plot here\n",
    "# ...\n",
    "plt.xlim([-10, 10])\n",
    "plt.xlabel(\"x\")\n",
    "plt.ylim([-10, 10])\n",
    "plt.ylabel(\"µ\")\n",
    "plt.colorbar()"
   ]
  },
  {
   "attachments": {},
   "cell_type": "markdown",
   "metadata": {},
   "source": [
    "## Task 3 - The first structural optimization problem\n",
    "\n",
    "The three-bar truss illustrated below consists of three bars with the following properties:\n",
    "- Bar 1 connecting nodes $n^0$ and $n^1$: cross section $A_1$, Young's modulus $E$, length $l$\n",
    "- Bar 2 connecting nodes $n^1$ and $n^2$: cross section $A_2$, Young's modulus $E$, length $l$\n",
    "- Bar 3 connecting nodes $n^0$ and $n^2$: cross section $A_3$, Young's modulus $E$, length $\\sqrt{2}l$\n",
    "\n",
    "The truss is subjected to a force $P>0$ at $\\mathbf{n}^0$, fixed in $\\mathbf{n}^1$ ($u^1_1=0, u^1_2=0$) and simply supported in $\\mathbf{n}^2$ ($u^2_1=0$). We want to maximize the stiffness of the truss assembly by minimizing its compliance $P u_2^0$, where $u_2^0$ is the displacement in the vertical $x_2$-direction of node $n_0$. The volume of the trusses may not exceed a volume $V_0$. The design variables are the cross-sectional areas of the bars $\\mathbf{x} = \\begin{pmatrix} A_1,A_2,A_3\\end{pmatrix}^\\top$.\n",
    "\n",
    "\n",
    "![Three bar truss](../figures/three_bar_truss.png)\n",
    "\n",
    "\n",
    "Credits: Peter W. Christensen and Anders Klarbring. *An Introduction to Structural Optimization.* Springer Netherlands, 2008.\n"
   ]
  },
  {
   "attachments": {},
   "cell_type": "markdown",
   "metadata": {},
   "source": [
    "a) Formulate the problem as a constrained optimization problem using an explicit expression for $u_2^0$."
   ]
  },
  {
   "attachments": {},
   "cell_type": "markdown",
   "metadata": {},
   "source": [
    "> "
   ]
  },
  {
   "attachments": {},
   "cell_type": "markdown",
   "metadata": {},
   "source": [
    "b) Solve the problem analytically using KKT conditions."
   ]
  },
  {
   "attachments": {},
   "cell_type": "markdown",
   "metadata": {},
   "source": [
    ">"
   ]
  },
  {
   "attachments": {},
   "cell_type": "markdown",
   "metadata": {},
   "source": [
    "c) Solve the problem analytically using Lagrangian duality."
   ]
  },
  {
   "attachments": {},
   "cell_type": "markdown",
   "metadata": {},
   "source": [
    "> "
   ]
  },
  {
   "attachments": {},
   "cell_type": "markdown",
   "metadata": {},
   "source": [
    "d) Define the objective function using $x_1=x_2$ and plot it in the $x_1$-$x_3$ plane as contour plot. Assuming $L=1$ and $V_0=1$, plot the contrained area."
   ]
  },
  {
   "cell_type": "code",
   "execution_count": null,
   "metadata": {},
   "outputs": [],
   "source": []
  },
  {
   "attachments": {},
   "cell_type": "markdown",
   "metadata": {},
   "source": [
    ">"
   ]
  },
  {
   "attachments": {},
   "cell_type": "markdown",
   "metadata": {},
   "source": [
    ">\n"
   ]
  }
 ],
 "metadata": {
  "kernelspec": {
   "display_name": "pytorch",
   "language": "python",
   "name": "python3"
  },
  "language_info": {
   "codemirror_mode": {
    "name": "ipython",
    "version": 3
   },
   "file_extension": ".py",
   "mimetype": "text/x-python",
   "name": "python",
   "nbconvert_exporter": "python",
   "pygments_lexer": "ipython3",
   "version": "3.9.15"
  },
  "orig_nbformat": 4
 },
 "nbformat": 4,
 "nbformat_minor": 2
}
