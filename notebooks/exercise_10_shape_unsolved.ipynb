{
 "cells": [
  {
   "attachments": {},
   "cell_type": "markdown",
   "metadata": {},
   "source": [
    "# Exercise 10 - Shape optimization"
   ]
  },
  {
   "cell_type": "code",
   "execution_count": null,
   "metadata": {},
   "outputs": [],
   "source": [
    "from math import sqrt\n",
    "import matplotlib.pyplot as plt\n",
    "import torch\n",
    "from simple_fem import FEM, Quad, import_mesh\n",
    "\n",
    "torch.set_default_dtype(torch.double)"
   ]
  },
  {
   "attachments": {},
   "cell_type": "markdown",
   "metadata": {},
   "source": [
    "## Task 1 - Analysis of stress in a fillet\n",
    "\n",
    "We import the mesh from a file named \"mesh/fillet.vtu\" using the function `import_mesh(filename, E, nu)`. The mesh file should be placed in a subdirectory `mesh` in the same directory as this notebook. It contains a fillet geometry meshed with quadrilateral elements. It is assigned symmetry boundary conditions at the left and bottom boundary as well as load at the right boundary."
   ]
  },
  {
   "cell_type": "code",
   "execution_count": null,
   "metadata": {},
   "outputs": [],
   "source": [
    "# Import mesh\n",
    "fillet = import_mesh(\"mesh/fillet.vtu\", 100.0, 0.25)\n",
    "\n",
    "# Constrain left boundary\n",
    "left = fillet.nodes[:, 0] == 0.0\n",
    "fillet.constraints[left, 0] = True\n",
    "\n",
    "# Constrain bottom boundary\n",
    "bottom = fillet.nodes[:, 1] == 0.0\n",
    "fillet.constraints[bottom, 1] = True\n",
    "\n",
    "# Force at right boundary\n",
    "right = fillet.nodes[:, 0] == 60.0\n",
    "fillet.forces[right, 0] = 1.0\n",
    "fillet.forces[1, 0] = 0.5\n",
    "fillet.forces[2, 0] = 0.5\n",
    "\n",
    "# Plot the fillet\n",
    "fillet.plot()"
   ]
  },
  {
   "attachments": {},
   "cell_type": "markdown",
   "metadata": {},
   "source": [
    "a) Solve the FEM problem and plot the displacement magnitude."
   ]
  },
  {
   "cell_type": "code",
   "execution_count": null,
   "metadata": {},
   "outputs": [],
   "source": [
    "# Solve\n",
    "\n",
    "# Plot"
   ]
  },
  {
   "attachments": {},
   "cell_type": "markdown",
   "metadata": {},
   "source": [
    "b) You are given a function named `mises_stress(u)`. It takes a displacement solution `u` as argument and returns the v. Mises stress for all elements in the FEM model. \n",
    "\n",
    "Try to understand the code and write down what is happening in this code using the notation from the lecture."
   ]
  },
  {
   "cell_type": "code",
   "execution_count": null,
   "metadata": {},
   "outputs": [],
   "source": [
    "quad = Quad()\n",
    "\n",
    "\n",
    "def mises_stress(u):\n",
    "    mises = []\n",
    "    for element in fillet.elements:\n",
    "        # Extract node positions of element\n",
    "        xe = fillet.nodes[element, :]\n",
    "\n",
    "        # Extract displacement degrees of freedom\n",
    "        ue = u[element, :].ravel()\n",
    "\n",
    "        # Set position of evaluation\n",
    "        xi = [0.0, 0.0]\n",
    "\n",
    "        # Jacobian\n",
    "        J = quad.B(xi) @ xe\n",
    "\n",
    "        # Compute B\n",
    "        B = torch.linalg.inv(J) @ quad.B(xi)\n",
    "        zeros = torch.zeros(quad.nodes)\n",
    "\n",
    "        # Compute D\n",
    "        D0 = torch.stack([B[0, :], zeros], dim=-1).ravel()\n",
    "        D1 = torch.stack([zeros, B[1, :]], dim=-1).ravel()\n",
    "        D2 = torch.stack([B[1, :], B[0, :]], dim=-1).ravel()\n",
    "        D = torch.stack([D0, D1, D2])\n",
    "\n",
    "        # Compute stress\n",
    "        s = fillet.C @ D @ ue\n",
    "        mises.append(torch.sqrt(s[0] ** 2 + s[1] ** 2 - s[0] * s[1] + 3 * s[2] ** 2))\n",
    "    return torch.stack(mises)\n",
    "\n",
    "\n",
    "# Plot the results\n",
    "stress = mises_stress(u)\n",
    "fillet.plot(u, element_property=stress, cmap=\"jet\")"
   ]
  },
  {
   "attachments": {},
   "cell_type": "markdown",
   "metadata": {},
   "source": [
    "c) Compute the maximum v. Mises stress in the component."
   ]
  },
  {
   "cell_type": "code",
   "execution_count": null,
   "metadata": {},
   "outputs": [],
   "source": []
  },
  {
   "attachments": {},
   "cell_type": "markdown",
   "metadata": {},
   "source": [
    "## Task 2 - Morph functions for the fillet\n",
    "We want to optimize the fillet shape. To do so, we define shape modifications based on radial basis functions at four nodes at the fillet."
   ]
  },
  {
   "cell_type": "markdown",
   "metadata": {},
   "source": [
    "a) Precompute the values of a radial basis function \n",
    "\n",
    "$$\\varphi(r) = \\exp(-(\\epsilon r)^2)$$\n",
    "\n",
    "with $\\epsilon=0.2$ for all nodes."
   ]
  },
  {
   "cell_type": "code",
   "execution_count": null,
   "metadata": {},
   "outputs": [],
   "source": [
    "# Distances between all nodes - use torch.cdist()\n",
    "\n",
    "# Set epsilon\n",
    "\n",
    "# Compute phi"
   ]
  },
  {
   "cell_type": "markdown",
   "metadata": {},
   "source": [
    "b) Plot the precomputed radial basis function associated with Node 3 as a node property on the mesh. How do you interpret this plot?"
   ]
  },
  {
   "cell_type": "code",
   "execution_count": null,
   "metadata": {},
   "outputs": [],
   "source": [
    "# Extract function values for RBF associated with Node 3"
   ]
  },
  {
   "cell_type": "markdown",
   "metadata": {},
   "source": [
    "c) Implement a function `morph(fem, nids, x, dir)` that adjusts the nodal positions of nodes with IDs `nids` in the `fem` model to the values `x` in direction `dir`."
   ]
  },
  {
   "cell_type": "code",
   "execution_count": null,
   "metadata": {},
   "outputs": [],
   "source": [
    "def morph(fem, nids, x, dir):\n",
    "    # Build matrix\n",
    "\n",
    "    # Solve linear equation system\n",
    "\n",
    "    # Apply deformation"
   ]
  },
  {
   "attachments": {},
   "cell_type": "markdown",
   "metadata": {},
   "source": [
    "## Task 3 - Optimize the fillet shape\n",
    "Now, we want to find the optimal position of four control points given by the IDs `3`, `5`, `7`, and `58` to minimize the maximum stress in the fillet. These nodes are located along the fillet radius:"
   ]
  },
  {
   "cell_type": "code",
   "execution_count": null,
   "metadata": {},
   "outputs": [],
   "source": [
    "# Chosen control nodes\n",
    "control_nodes = [3, 5, 7, 58]\n",
    "\n",
    "# Plot the base mesh\n",
    "fillet.plot()\n",
    "\n",
    "# Plot control nodes\n",
    "cx = fillet.nodes[control_nodes, 0]\n",
    "cy = fillet.nodes[control_nodes, 1]\n",
    "plt.scatter(cx, cy, marker=\"o\", color=\"black\")"
   ]
  },
  {
   "cell_type": "markdown",
   "metadata": {},
   "source": [
    "You are provided with the following two functions from previous exercises for optimization."
   ]
  },
  {
   "cell_type": "code",
   "execution_count": null,
   "metadata": {},
   "outputs": [],
   "source": [
    "def box_constrained_decent(func, x_init, x_lower, x_upper, eta=0.1, max_iter=100):\n",
    "    x = x_init.clone().requires_grad_()\n",
    "    for _ in range(max_iter):\n",
    "        grad = torch.autograd.grad(func(x).sum(), x)[0]\n",
    "        x = x - eta * grad\n",
    "        x = torch.max(torch.min(x, x_upper), x_lower)\n",
    "    return x\n",
    "\n",
    "\n",
    "def MMA(func, x_k, L_k, U_k):\n",
    "    x_lin = x_k.clone().requires_grad_()\n",
    "    grads = torch.autograd.grad(func(x_lin), x_lin)[0]\n",
    "    f_k = func(x_k)\n",
    "\n",
    "    def approximation(x):\n",
    "        res = f_k * torch.ones_like(x[..., 0])\n",
    "        for j, grad in enumerate(grads):\n",
    "            if grad < 0.0:\n",
    "                p = 0\n",
    "                q = -((x_k[j] - L_k[j]) ** 2) * grad\n",
    "            else:\n",
    "                p = (U_k[j] - x_k[j]) ** 2 * grad\n",
    "                q = 0\n",
    "            res -= p / (U_k[j] - x_k[j]) + q / (x_k[j] - L_k[j])\n",
    "            res += p / (U_k[j] - x[..., j]) + q / (x[..., j] - L_k[j])\n",
    "        return res\n",
    "\n",
    "    return approximation"
   ]
  },
  {
   "cell_type": "markdown",
   "metadata": {},
   "source": [
    "a) We need to define the objective function `f`. Given the positions of our control nodes `x`, compute the five largest v. Mises stresses in the fillet and return the sum of them as value of the objective function."
   ]
  },
  {
   "cell_type": "code",
   "execution_count": null,
   "metadata": {},
   "outputs": [],
   "source": [
    "def f(x):\n",
    "    # Update nodes\n",
    "    \n",
    "    # Solve fem with updated nodes\n",
    "\n",
    "    # Compute stress\n",
    "\n",
    "    # Return top 5 stresses\n",
    "    pass"
   ]
  },
  {
   "cell_type": "markdown",
   "metadata": {},
   "source": [
    "b) Why might it be better to return the sum of the top five stresses instead of just the maximum value? What alternatives can you think of?"
   ]
  },
  {
   "cell_type": "markdown",
   "metadata": {},
   "source": []
  },
  {
   "cell_type": "markdown",
   "metadata": {},
   "source": [
    "c) The following function performs optimization of the objective function via MMA. Why are there no Lagrange multipliers?"
   ]
  },
  {
   "cell_type": "code",
   "execution_count": null,
   "metadata": {},
   "outputs": [],
   "source": [
    "def optimize(x_0, x_min, x_max, iter):\n",
    "    s = 0.5\n",
    "\n",
    "    # Set up lists for L, U, x\n",
    "    L = []\n",
    "    U = []\n",
    "    x = [x_0]\n",
    "    objective = [f(x_0)]\n",
    "\n",
    "    for k in range(iter):\n",
    "        # Update asymptotes with heuristic procedure (see Exercise 04)\n",
    "        if k > 1:\n",
    "            L_k = torch.zeros_like(L[k - 1])\n",
    "            U_k = torch.zeros_like(U[k - 1])\n",
    "            for j in range(len(L_k)):\n",
    "                if (x[k][j] - x[k - 1][j]) * (x[k - 1][j] - x[k - 2][j]) < 0.0:\n",
    "                    L_k[j] = x[k][j] - s * (x[k - 1][j] - L[k - 1][j])\n",
    "                    U_k[j] = x[k][j] + s * (U[k - 1][j] - x[k - 1][j])\n",
    "                else:\n",
    "                    L_k[j] = x[k][j] - 1.0 / sqrt(s) * (x[k - 1][j] - L[k - 1][j])\n",
    "                    U_k[j] = x[k][j] + 1.0 / sqrt(s) * (U[k - 1][j] - x[k - 1][j])\n",
    "            L.append(L_k)\n",
    "            U.append(U_k)\n",
    "        else:\n",
    "            L.append(x[k] - s * (x_max - x_min))\n",
    "            U.append(x[k] + s * (x_max - x_min))\n",
    "\n",
    "        # Compute lower move limit in this step\n",
    "        x_min_k = torch.maximum(x_min, 0.9 * L[k] + 0.1 * x[k])\n",
    "        x_max_k = torch.minimum(x_max, 0.9 * U[k] + 0.1 * x[k])\n",
    "\n",
    "        # Compute the current approximation function and save gradients\n",
    "        f_tilde = MMA(f, x[k], L[k], U[k])\n",
    "\n",
    "        # Compute the maximum of the dual function\n",
    "        x_star = box_constrained_decent(f_tilde, x_0, x_min_k, x_max_k, eta=0.1)\n",
    "\n",
    "        # Compute current optimal point with dual solution\n",
    "        x.append(x_star)\n",
    "        objective.append(f(x_star).detach())\n",
    "\n",
    "    return x, objective"
   ]
  },
  {
   "cell_type": "markdown",
   "metadata": {},
   "source": [
    "d) Set the initial design variables to the vertical position of the control nodes. Set `x_min` and `x_max` such that they can move up  and down by 1 and run the optimization for 30 iterations."
   ]
  },
  {
   "cell_type": "code",
   "execution_count": null,
   "metadata": {},
   "outputs": [],
   "source": [
    "# Bounds on variables"
   ]
  },
  {
   "cell_type": "markdown",
   "metadata": {},
   "source": [
    "e) Plot the evolution of the objective value and the design variables vs. iteration count."
   ]
  },
  {
   "cell_type": "code",
   "execution_count": null,
   "metadata": {},
   "outputs": [],
   "source": []
  },
  {
   "cell_type": "markdown",
   "metadata": {},
   "source": [
    "f) Plot the stress in the optimized design"
   ]
  },
  {
   "cell_type": "code",
   "execution_count": null,
   "metadata": {},
   "outputs": [],
   "source": []
  },
  {
   "cell_type": "markdown",
   "metadata": {},
   "source": [
    "g) What is the new maximum stress? Discuss the effect of the improvement."
   ]
  },
  {
   "cell_type": "code",
   "execution_count": null,
   "metadata": {},
   "outputs": [],
   "source": []
  }
 ],
 "metadata": {
  "kernelspec": {
   "display_name": "Python 3 (ipykernel)",
   "language": "python",
   "name": "python3"
  },
  "language_info": {
   "codemirror_mode": {
    "name": "ipython",
    "version": 3
   },
   "file_extension": ".py",
   "mimetype": "text/x-python",
   "name": "python",
   "nbconvert_exporter": "python",
   "pygments_lexer": "ipython3",
   "version": "3.9.15"
  },
  "vscode": {
   "interpreter": {
    "hash": "53e816d343ac3b69abbe00d0113a5825a790940e53acda2e016fe2e76fc78702"
   }
  }
 },
 "nbformat": 4,
 "nbformat_minor": 4
}
