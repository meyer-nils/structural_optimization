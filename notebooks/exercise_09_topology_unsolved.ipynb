{
 "cells": [
  {
   "attachments": {},
   "cell_type": "markdown",
   "metadata": {},
   "source": [
    "# Exercise 09 - Topology optimization for continua\n"
   ]
  },
  {
   "attachments": {},
   "cell_type": "markdown",
   "metadata": {},
   "source": [
    "## Task 1 - Book shelf\n",
    "\n",
    "Let us consider a bookshelf that needs a support structure. The design domain is given by a unit square $x \\in [0, 1]^2$ and a maximum thickness $d_{max}=0.1$. The left boundary of the domain $\\partial \\Omega_D$ is fixed to the wall and the top boundary $\\partial \\Omega_N$ is loaded with a uniform line load representing the weight of books.\n",
    "\n",
    "![Four bar truss](https://meyer-nils.github.io/structural_optimization/figures/domain.png)\n"
   ]
  },
  {
   "cell_type": "code",
   "execution_count": null,
   "metadata": {},
   "outputs": [],
   "source": [
    "import matplotlib.pyplot as plt\n",
    "import torch\n",
    "from torchfem import Planar\n",
    "from torchfem.materials import IsotropicElasticityPlaneStress\n",
    "from torchfem.mesh import rect_quad\n",
    "from tqdm import tqdm\n",
    "\n",
    "torch.set_default_dtype(torch.double)"
   ]
  },
  {
   "attachments": {},
   "cell_type": "markdown",
   "metadata": {},
   "source": [
    "This is the planar FEM model from last exercise with an increased number of elements per direction $N=30$. In addition, we use the solver option `direct=True` to employ a direct method for solving the linear system, which is faster for this application."
   ]
  },
  {
   "cell_type": "code",
   "execution_count": null,
   "metadata": {},
   "outputs": [],
   "source": [
    "# Create nodes and elements for a rectangular mesh\n",
    "N = 10\n",
    "L = 1.0\n",
    "nodes, elements = rect_quad(Nx=N + 1, Ny=N + 1, Lx=L, Ly=L)\n",
    "\n",
    "# Define Material\n",
    "material = IsotropicElasticityPlaneStress(E=1000.0, nu=0.3)\n",
    "\n",
    "# Create model\n",
    "square = Planar(nodes, elements, material)\n",
    "\n",
    "# Define masks for boundary conditions\n",
    "top = nodes[:, 1] == L\n",
    "left = nodes[:, 0] == 0.0\n",
    "right = nodes[:, 0] == L\n",
    "tip = top & right\n",
    "\n",
    "# Load at top\n",
    "square.forces[top, 1] = -1.0 / N\n",
    "square.forces[tip, 1] = -0.5 / N\n",
    "\n",
    "# Constrained displacement at left end\n",
    "square.constraints[left, :] = True\n",
    "\n",
    "# Thickness\n",
    "d = 0.1\n",
    "square.thickness[:] = d\n",
    "\n",
    "# Solve the system\n",
    "u, f, sigma, F, state = square.solve(direct=True)\n",
    "\n",
    "# Compute von Mises stress\n",
    "mises = torch.sqrt(\n",
    "    sigma[:, 0, 0] ** 2\n",
    "    - sigma[:, 0, 0] * sigma[:, 1, 1]\n",
    "    + sigma[:, 1, 1] ** 2\n",
    "    + 3 * sigma[:, 1, 0] ** 2\n",
    ")\n",
    "\n",
    "# Plot the result\n",
    "square.plot(u=u, element_property=mises, cmap=\"inferno\")"
   ]
  },
  {
   "attachments": {},
   "cell_type": "markdown",
   "metadata": {},
   "source": [
    "In addition, you are provided with a function that performs root finding with the bisection method and the computation of element surface areas from previous exercises."
   ]
  },
  {
   "cell_type": "code",
   "execution_count": null,
   "metadata": {},
   "outputs": [],
   "source": [
    "def bisection(f, a, b, max_iter=50, tol=1e-12):\n",
    "    # Bisection method always finds a root, even with highly non-linear grad\n",
    "    i = 0\n",
    "    while (b - a) > tol:\n",
    "        c = (a + b) / 2.0\n",
    "        if i > max_iter:\n",
    "            raise Exception(f\"Bisection did not converge in {max_iter} iterations.\")\n",
    "        if f(a) * f(c) > 0:\n",
    "            a = c\n",
    "        else:\n",
    "            b = c\n",
    "        i += 1\n",
    "    return c"
   ]
  },
  {
   "cell_type": "code",
   "execution_count": null,
   "metadata": {},
   "outputs": [],
   "source": [
    "def compute_areas(truss):\n",
    "    areas = torch.zeros((truss.n_elem))\n",
    "    nodes = truss.nodes[truss.elements, :]\n",
    "    for w, q in zip(truss.etype.iweights(), truss.etype.ipoints()):\n",
    "        J = truss.etype.B(q) @ nodes\n",
    "        detJ = torch.linalg.det(J)\n",
    "        areas[:] += w * detJ\n",
    "    return areas"
   ]
  },
  {
   "attachments": {},
   "cell_type": "markdown",
   "metadata": {},
   "source": [
    "To save material, the bookshelf should use only 40% of the given design space, while being as stiff as possible to support many books without bending. We want to achieve this by topology optimization of the component. \n",
    "\n",
    "To do so, we implement a topology optimization algorithm with *optimality conditions* in a function named `optimize(fem, rho_0, rho_min, rho_max, V_0, iter=100, xi=0.5, m=0.2, p=1.0, r=0.0)` that takes the FEM model `fem`, the initial density distribution `rho_0`, the minimum and maximum thickness distributions `rho_min, rho_max`, the volume constraint, the maximum iteration count `iter` with a default value of 100, a SIMP penalty factor `p` with default 1, and a radius for sensitivity filtering `r` with a default 0.0."
   ]
  },
  {
   "cell_type": "markdown",
   "metadata": {},
   "source": [
    "a) Check if there is a feasible solution, i.e. if the design with minimum density has a volume smaller than the volume constraint. If not, raise an exception. *Hint*: You can compute the volume as the inner product of `rho_min` and the element volumes. \n",
    "\n",
    "b) The filter weights can be precomputed before the optimization loop. Implement the computation of the filter weights if the radius is greater than 0.\n",
    "*Hints*: Start by computing the center of each element and store it in a tensor of shape `(Mx2)` for M elements. Then, compute the distance between each element center using the function `torch.cdist()` and store it in a tensor of shape `(MxM)`. Finally, compute the filter weights using the formula $H_{ij} = \\max(0, r - d_{ij})$.\n",
    "\n",
    "c) Add code that modifies the thickness according to the current design variables and solves the FEM problem in each iteration. \n",
    "*Hints*: You can overwrite `fem.thickness` to set the thickness of the FEM object. You can use the thickness variable to inject the material density into the stiffness calculation and account for the penalty factor in the compliance calculation. \n",
    "\n",
    "d) Compute the sensitivity of the compliance with respect to the design variables. *Hints*: This is equivalent to the compliance sensitivity in the previous exercise, but you need to account for the penalty factor. \n",
    "\n",
    "e) Filter the sensitivity using the filter weights if the radius is greater than 0.\n",
    "\n",
    "f) Define a function `make_step(mu)` that computes the design variable update for a given Lagrange parameter `mu`. *Hints*: Use the formula from the optimality conditions and clamp the result with the move limits. \n",
    "\n",
    "g) Define a function `g(mu)` that evaluates the volume constraint. *Hints*: Use the `make_step` function to compute the design variable update and return the volume constraint violation.\n",
    "\n",
    "h) Use the bisection method to find the Lagrange parameter that satisfies the volume constraint."
   ]
  },
  {
   "cell_type": "code",
   "execution_count": null,
   "metadata": {},
   "outputs": [],
   "source": [
    "def optimize(fem, rho_0, rho_min, rho_max, V_0, iter=50, xi=0.5, m=0.2, p=1.0, r=0.0):\n",
    "    k0 = torch.einsum(\"i,ijk->ijk\", 1.0 / fem.thickness, fem.k0())\n",
    "    rho = [rho_0]\n",
    "    vols = d * fem.areas()\n",
    "\n",
    "    # a) Check if there is a feasible solution before starting iteration\n",
    "\n",
    "    # b) Precompute filter weights\n",
    "    if r > 0.0:\n",
    "        pass\n",
    "\n",
    "    # Iterate solutions\n",
    "    for k in tqdm(range(iter)):\n",
    "        # c) Adjust thickness variables and compute FEM solution\n",
    "\n",
    "        # d) Compute sensitivities\n",
    "\n",
    "        # e) Filter sensitivities (if r provided)\n",
    "        if r > 0.0:\n",
    "            pass\n",
    "\n",
    "        # f) For a certain value of mu, apply the iteration scheme\n",
    "        def make_step(mu):\n",
    "            pass\n",
    "\n",
    "        # g) Constraint function\n",
    "        def g(mu):\n",
    "            pass\n",
    "\n",
    "        # h) Find the root of g(mu)\n",
    "\n",
    "        # Append variable to solution list\n",
    "\n",
    "    return rho"
   ]
  },
  {
   "attachments": {},
   "cell_type": "markdown",
   "metadata": {},
   "source": [
    "i) Set up the initial design variables to $\\rho_0=0.5, \\rho_{min}=0.01, \\rho_{max}=1.0$ for all elements and a volume constraint $V_0= 0.4 V_{max}$ with the maximum design volume $V_{max}$. "
   ]
  },
  {
   "cell_type": "code",
   "execution_count": null,
   "metadata": {},
   "outputs": [],
   "source": [
    "# Initial thickness, minimum thickness, maximum thickness\n",
    "\n",
    "# Initial volume (40% of maximum design volume)"
   ]
  },
  {
   "attachments": {},
   "cell_type": "markdown",
   "metadata": {},
   "source": [
    "j) Perform the optimization with 50 iterations and the following parameters: \n",
    "$$p=3$$\n",
    "$$r=0$$ "
   ]
  },
  {
   "cell_type": "code",
   "execution_count": null,
   "metadata": {},
   "outputs": [],
   "source": []
  },
  {
   "attachments": {},
   "cell_type": "markdown",
   "metadata": {},
   "source": [
    "k) Plot the evolution of design variables vs. iterations. What does the graph tell you?"
   ]
  },
  {
   "cell_type": "code",
   "execution_count": null,
   "metadata": {},
   "outputs": [],
   "source": []
  },
  {
   "attachments": {},
   "cell_type": "markdown",
   "metadata": {},
   "source": [
    "l) Perform the optimization with 100 iterations and the following parameters\n",
    "$$p=3$$\n",
    "$$r=0.05$$ "
   ]
  },
  {
   "cell_type": "code",
   "execution_count": null,
   "metadata": {},
   "outputs": [],
   "source": []
  },
  {
   "attachments": {},
   "cell_type": "markdown",
   "metadata": {},
   "source": [
    "m) How do you interpret the design? Decide which manufacturing process you would like to use and use a CAD software to create a design based on your optimization."
   ]
  },
  {
   "cell_type": "markdown",
   "metadata": {},
   "source": []
  }
 ],
 "metadata": {
  "kernelspec": {
   "display_name": "struct_opt",
   "language": "python",
   "name": "python3"
  },
  "language_info": {
   "codemirror_mode": {
    "name": "ipython",
    "version": 3
   },
   "file_extension": ".py",
   "mimetype": "text/x-python",
   "name": "python",
   "nbconvert_exporter": "python",
   "pygments_lexer": "ipython3",
   "version": "3.12.2"
  }
 },
 "nbformat": 4,
 "nbformat_minor": 4
}
