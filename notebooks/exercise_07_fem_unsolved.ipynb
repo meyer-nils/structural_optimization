{
 "cells": [
  {
   "attachments": {},
   "cell_type": "markdown",
   "metadata": {},
   "source": [
    "# Exercise 07 - Finite element method\n",
    "\n",
    "We use finite elements to discretize a continuous domain and solve the linear elastic problem on this domain in this exercise. \n",
    "\n"
   ]
  },
  {
   "cell_type": "code",
   "execution_count": null,
   "metadata": {},
   "outputs": [],
   "source": [
    "import torch\n",
    "from torchfem import Planar\n",
    "from torchfem.materials import IsotropicElasticityPlaneStress\n",
    "\n",
    "torch.set_default_dtype(torch.double)"
   ]
  },
  {
   "cell_type": "markdown",
   "metadata": {},
   "source": [
    "## Task 1 - Design\n",
    "\n",
    "Design a planar structure with a single surface in a CAD Software of your choice. One option for such a CAD software could be Autodesk Fusion, which is free to use for students. Export the structure as \"*.STEP\" file and add a screenshot of your structure to this notebook."
   ]
  },
  {
   "cell_type": "markdown",
   "metadata": {},
   "source": []
  },
  {
   "cell_type": "markdown",
   "metadata": {},
   "source": [
    "## Task 2 - Mesh\n",
    "\n",
    "To use FEM, we need to mesh the geometry. In this case, we use the open-source software gmsh to perform this task, which needs to be installed first. To do so, we activate our python environment via\n",
    "```bash\n",
    "    conda activate struct_opt\n",
    "``` \n",
    "and install the package gmsh with\n",
    "```bash\n",
    "    pip install gmsh\n",
    "```\n",
    "\n",
    "Adapt the filename and mesh size in the following code to an appropriate value for your problem."
   ]
  },
  {
   "cell_type": "code",
   "execution_count": null,
   "metadata": {},
   "outputs": [],
   "source": [
    "import gmsh\n",
    "\n",
    "# Set gmsh options\n",
    "size = ...\n",
    "filename = ...\n",
    "\n",
    "# Load the geometry and mesh it\n",
    "gmsh.initialize()\n",
    "gmsh.open(filename)\n",
    "gmsh.option.setNumber(\"Mesh.MeshSizeFactor\", size)\n",
    "gmsh.model.mesh.generate(2)\n",
    "\n",
    "# Get nodes\n",
    "_, node_coords, _ = gmsh.model.mesh.getNodes()\n",
    "nodes = torch.tensor(node_coords.reshape(-1, 3)[:, :2])\n",
    "\n",
    "# Get elements\n",
    "_, _, node_tags = gmsh.model.mesh.getElements(dim=2)\n",
    "elements = torch.tensor((node_tags[0].reshape(-1, 3) - 1).astype(int))\n",
    "\n",
    "# Define Material\n",
    "material = IsotropicElasticityPlaneStress(E=1000.0, nu=0.3)\n",
    "\n",
    "# Create the FEM model and visualize it\n",
    "model = Planar(nodes=nodes, elements=elements, material=material)\n",
    "model.plot(axes=True)"
   ]
  },
  {
   "cell_type": "markdown",
   "metadata": {},
   "source": [
    "## Task 3 - Boundary conditions \n",
    "\n",
    "The `Planar` class has similar attributes to the known `Truss` class:\n",
    "- `forces`: Nodal forces acting on nodes (float tensor with shape Nx2). Defaults to 0.0.\n",
    "- `constraints`: Defines for each degree of freedom wether it is constrained (`True`) or not (`False`) (boolean tensor with shape Nx2). Defaults to False.  \n",
    "- `displacements`: Prescribed displacements at nodes (float tensor with shape Nx2). Defaults to 0.0\n",
    "\n",
    "Think about a load case for your structure and apply appropriate boundary conditions."
   ]
  },
  {
   "cell_type": "code",
   "execution_count": null,
   "metadata": {},
   "outputs": [],
   "source": [
    "# Implement boundary conditions here\n",
    "\n",
    "# Plot mesh and loads\n",
    "model.plot()"
   ]
  },
  {
   "cell_type": "markdown",
   "metadata": {},
   "source": [
    "## Task 4 - Solve and postprocessing\n",
    "\n",
    "We solve the problem using the `solve()` function, which is already known from the `Truss` class. The function returns displacements at each node `u`, forces at each node `f`, the stress in each bar `sigma`, the deformation gradient `F`, and a state variable `state`. In this lecture, we can ignore the deformation gradient (useful for large non-linear deformations) and the state (useful for non-linear materials like plasticity)."
   ]
  },
  {
   "cell_type": "code",
   "execution_count": null,
   "metadata": {},
   "outputs": [],
   "source": [
    "u, f, sigma, F, state = model.solve()"
   ]
  },
  {
   "cell_type": "markdown",
   "metadata": {},
   "source": [
    "a) Plot the deformed shape with color indicating the displacement magnitude."
   ]
  },
  {
   "cell_type": "code",
   "execution_count": null,
   "metadata": {},
   "outputs": [],
   "source": [
    "# Implement your solution here"
   ]
  },
  {
   "cell_type": "markdown",
   "metadata": {},
   "source": [
    "b) Compute the v. Mises stress and plot it on the deformed shape with color indicating the stress. "
   ]
  },
  {
   "cell_type": "code",
   "execution_count": null,
   "metadata": {},
   "outputs": [],
   "source": [
    "mises = ..."
   ]
  },
  {
   "cell_type": "code",
   "execution_count": null,
   "metadata": {},
   "outputs": [],
   "source": [
    "# Implement your solution here"
   ]
  }
 ],
 "metadata": {
  "kernelspec": {
   "display_name": "struct_opt",
   "language": "python",
   "name": "python3"
  },
  "language_info": {
   "codemirror_mode": {
    "name": "ipython",
    "version": 3
   },
   "file_extension": ".py",
   "mimetype": "text/x-python",
   "name": "python",
   "nbconvert_exporter": "python",
   "pygments_lexer": "ipython3",
   "version": "3.12.2"
  }
 },
 "nbformat": 4,
 "nbformat_minor": 4
}
