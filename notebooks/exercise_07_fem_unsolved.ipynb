{
 "cells": [
  {
   "attachments": {},
   "cell_type": "markdown",
   "metadata": {},
   "source": [
    "# Exercise 07 - Finite element method\n",
    "\n",
    "We use finite elements to discretize a continuous domain and solve the linear elastic problem on this domain in this exercise. There is a prepared Python class for finite element calculations called `FEM` and you can import it via `from torchfem import FEM`. \n",
    "\n",
    "A finite element model consists of `nodes` (tensor with shape Nx2), `elements`(list with shape Mx4), `forces` (tensor with shape Nx2) acting on nodes, constraints (boolean tensor with shape Nx2) defining for each degree of freedom wether it is constrained (`True`) or not (`False`). In addition, we need to specify the material behavior with Young's modulus `E` and Poisson ration `nu`. These arguments are passed into the `FEM` class to create a new `FEM` object."
   ]
  },
  {
   "cell_type": "code",
   "execution_count": 1,
   "metadata": {},
   "outputs": [],
   "source": [
    "from math import sqrt\n",
    "\n",
    "import torch\n",
    "from torchfem import Planar\n",
    "from torchfem.elements import Quad1\n",
    "from torchfem.materials import IsotropicPlaneStress\n",
    "\n",
    "torch.set_default_dtype(torch.double)"
   ]
  },
  {
   "attachments": {},
   "cell_type": "markdown",
   "metadata": {},
   "source": [
    "## Task 1 - A rectangular plate\n",
    "You should create a unit square FEM model named `square` with $N$ elements per direction, i.e. $N^2$ quad elements in the entire model. All degrees of freedom are constrained at the left hand side of the square and all nodes at the right hand side should experience a force $F=1.0/N$. The Young's modulus is $E=1000.0$ and the Poisson ratio is $\\nu=0.3$. The thickness of all elements is 0.1.\n",
    "\n",
    "a) Create the model and plot it with `square.plot()`."
   ]
  },
  {
   "cell_type": "code",
   "execution_count": 2,
   "metadata": {},
   "outputs": [],
   "source": [
    "# Define Material\n",
    "material = IsotropicPlaneStress(E=1000.0, nu=0.3)\n",
    "\n",
    "# Create nodes\n",
    "N = 10\n",
    "\n",
    "# Create elements connecting nodes\n",
    "\n",
    "# Load at tip\n",
    "\n",
    "# Constrained displacement at left end\n",
    "\n",
    "# Define thickness\n",
    "\n",
    "# Create FEM object and plot"
   ]
  },
  {
   "attachments": {},
   "cell_type": "markdown",
   "metadata": {},
   "source": [
    "b) Solve displacement for this thickness distribution via `u, f = square.solve()`. Plot the displacement magnitude on the deformed mesh with `square.plot(u, node_property=...)`. "
   ]
  },
  {
   "cell_type": "code",
   "execution_count": 3,
   "metadata": {},
   "outputs": [],
   "source": [
    "# Solve the problem\n",
    "\n",
    "# Plot results"
   ]
  },
  {
   "attachments": {},
   "cell_type": "markdown",
   "metadata": {},
   "source": [
    "c) Given an element, define a function `strain(element)` that computes the strain at the center of that element."
   ]
  },
  {
   "cell_type": "code",
   "execution_count": 4,
   "metadata": {},
   "outputs": [],
   "source": [
    "# A quad object contains the shape functions N and B\n",
    "quad = Quad1()\n",
    "\n",
    "\n",
    "def strain(element):\n",
    "    # Extract node positions of element\n",
    "\n",
    "    # Extract displacement degrees of freedom\n",
    "\n",
    "    # Set position of evaluation\n",
    "\n",
    "    # Jacobian\n",
    "\n",
    "    # Compute B\n",
    "\n",
    "    # Compute D\n",
    "\n",
    "    # Compute strain\n",
    "    return\n",
    "\n",
    "\n",
    "# Test with first element"
   ]
  },
  {
   "attachments": {},
   "cell_type": "markdown",
   "metadata": {},
   "source": [
    "d) Using the previous `strain` function, compute stresses in all elements and plot the von Mises stress in the square using the `element_property` argument of the plot function."
   ]
  },
  {
   "cell_type": "code",
   "execution_count": null,
   "metadata": {},
   "outputs": [],
   "source": []
  }
 ],
 "metadata": {
  "kernelspec": {
   "display_name": "Python 3 (ipykernel)",
   "language": "python",
   "name": "python3"
  },
  "language_info": {
   "codemirror_mode": {
    "name": "ipython",
    "version": 3
   },
   "file_extension": ".py",
   "mimetype": "text/x-python",
   "name": "python",
   "nbconvert_exporter": "python",
   "pygments_lexer": "ipython3",
   "version": "3.11.0"
  },
  "vscode": {
   "interpreter": {
    "hash": "53e816d343ac3b69abbe00d0113a5825a790940e53acda2e016fe2e76fc78702"
   }
  }
 },
 "nbformat": 4,
 "nbformat_minor": 4
}
