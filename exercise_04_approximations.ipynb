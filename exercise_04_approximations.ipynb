{
 "cells": [
  {
   "attachments": {},
   "cell_type": "markdown",
   "metadata": {},
   "source": [
    "# 4 Local approximations\n",
    "\n",
    "\n",
    "The volume of a four-bar truss should be minimized under the displacement constraint $\\delta \\le \\delta_0$. There is a force $P>0$ and all bars have identical lengths $l$ and identical Young's moduli $E$. The modifiable structural variables are the cross sectional areas $A_1=A_4$ and $A_2=A_3$. We define $A_0 = Pl / (10\\delta_0E)$ and constrain the variables $0.2A_0 \\le A_j \\le 2.5 A_0$. Then we can use dimensionless design variables $a_j=A_j/A_0 \\in [0.2, 2.5]$.\n",
    "\n",
    "\n",
    "![Four bar truss](figures/four_bar_truss.png)\n",
    "\n",
    "\n",
    "Credits: Peter W. Christensen and Anders Klarbring. *An Introduction to Structural Optimization.* Springer Netherlands, 2008."
   ]
  },
  {
   "cell_type": "code",
   "execution_count": 4,
   "metadata": {},
   "outputs": [],
   "source": [
    "import torch"
   ]
  },
  {
   "attachments": {},
   "cell_type": "markdown",
   "metadata": {},
   "source": [
    "## Task 1 - Defining the constrained optimization problem\n",
    "\n",
    "a) Compute the objective function $f(\\mathbf{a})$ that should be minimized and define it as Python function that accepts inputs tensors of the shape [..., 2].\n"
   ]
  },
  {
   "attachments": {},
   "cell_type": "markdown",
   "metadata": {},
   "source": [
    "> The total volume is \n",
    "> $$ V = l A_1 + l A_2 + l A_3 + l A_4 = 2l A_1 + 2l A_2.$$\n",
    "> Substituting $A_j = a_j A_0$ gives \n",
    "> $$ V = 2l A_0 (a_1 + a_2).$$\n",
    "> The factor in front of the brackets is a positive constant, which we can neglect for the optimization task itself. Hence, we can simplify the function to\n",
    "> $$f(\\mathbf{a}) = a_1 + a_2.$$"
   ]
  },
  {
   "cell_type": "code",
   "execution_count": 5,
   "metadata": {},
   "outputs": [],
   "source": [
    "def f(a):\n",
    "    return a[..., 0] + a[..., 1]"
   ]
  },
  {
   "attachments": {},
   "cell_type": "markdown",
   "metadata": {},
   "source": [
    "b) Compute the constraint function $g(\\mathbf{a})$ for $\\delta_0=0.1$ and define it as Python function that accepts inputs tensors of the shape [..., 2]."
   ]
  },
  {
   "attachments": {},
   "cell_type": "markdown",
   "metadata": {},
   "source": [
    "> A free body diagram of the free node gives \n",
    "> $$ - \\frac{4}{5} P_1 - \\frac{3}{5} P_2 + \\frac{3}{5}P_3 + \\frac{4}{5} P_4 + \\frac{3}{5} P = 0 $$\n",
    "> $$ \\frac{3}{5} P_1 + \\frac{4}{5} P_2 + \\frac{4}{5}P_3 + \\frac{3}{5} P_4 + \\frac{4}{5} P = 0 $$\n",
    "> In addition, the kinematics give us the following relation for the elongation of each bar $\\Delta u_j$:\n",
    "> $$ \\frac{4}{5} u_1 - \\frac{3}{5} u_2 = \\Delta u_1 $$\n",
    "> $$ \\frac{3}{5} u_1 - \\frac{4}{5} u_2 = \\Delta u_2 $$\n",
    "> $$ -\\frac{3}{5} u_1 - \\frac{4}{5} u_2 = \\Delta u_3 $$\n",
    "> $$ -\\frac{4}{5} u_1 - \\frac{3}{5} u_2 = \\Delta u_4 $$\n",
    "> Finally, we also have a elastic relation for each bar: \n",
    "> $$P_1 = E A_1 \\frac{\\Delta u_1}{l}$$\n",
    "> $$P_2 = E A_2 \\frac{\\Delta u_2}{l}$$\n",
    "> $$P_3 = E A_3 \\frac{\\Delta u_3}{l}$$\n",
    "> $$P_4 = E A_4 \\frac{\\Delta u_4}{l}$$\n"
   ]
  },
  {
   "cell_type": "code",
   "execution_count": 6,
   "metadata": {},
   "outputs": [],
   "source": [
    "def g(a):\n",
    "    return (\n",
    "        8 / (16 * a[..., 0] + 9 * a[..., 1])\n",
    "        - 4.5 / (9 * a[..., 0] + 16 * a[..., 1])\n",
    "        - 0.1\n",
    "    )"
   ]
  },
  {
   "attachments": {},
   "cell_type": "markdown",
   "metadata": {},
   "source": [
    "c) Summarize the optimization problem statement with all constraints. "
   ]
  },
  {
   "attachments": {},
   "cell_type": "markdown",
   "metadata": {},
   "source": [
    "## Task 2 - CONLIN\n",
    "\n",
    "a) Implement a function named `CONLIN(func, a_k, a)`\n"
   ]
  },
  {
   "cell_type": "code",
   "execution_count": 7,
   "metadata": {},
   "outputs": [],
   "source": [
    "def CONLIN(func, a_k, a):\n",
    "    a_lin = a_k.clone().requires_grad_()\n",
    "    grads = torch.autograd.grad(func(a_lin).sum(), a_lin)[0]\n",
    "    res = func(a_k) * torch.ones_like(a[..., 0])\n",
    "    for i, grad in enumerate(grads):\n",
    "        if grad < 0:\n",
    "            gamma = a_k[i] / a[..., i]\n",
    "        else:\n",
    "            gamma = 1\n",
    "        res += grad * gamma * (a[..., i] - a_k[i])\n",
    "    return res"
   ]
  }
 ],
 "metadata": {
  "kernelspec": {
   "display_name": "pytorch",
   "language": "python",
   "name": "python3"
  },
  "language_info": {
   "codemirror_mode": {
    "name": "ipython",
    "version": 3
   },
   "file_extension": ".py",
   "mimetype": "text/x-python",
   "name": "python",
   "nbconvert_exporter": "python",
   "pygments_lexer": "ipython3",
   "version": "3.9.15"
  },
  "orig_nbformat": 4
 },
 "nbformat": 4,
 "nbformat_minor": 2
}
