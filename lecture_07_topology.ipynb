{
 "cells": [
  {
   "cell_type": "code",
   "execution_count": 9,
   "metadata": {},
   "outputs": [],
   "source": [
    "import torch\n",
    "from math import sqrt\n",
    "from simple_fem import get_cantilever"
   ]
  },
  {
   "attachments": {},
   "cell_type": "markdown",
   "metadata": {},
   "source": [
    "## Define the cantilever problem"
   ]
  },
  {
   "cell_type": "code",
   "execution_count": 10,
   "metadata": {},
   "outputs": [
    {
     "data": {
      "image/png": "[encoded data removed]",
      "text/plain": [
       "<Figure size 640x480 with 1 Axes>"
      ]
     },
     "metadata": {},
     "output_type": "display_data"
    }
   ],
   "source": [
    "import matplotlib.pyplot as plt\n",
    "\n",
    "cantilever = get_cantilever(1.0, 15.0, 7.0)\n",
    "cantilever.plot()\n"
   ]
  },
  {
   "attachments": {},
   "cell_type": "markdown",
   "metadata": {},
   "source": [
    "## Optimization with MMA"
   ]
  },
  {
   "cell_type": "code",
   "execution_count": 11,
   "metadata": {},
   "outputs": [],
   "source": [
    "def bisection(f, a, b, max_iter=50, tol=1e-10):\n",
    "    # Bisection method always finds a root, even with highly non-linear grad\n",
    "    i = 0\n",
    "    while (b - a) > tol:\n",
    "        c = (a + b) / 2.0\n",
    "        if i > max_iter:\n",
    "            raise Exception(f\"Bisection did not converge in {max_iter} iterations.\")\n",
    "        if f(a) * f(c) > 0:\n",
    "            a = c\n",
    "        else:\n",
    "            b = c\n",
    "        i += 1\n",
    "    return c\n",
    "\n",
    "\n",
    "def optimize_mma(fem, d_0, d_min, d_max, V_0, iter=15, s=0.7):\n",
    "    d = [d_0]\n",
    "    L = []\n",
    "    a = fem.areas()\n",
    "\n",
    "    # Check if there is a feasible solution before starting iteration\n",
    "    if torch.inner(d_min, a) > V_0 * torch.inner(d_max, a):\n",
    "        raise Exception(\"x_min is not compatible with V_0.\")\n",
    "\n",
    "    # Iterate solutions\n",
    "    for k in range(iter):\n",
    "        # Solve the problem at point x_k\n",
    "        u_k, f_k = fem.solve(d[k])\n",
    "\n",
    "        # Get strain energy of all elements for the given displacement\n",
    "        w_k = fem.element_strain_energies(u_k)\n",
    "\n",
    "        # Compute lower asymptote\n",
    "        if k <= 1:\n",
    "            L_k = d[k] - s * (d_max - d_min)\n",
    "        else:\n",
    "            L_k = torch.zeros_like(L[k - 1])\n",
    "            for j in range(len(L_k)):\n",
    "                if (d[k][j] - d[k - 1][j]) * (d[k - 1][j] - d[k - 2][j]) < 0.0:\n",
    "                    L_k[j] = d[k][j] - s * (d[k - 1][j] - L[k - 1][j])\n",
    "                else:\n",
    "                    L_k[j] = d[k][j] - 1 / sqrt(s) * (d[k - 1][j] - L[k - 1][j])\n",
    "        L.append(L_k)\n",
    "\n",
    "        # Compute lower move limit in this step\n",
    "        d_min_k = torch.maximum(d_min, 0.9 * L[k] + 0.1 * d[k])\n",
    "\n",
    "        # Analytical solution\n",
    "        def d_star(mu):\n",
    "            EPS = 1e-15\n",
    "            d_hat = L[k] + torch.sqrt(\n",
    "                (2 * w_k * (L[k] - d[k]) ** 2 + EPS) / (mu * a + EPS)\n",
    "            )\n",
    "            return torch.maximum(torch.minimum(d_hat, d_max), d_min_k)\n",
    "\n",
    "        # Analytical gradient\n",
    "        def grad(mu):\n",
    "            return torch.dot(d_star(mu), a) - V_0 * torch.dot(d_max, a)\n",
    "\n",
    "        # Solve dual problem\n",
    "        mu_star = bisection(grad, 0.0, 100.0)\n",
    "\n",
    "        # Evaluation\n",
    "        compliance = torch.inner(f_k.ravel(), u_k.ravel())\n",
    "        print(f\"Iteration k={k} - Compliance: {compliance:.5f}\")\n",
    "\n",
    "        # Compute current optimal point with dual solution\n",
    "        d.append(d_star(mu_star))\n",
    "\n",
    "    return d\n"
   ]
  },
  {
   "cell_type": "code",
   "execution_count": 12,
   "metadata": {},
   "outputs": [
    {
     "name": "stdout",
     "output_type": "stream",
     "text": [
      "Iteration k=0 - Compliance: 0.41546\n",
      "Iteration k=1 - Compliance: 0.73032\n",
      "Iteration k=2 - Compliance: 0.60504\n",
      "Iteration k=3 - Compliance: 0.60021\n",
      "Iteration k=4 - Compliance: 0.59653\n",
      "Iteration k=5 - Compliance: 0.59444\n",
      "Iteration k=6 - Compliance: 0.59382\n",
      "Iteration k=7 - Compliance: 0.59366\n",
      "Iteration k=8 - Compliance: 0.59360\n",
      "Iteration k=9 - Compliance: 0.59358\n",
      "Iteration k=10 - Compliance: 0.59357\n",
      "Iteration k=11 - Compliance: 0.59357\n",
      "Iteration k=12 - Compliance: 0.59357\n",
      "Iteration k=13 - Compliance: 0.59357\n",
      "Iteration k=14 - Compliance: 0.59357\n"
     ]
    },
    {
     "data": {
      "image/png": "[encoded data removed]",
      "text/plain": [
       "<Figure size 640x480 with 1 Axes>"
      ]
     },
     "metadata": {},
     "output_type": "display_data"
    }
   ],
   "source": [
    "d_0 = torch.ones(cantilever.elements.shape[0])\n",
    "d_min = 0.1 * torch.ones_like(d_0)\n",
    "d_max = 1.0 * torch.ones_like(d_0)\n",
    "V0 = 0.5\n",
    "\n",
    "d_opt = optimize_mma(cantilever, d_0, d_min, d_max, V0)\n",
    "cantilever.plot(element_property=d_opt[-1])\n",
    "plt.savefig(\"figures/cantilever_fem_optimized.pdf\", transparent=True, bbox_inches=\"tight\")"
   ]
  },
  {
   "attachments": {},
   "cell_type": "markdown",
   "metadata": {},
   "source": [
    "## Optimization with optimality conditions"
   ]
  },
  {
   "cell_type": "code",
   "execution_count": 13,
   "metadata": {},
   "outputs": [],
   "source": [
    "def optimize_oc(fem, d_0, d_min, d_max, V_0, iter=15, xi=0.5, m=0.5, p=1):\n",
    "    d = [d_0]\n",
    "    areas = fem.areas()\n",
    "\n",
    "    # Check if there is a feasible solution before starting iteration\n",
    "    if torch.inner(d_min, areas) > V_0 * torch.inner(d_max, areas):\n",
    "        raise Exception(\"x_min is not compatible with V_0.\")\n",
    "\n",
    "    # Iterate solutions\n",
    "    for k in range(iter):\n",
    "        u_k, f_k = fem.solve(d[k])\n",
    "        w_k = fem.element_strain_energies(u_k)\n",
    "\n",
    "        def make_step(mu):\n",
    "            d_k = d[k].clone()\n",
    "            G_k = p*d_k**(p-1) * w_k / (mu * areas)\n",
    "            upper = torch.min(d_max, (1 + m) * d_k)\n",
    "            lower = torch.max(d_min, (1 - m) * d_k)\n",
    "            d_trial = G_k**xi * d_k\n",
    "            return torch.maximum(torch.minimum(d_trial, upper), lower)\n",
    "\n",
    "        def g(mu):\n",
    "            d_k = make_step(mu)\n",
    "            return torch.dot(d_k, areas) - V_0 * torch.dot(d_max, areas)\n",
    "\n",
    "        mu = bisection(g, 0.00001, 0.2, tol=1e-15)\n",
    "\n",
    "        # Evaluation\n",
    "        compliance = torch.inner(f_k.ravel(), u_k.ravel())\n",
    "        print(f\"Iteration k={k} - Compliance: {compliance:.5f}\")\n",
    "\n",
    "        d.append(make_step(mu))\n",
    "\n",
    "    return d"
   ]
  },
  {
   "cell_type": "code",
   "execution_count": 14,
   "metadata": {},
   "outputs": [
    {
     "name": "stdout",
     "output_type": "stream",
     "text": [
      "Iteration k=0 - Compliance: 0.41546\n",
      "Iteration k=1 - Compliance: 0.83091\n",
      "Iteration k=2 - Compliance: 0.66287\n",
      "Iteration k=3 - Compliance: 0.60395\n",
      "Iteration k=4 - Compliance: 0.59620\n",
      "Iteration k=5 - Compliance: 0.59460\n",
      "Iteration k=6 - Compliance: 0.59408\n",
      "Iteration k=7 - Compliance: 0.59385\n",
      "Iteration k=8 - Compliance: 0.59373\n",
      "Iteration k=9 - Compliance: 0.59367\n",
      "Iteration k=10 - Compliance: 0.59363\n",
      "Iteration k=11 - Compliance: 0.59360\n",
      "Iteration k=12 - Compliance: 0.59359\n",
      "Iteration k=13 - Compliance: 0.59358\n",
      "Iteration k=14 - Compliance: 0.59357\n"
     ]
    },
    {
     "data": {
      "image/png": "[encoded data removed]",
      "text/plain": [
       "<Figure size 640x480 with 1 Axes>"
      ]
     },
     "metadata": {},
     "output_type": "display_data"
    }
   ],
   "source": [
    "d_opt = optimize_oc(cantilever, d_0, d_min, d_max, V0)\n",
    "cantilever.plot(element_property=d_opt[-1])"
   ]
  },
  {
   "attachments": {},
   "cell_type": "markdown",
   "metadata": {},
   "source": [
    "## Optimizing a larger structure"
   ]
  },
  {
   "cell_type": "code",
   "execution_count": 15,
   "metadata": {},
   "outputs": [
    {
     "name": "stdout",
     "output_type": "stream",
     "text": [
      "Iteration k=0 - Compliance: 0.35912\n",
      "Iteration k=1 - Compliance: 0.71825\n",
      "Iteration k=2 - Compliance: 0.57274\n",
      "Iteration k=3 - Compliance: 0.51913\n",
      "Iteration k=4 - Compliance: 0.51305\n",
      "Iteration k=5 - Compliance: 0.51160\n",
      "Iteration k=6 - Compliance: 0.51098\n",
      "Iteration k=7 - Compliance: 0.51064\n",
      "Iteration k=8 - Compliance: 0.51043\n",
      "Iteration k=9 - Compliance: 0.51027\n",
      "Iteration k=10 - Compliance: 0.51017\n",
      "Iteration k=11 - Compliance: 0.51009\n",
      "Iteration k=12 - Compliance: 0.51003\n",
      "Iteration k=13 - Compliance: 0.50999\n",
      "Iteration k=14 - Compliance: 0.50995\n",
      "Iteration k=15 - Compliance: 0.50993\n",
      "Iteration k=16 - Compliance: 0.50990\n",
      "Iteration k=17 - Compliance: 0.50988\n",
      "Iteration k=18 - Compliance: 0.50986\n",
      "Iteration k=19 - Compliance: 0.50985\n",
      "Iteration k=20 - Compliance: 0.50984\n",
      "Iteration k=21 - Compliance: 0.50983\n",
      "Iteration k=22 - Compliance: 0.50982\n",
      "Iteration k=23 - Compliance: 0.50981\n",
      "Iteration k=24 - Compliance: 0.50980\n"
     ]
    },
    {
     "data": {
      "image/png": "[encoded data removed]",
      "text/plain": [
       "<Figure size 640x480 with 1 Axes>"
      ]
     },
     "metadata": {},
     "output_type": "display_data"
    }
   ],
   "source": [
    "large_cantilever = get_cantilever(1.0, 40.0, 20.0)\n",
    "\n",
    "d_0 = torch.ones(large_cantilever.elements.shape[0])\n",
    "d_min = 0.1 * torch.ones_like(d_0)\n",
    "d_max = 1.0 * torch.ones_like(d_0)\n",
    "V0 = 0.5\n",
    "d_opt = optimize_oc(large_cantilever, d_0, d_min, d_max, V0, p=1, iter=30)\n",
    "large_cantilever.plot(element_property=d_opt[-1])"
   ]
  },
  {
   "attachments": {},
   "cell_type": "markdown",
   "metadata": {},
   "source": [
    "## SIMP approach for binarization"
   ]
  },
  {
   "cell_type": "code",
   "execution_count": 17,
   "metadata": {},
   "outputs": [
    {
     "name": "stdout",
     "output_type": "stream",
     "text": [
      "Iteration k=0 - Compliance: 0.35912\n",
      "Iteration k=1 - Compliance: 0.71825\n",
      "Iteration k=2 - Compliance: 0.57274\n",
      "Iteration k=3 - Compliance: 0.52614\n",
      "Iteration k=4 - Compliance: 0.52328\n",
      "Iteration k=5 - Compliance: 0.52251\n",
      "Iteration k=6 - Compliance: 0.52276\n",
      "Iteration k=7 - Compliance: 0.52399\n",
      "Iteration k=8 - Compliance: 0.52660\n",
      "Iteration k=9 - Compliance: 0.52971\n",
      "Iteration k=10 - Compliance: 0.53086\n",
      "Iteration k=11 - Compliance: 0.53176\n",
      "Iteration k=12 - Compliance: 0.53279\n",
      "Iteration k=13 - Compliance: 0.53391\n",
      "Iteration k=14 - Compliance: 0.53545\n",
      "Iteration k=15 - Compliance: 0.53728\n",
      "Iteration k=16 - Compliance: 0.53862\n",
      "Iteration k=17 - Compliance: 0.53989\n",
      "Iteration k=18 - Compliance: 0.54099\n",
      "Iteration k=19 - Compliance: 0.54149\n",
      "Iteration k=20 - Compliance: 0.54160\n",
      "Iteration k=21 - Compliance: 0.54171\n",
      "Iteration k=22 - Compliance: 0.54191\n",
      "Iteration k=23 - Compliance: 0.54206\n",
      "Iteration k=24 - Compliance: 0.54217\n",
      "Iteration k=25 - Compliance: 0.54241\n",
      "Iteration k=26 - Compliance: 0.54270\n",
      "Iteration k=27 - Compliance: 0.54326\n",
      "Iteration k=28 - Compliance: 0.54385\n",
      "Iteration k=29 - Compliance: 0.54440\n"
     ]
    },
    {
     "data": {
      "image/png": "[encoded data removed]",
      "text/plain": [
       "<Figure size 640x480 with 1 Axes>"
      ]
     },
     "metadata": {},
     "output_type": "display_data"
    }
   ],
   "source": [
    "d_opt = optimize_oc(large_cantilever, d_0, d_min, d_max, V0, p=2, iter=30)\n",
    "large_cantilever.plot(element_property=d_opt[-1])"
   ]
  }
 ],
 "metadata": {
  "kernelspec": {
   "display_name": "Python 3 (ipykernel)",
   "language": "python",
   "name": "python3"
  },
  "language_info": {
   "codemirror_mode": {
    "name": "ipython",
    "version": 3
   },
   "file_extension": ".py",
   "mimetype": "text/x-python",
   "name": "python",
   "nbconvert_exporter": "python",
   "pygments_lexer": "ipython3",
   "version": "3.9.15"
  },
  "vscode": {
   "interpreter": {
    "hash": "53e816d343ac3b69abbe00d0113a5825a790940e53acda2e016fe2e76fc78702"
   }
  }
 },
 "nbformat": 4,
 "nbformat_minor": 4
}
