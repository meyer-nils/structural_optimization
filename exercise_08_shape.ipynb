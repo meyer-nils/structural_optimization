{
 "cells": [
  {
   "attachments": {},
   "cell_type": "markdown",
   "metadata": {},
   "source": [
    "# Exercise 08 - Shape optimization\n",
    "\n",
    "Shape optimization means that given a fixed topology of a truss, we want optimize its stiffness by modifying some node positions. In this particular example, we investigate the optimal shape of a railway bridge like in the photograph here:\n",
    "\n",
    "![Bridge](figures/bridge.jpeg)\n"
   ]
  },
  {
   "cell_type": "code",
   "execution_count": 27,
   "metadata": {},
   "outputs": [],
   "source": [
    "from math import sqrt\n",
    "import torch\n",
    "import matplotlib.pyplot as plt\n",
    "from simple_truss import Truss\n",
    "\n",
    "torch.set_default_dtype(torch.double)"
   ]
  },
  {
   "attachments": {},
   "cell_type": "markdown",
   "metadata": {},
   "source": [
    "So let's start by defining the base truss topology of the bridge without considering the exact shape for now. We create a simple rectangular bridge that has all the bars seen in the photo. The truss is fixed at the bottom left side and simply supported at the bottom right side. The load is distributed along the bottom edge of the bridge, which represents the train track."
   ]
  },
  {
   "cell_type": "code",
   "execution_count": 28,
   "metadata": {},
   "outputs": [
    {
     "data": {
      "image/png": "[encoded data removed]",
      "text/plain": [
       "<Figure size 640x480 with 1 Axes>"
      ]
     },
     "metadata": {},
     "output_type": "display_data"
    }
   ],
   "source": [
    "# Dimensions\n",
    "A = 17\n",
    "B = 2\n",
    "\n",
    "# Nodes\n",
    "n1 = torch.linspace(0.0, 5.0, A)\n",
    "n2 = torch.linspace(0.0, 0.5, B)\n",
    "n1, n2 = torch.stack(torch.meshgrid(n1, n2, indexing=\"xy\"))\n",
    "nodes = torch.stack([n1.ravel(), n2.ravel()], dim=1)\n",
    "\n",
    "# Elements\n",
    "elements = [] \n",
    "for i in range(A - 1):\n",
    "    for j in range(B):\n",
    "        elements.append([i + j * A, i + 1 + j * A])\n",
    "for i in range(A):\n",
    "    for j in range(B - 1):\n",
    "        elements.append([i  + j * A, i  + A + j * A])\n",
    "for i in range(A - 1):\n",
    "    for j in range(B - 1):\n",
    "        if i >= (A-1)/2:\n",
    "            elements.append([i + j * A, i + 1 + A + j * A])\n",
    "        else:\n",
    "            elements.append([i + 1 + j * A, i + A + j * A])\n",
    "\n",
    "# Forces at bottom edge\n",
    "forces = torch.zeros_like(nodes)\n",
    "forces[1:A-1, 1] = -0.1\n",
    "\n",
    "# Constraints by the supports\n",
    "constraints = torch.zeros_like(nodes, dtype=bool)\n",
    "constraints[0, 0] = True\n",
    "constraints[0, 1] = True\n",
    "constraints[A-1, 1] = True  \n",
    "\n",
    "# Areas\n",
    "areas = torch.ones((len(elements)))\n",
    "\n",
    "# Truss\n",
    "bridge = Truss(nodes.clone(), elements, forces, constraints, areas, E=500.0)\n",
    "bridge.plot()"
   ]
  },
  {
   "attachments": {},
   "cell_type": "markdown",
   "metadata": {},
   "source": [
    "## Task 1 - Preparation of design variables\n",
    "\n",
    "We want to restrict the shape optimization problem to the vertical displacement of the top nodes. Other nodes should not be modified - the train track should remain a flat line.\n",
    "\n",
    "a) Create a boolean tensor `mask` of the same shape as `nodes`. It should be `True` for the vertical degree of freedom of the top nodes and `False` for every other degree of freedom. Essentially it should mask out those nodal degrees of freedom which should be optimized.\n",
    "\n",
    "b) Create initial values `x_0` of the masked top node positions. Set limits to the deformation (`x_min`, `x_max`) such that nodes can move down by 0.4 and up by 0.5 units.\n",
    "\n",
    "c) Compute the current volume of the truss `V0`. We will use this as a constraint in the optimization problem such that the optimized solution does not exceed this initial volume."
   ]
  },
  {
   "cell_type": "code",
   "execution_count": 29,
   "metadata": {},
   "outputs": [],
   "source": [
    "# Mask for design variables.\n",
    "mask = torch.zeros_like(nodes, dtype=bool)\n",
    "mask[A:2*A, 1] = True\n",
    "\n",
    "# Limits on design variables\n",
    "x_0 = nodes[mask].ravel()\n",
    "x_min = x_0 - 0.4\n",
    "x_max = x_0 + 0.5\n",
    "\n",
    "# Compute current volume\n",
    "l = bridge.element_lengths()\n",
    "V0 = torch.inner(areas, l)"
   ]
  },
  {
   "attachments": {},
   "cell_type": "markdown",
   "metadata": {},
   "source": [
    "## Task 2 - Optimization\n",
    "\n",
    "...."
   ]
  },
  {
   "cell_type": "code",
   "execution_count": 30,
   "metadata": {},
   "outputs": [],
   "source": [
    "def box_constrained_decent(\n",
    "    func, x_init, x_lower, x_upper, eta=0.1, max_iter=100, **extra_args\n",
    "):\n",
    "    x = x_init.clone().requires_grad_()\n",
    "    for _ in range(max_iter):\n",
    "        grad = torch.autograd.grad(func(x, **extra_args).sum(), x)[0]\n",
    "        x = x - eta * grad\n",
    "        x = torch.max(torch.min(x, x_upper), x_lower)\n",
    "    return x"
   ]
  },
  {
   "cell_type": "code",
   "execution_count": 31,
   "metadata": {},
   "outputs": [],
   "source": [
    "def MMA(func, x_k, L_k, U_k):\n",
    "    x_lin = x_k.clone().requires_grad_()\n",
    "    grads = torch.autograd.grad(func(x_lin).sum(), x_lin)[0]\n",
    "    f_k = func(x_k)\n",
    "\n",
    "    def approximation(x):\n",
    "        res = f_k * torch.ones_like(x[..., 0])\n",
    "        for j, grad in enumerate(grads):\n",
    "            if grad < 0.0:\n",
    "                p = 0\n",
    "                q = -((x_k[j] - L_k[j]) ** 2) * grad\n",
    "            else:\n",
    "                p = (U_k[j] - x_k[j]) ** 2 * grad\n",
    "                q = 0\n",
    "            res -= p / (U_k[j] - x_k[j]) + q / (x_k[j] - L_k[j])\n",
    "            res += p / (U_k[j] - x[..., j]) + q / (x[..., j] - L_k[j])\n",
    "        return res\n",
    "\n",
    "    return approximation"
   ]
  },
  {
   "cell_type": "code",
   "execution_count": 32,
   "metadata": {},
   "outputs": [],
   "source": [
    "def optimize(truss, x_0, x_min, x_max, V_0, mask, iter):\n",
    "    L = []\n",
    "    U = []\n",
    "    s = 0.7\n",
    "\n",
    "    x = [x_0]\n",
    "\n",
    "    # Define the initial value, lower bound, and upper bound of \"mu\"\n",
    "    mu_0 = torch.tensor([0.01])\n",
    "    mu_lower = torch.tensor([0.0])\n",
    "    mu_upper = torch.tensor([100.0])\n",
    "\n",
    "    def f(xx):\n",
    "        # Solve the truss problem at point x_k\n",
    "        truss.nodes[mask] = xx.reshape(truss.nodes[mask].shape)\n",
    "        u_k, f_k, _ = truss.solve()\n",
    "        return torch.inner(f_k.ravel(), u_k.ravel())\n",
    "\n",
    "    def g(xx):\n",
    "        truss.nodes[mask] = xx.reshape(truss.nodes[mask].shape)\n",
    "        return torch.inner(truss.areas, truss.element_lengths()) - V_0\n",
    "\n",
    "    # Iterate solutions\n",
    "    for k in range(iter):\n",
    "        # Update asymptotes with heuristic procedure\n",
    "        if k > 1:\n",
    "            L_k = torch.zeros_like(L[k - 1])\n",
    "            U_k = torch.zeros_like(U[k - 1])\n",
    "            for j in range(len(L_k)):\n",
    "                if (x[k][j] - x[k - 1][j]) * (x[k - 1][j] - x[k - 2][j]) < 0.0:\n",
    "                    L_k[j] = x[k][j] - s * (x[k - 1][j] - L[k - 1][j])\n",
    "                    U_k[j] = x[k][j] + s * (U[k - 1][j] - x[k - 1][j])\n",
    "                else:\n",
    "                    L_k[j] = x[k][j] - 1.0 / sqrt(s) * (x[k - 1][j] - L[k - 1][j])\n",
    "                    U_k[j] = x[k][j] + 1.0 / sqrt(s) * (U[k - 1][j] - x[k - 1][j])\n",
    "            L.append(L_k)\n",
    "            U.append(U_k)\n",
    "        else:\n",
    "            L.append(x[k] - s * (x_max - x_min))\n",
    "            U.append(x[k] + s * (x_max - x_min))\n",
    "\n",
    "        # Compute lower move limit in this step\n",
    "        x_min_k = torch.maximum(x_min, 0.9 * L[k] + 0.1 * x[k])\n",
    "        x_max_k = torch.minimum(x_max, 0.9 * U[k] + 0.1 * x[k])\n",
    "\n",
    "        # Compute the current approximation function:\n",
    "        f_tilde = MMA(f, x[k], L[k], U[k])\n",
    "        g_tilde = MMA(g, x[k], L[k], U[k])\n",
    "\n",
    "        # Define the Lagrangian\n",
    "        def lagrangian(xx, mu):\n",
    "            return f_tilde(xx) + mu * g_tilde(xx)\n",
    "\n",
    "        # Define a_star by minimizing the Lagrangian w. r. t. a\n",
    "        def x_star(mu):\n",
    "            return box_constrained_decent(\n",
    "                lagrangian, x[k], x_min_k, x_max_k, mu=mu\n",
    "            )\n",
    "\n",
    "        # Define (-1 times) the dual function\n",
    "        def dual_function(mu):\n",
    "            return -lagrangian(x_star(mu), mu)\n",
    "\n",
    "        # Compute the maximum of the dual function\n",
    "        mu_star = box_constrained_decent(\n",
    "            dual_function, mu_0, mu_lower, mu_upper, eta=0.001\n",
    "        )\n",
    "\n",
    "        # Compute current optimal point with dual solution\n",
    "        x.append(x_star(mu_star))\n",
    "\n",
    "    return x"
   ]
  },
  {
   "cell_type": "code",
   "execution_count": 33,
   "metadata": {},
   "outputs": [
    {
     "ename": "KeyboardInterrupt",
     "evalue": "",
     "output_type": "error",
     "traceback": [
      "\u001b[0;31m---------------------------------------------------------------------------\u001b[0m",
      "\u001b[0;31mKeyboardInterrupt\u001b[0m                         Traceback (most recent call last)",
      "Cell \u001b[0;32mIn[33], line 1\u001b[0m\n\u001b[0;32m----> 1\u001b[0m x_opt \u001b[39m=\u001b[39m optimize(bridge, x_0, x_min, x_max, V0, mask, \u001b[39miter\u001b[39;49m\u001b[39m=\u001b[39;49m\u001b[39m25\u001b[39;49m)\n\u001b[1;32m      2\u001b[0m plt\u001b[39m.\u001b[39mplot(torch\u001b[39m.\u001b[39mstack(x_opt)\u001b[39m.\u001b[39mdetach())\n",
      "Cell \u001b[0;32mIn[32], line 65\u001b[0m, in \u001b[0;36moptimize\u001b[0;34m(truss, x_0, x_min, x_max, V_0, mask, iter)\u001b[0m\n\u001b[1;32m     62\u001b[0m     \u001b[39mreturn\u001b[39;00m \u001b[39m-\u001b[39mlagrangian(x_star(mu), mu)\n\u001b[1;32m     64\u001b[0m \u001b[39m# Compute the maximum of the dual function\u001b[39;00m\n\u001b[0;32m---> 65\u001b[0m mu_star \u001b[39m=\u001b[39m box_constrained_decent(\n\u001b[1;32m     66\u001b[0m     dual_function, mu_0, mu_lower, mu_upper, eta\u001b[39m=\u001b[39;49m\u001b[39m0.001\u001b[39;49m\n\u001b[1;32m     67\u001b[0m )\n\u001b[1;32m     69\u001b[0m \u001b[39m# Compute current optimal point with dual solution\u001b[39;00m\n\u001b[1;32m     70\u001b[0m x\u001b[39m.\u001b[39mappend(x_star(mu_star))\n",
      "Cell \u001b[0;32mIn[30], line 6\u001b[0m, in \u001b[0;36mbox_constrained_decent\u001b[0;34m(func, x_init, x_lower, x_upper, eta, max_iter, **extra_args)\u001b[0m\n\u001b[1;32m      4\u001b[0m x \u001b[39m=\u001b[39m x_init\u001b[39m.\u001b[39mclone()\u001b[39m.\u001b[39mrequires_grad_()\n\u001b[1;32m      5\u001b[0m \u001b[39mfor\u001b[39;00m _ \u001b[39min\u001b[39;00m \u001b[39mrange\u001b[39m(max_iter):\n\u001b[0;32m----> 6\u001b[0m     grad \u001b[39m=\u001b[39m torch\u001b[39m.\u001b[39mautograd\u001b[39m.\u001b[39mgrad(func(x, \u001b[39m*\u001b[39;49m\u001b[39m*\u001b[39;49mextra_args)\u001b[39m.\u001b[39msum(), x)[\u001b[39m0\u001b[39m]\n\u001b[1;32m      7\u001b[0m     x \u001b[39m=\u001b[39m x \u001b[39m-\u001b[39m eta \u001b[39m*\u001b[39m grad\n\u001b[1;32m      8\u001b[0m     x \u001b[39m=\u001b[39m torch\u001b[39m.\u001b[39mmax(torch\u001b[39m.\u001b[39mmin(x, x_upper), x_lower)\n",
      "Cell \u001b[0;32mIn[32], line 62\u001b[0m, in \u001b[0;36moptimize.<locals>.dual_function\u001b[0;34m(mu)\u001b[0m\n\u001b[1;32m     61\u001b[0m \u001b[39mdef\u001b[39;00m \u001b[39mdual_function\u001b[39m(mu):\n\u001b[0;32m---> 62\u001b[0m     \u001b[39mreturn\u001b[39;00m \u001b[39m-\u001b[39mlagrangian(x_star(mu), mu)\n",
      "Cell \u001b[0;32mIn[32], line 56\u001b[0m, in \u001b[0;36moptimize.<locals>.x_star\u001b[0;34m(mu)\u001b[0m\n\u001b[1;32m     55\u001b[0m \u001b[39mdef\u001b[39;00m \u001b[39mx_star\u001b[39m(mu):\n\u001b[0;32m---> 56\u001b[0m     \u001b[39mreturn\u001b[39;00m box_constrained_decent(\n\u001b[1;32m     57\u001b[0m         lagrangian, x[k], x_min_k, x_max_k, mu\u001b[39m=\u001b[39;49mmu\n\u001b[1;32m     58\u001b[0m     )\n",
      "Cell \u001b[0;32mIn[30], line 6\u001b[0m, in \u001b[0;36mbox_constrained_decent\u001b[0;34m(func, x_init, x_lower, x_upper, eta, max_iter, **extra_args)\u001b[0m\n\u001b[1;32m      4\u001b[0m x \u001b[39m=\u001b[39m x_init\u001b[39m.\u001b[39mclone()\u001b[39m.\u001b[39mrequires_grad_()\n\u001b[1;32m      5\u001b[0m \u001b[39mfor\u001b[39;00m _ \u001b[39min\u001b[39;00m \u001b[39mrange\u001b[39m(max_iter):\n\u001b[0;32m----> 6\u001b[0m     grad \u001b[39m=\u001b[39m torch\u001b[39m.\u001b[39;49mautograd\u001b[39m.\u001b[39;49mgrad(func(x, \u001b[39m*\u001b[39;49m\u001b[39m*\u001b[39;49mextra_args)\u001b[39m.\u001b[39;49msum(), x)[\u001b[39m0\u001b[39m]\n\u001b[1;32m      7\u001b[0m     x \u001b[39m=\u001b[39m x \u001b[39m-\u001b[39m eta \u001b[39m*\u001b[39m grad\n\u001b[1;32m      8\u001b[0m     x \u001b[39m=\u001b[39m torch\u001b[39m.\u001b[39mmax(torch\u001b[39m.\u001b[39mmin(x, x_upper), x_lower)\n",
      "File \u001b[0;32m~/miniforge3/envs/pytorch/lib/python3.9/site-packages/torch/autograd/__init__.py:300\u001b[0m, in \u001b[0;36mgrad\u001b[0;34m(outputs, inputs, grad_outputs, retain_graph, create_graph, only_inputs, allow_unused, is_grads_batched)\u001b[0m\n\u001b[1;32m    298\u001b[0m     \u001b[39mreturn\u001b[39;00m _vmap_internals\u001b[39m.\u001b[39m_vmap(vjp, \u001b[39m0\u001b[39m, \u001b[39m0\u001b[39m, allow_none_pass_through\u001b[39m=\u001b[39m\u001b[39mTrue\u001b[39;00m)(grad_outputs_)\n\u001b[1;32m    299\u001b[0m \u001b[39melse\u001b[39;00m:\n\u001b[0;32m--> 300\u001b[0m     \u001b[39mreturn\u001b[39;00m Variable\u001b[39m.\u001b[39;49m_execution_engine\u001b[39m.\u001b[39;49mrun_backward(  \u001b[39m# Calls into the C++ engine to run the backward pass\u001b[39;49;00m\n\u001b[1;32m    301\u001b[0m         t_outputs, grad_outputs_, retain_graph, create_graph, t_inputs,\n\u001b[1;32m    302\u001b[0m         allow_unused, accumulate_grad\u001b[39m=\u001b[39;49m\u001b[39mFalse\u001b[39;49;00m)\n",
      "\u001b[0;31mKeyboardInterrupt\u001b[0m: "
     ]
    }
   ],
   "source": [
    "x_opt = optimize(bridge, x_0, x_min, x_max, V0, mask, iter=25)\n",
    "plt.plot(torch.stack(x_opt).detach())"
   ]
  },
  {
   "cell_type": "code",
   "execution_count": null,
   "metadata": {},
   "outputs": [
    {
     "data": {
      "image/png": "[encoded data removed]",
      "text/plain": [
       "<Figure size 640x480 with 1 Axes>"
      ]
     },
     "metadata": {},
     "output_type": "display_data"
    }
   ],
   "source": [
    "bridge.nodes[mask] = x_opt[-1].reshape(bridge.nodes[mask].shape)\n",
    "bridge.plot(node_labels=False)\n",
    "plt.savefig(\"figures/bridge_optimized.pdf\", transparent=True, bbox_inches=\"tight\")"
   ]
  }
 ],
 "metadata": {
  "kernelspec": {
   "display_name": "Python 3 (ipykernel)",
   "language": "python",
   "name": "python3"
  },
  "language_info": {
   "codemirror_mode": {
    "name": "ipython",
    "version": 3
   },
   "file_extension": ".py",
   "mimetype": "text/x-python",
   "name": "python",
   "nbconvert_exporter": "python",
   "pygments_lexer": "ipython3",
   "version": "3.9.15"
  },
  "vscode": {
   "interpreter": {
    "hash": "53e816d343ac3b69abbe00d0113a5825a790940e53acda2e016fe2e76fc78702"
   }
  }
 },
 "nbformat": 4,
 "nbformat_minor": 4
}
