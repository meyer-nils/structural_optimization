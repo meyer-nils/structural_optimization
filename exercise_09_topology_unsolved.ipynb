{
 "cells": [
  {
   "attachments": {},
   "cell_type": "markdown",
   "metadata": {},
   "source": [
    "# Exercise 09 - Topology optimization for continua\n"
   ]
  },
  {
   "attachments": {},
   "cell_type": "markdown",
   "metadata": {},
   "source": [
    "## Task 1 - Book shelf\n",
    "\n",
    "Let us consider a bookshelf that needs a support structure. The design domain is given by a unit square $x \\in [0, 1]^2$ and a maximum thickness $d_{max}=0.1$. The left boundary of the domain $\\partial \\Omega_D$ is fixed to the wall and the top boundary $\\partial \\Omega_N$ is loaded with a uniform line load representing the weight of books.\n",
    "\n",
    "<div>\n",
    "    <center>\n",
    "        <img src=\"figures/domain.png\" width=\"250\"/>\n",
    "    </center>\n",
    "</div>\n"
   ]
  },
  {
   "cell_type": "code",
   "execution_count": 36,
   "metadata": {},
   "outputs": [],
   "source": [
    "from math import sqrt\n",
    "import torch\n",
    "from simple_fem import FEM\n",
    "\n",
    "torch.set_default_dtype(torch.double)"
   ]
  },
  {
   "attachments": {},
   "cell_type": "markdown",
   "metadata": {},
   "source": [
    "a) Modify the solution from last exercise and increase the number of elements per direction $N$ to 20."
   ]
  },
  {
   "cell_type": "code",
   "execution_count": 37,
   "metadata": {},
   "outputs": [],
   "source": [
    "d = 0.1 \n"
   ]
  },
  {
   "attachments": {},
   "cell_type": "markdown",
   "metadata": {},
   "source": [
    "To save material, the bookshelf should use only 40% of the given design space, while being as stiff as possible to support many books. We want to achieve this by topology optimization of the component. You are provided with a function that performs root finding with the bisection method from a previous exercise. "
   ]
  },
  {
   "cell_type": "code",
   "execution_count": 38,
   "metadata": {},
   "outputs": [],
   "source": [
    "def bisection(f, a, b, max_iter=50, tol=1e-12):\n",
    "    # Bisection method always finds a root, even with highly non-linear grad\n",
    "    i = 0\n",
    "    while (b - a) > tol:\n",
    "        c = (a + b) / 2.0\n",
    "        if i > max_iter:\n",
    "            raise Exception(f\"Bisection did not converge in {max_iter} iterations.\")\n",
    "        if f(a) * f(c) > 0:\n",
    "            a = c\n",
    "        else:\n",
    "            b = c\n",
    "        i += 1\n",
    "    return c"
   ]
  },
  {
   "attachments": {},
   "cell_type": "markdown",
   "metadata": {},
   "source": [
    "b) Implement a topology optimization algorithm with *optimality conditions* in a function named `optimize(fem, rho_0, rho_min, rho_max, V_0, iter=100, xi=0.5, m=0.2, p=1.0, r=0.0)` that takes the FEM model `fem`, the initial density distribution `rho_0`, the minimum and maximum thickness distributions `rho_min, rho_max`, the volume constraint, the maximum iteration count `iter` with a default value of 100, a SIMP penality factor `p` with default 1, and a radius for sensitivity filtering `r` with a default 0.0."
   ]
  },
  {
   "cell_type": "code",
   "execution_count": 39,
   "metadata": {},
   "outputs": [],
   "source": [
    "def optimize(fem, rho_0, rho_min, rho_max, V_0, iter=100, xi=0.5, m=0.2, p=1.0, r=0.0):\n",
    "    rho = [rho_0]\n",
    "    vols = d * fem.areas()\n",
    "\n",
    "    # Precompute filter weights\n",
    "    if r > 0.0:\n",
    "        pass\n",
    "\n",
    "    # Iterate solutions\n",
    "    for k in range(iter):\n",
    "        # Adjust thickness variables\n",
    "\n",
    "        # Compute solution\n",
    "\n",
    "        # Compute sensitivities\n",
    "\n",
    "        # Filter sensitivities (if r provided)\n",
    "        if r > 0.0:\n",
    "            pass\n",
    "\n",
    "        # For a certain value of mu, apply the iteration scheme\n",
    "        def make_step(mu):\n",
    "            pass\n",
    "\n",
    "        # Constraint function\n",
    "        def g(mu):\n",
    "            pass\n",
    "\n",
    "        # Find the root of g(mu)\n",
    "        \n",
    "\n",
    "        # Append variable to solution list\n",
    "\n",
    "    return rho"
   ]
  },
  {
   "attachments": {},
   "cell_type": "markdown",
   "metadata": {},
   "source": [
    "b) Set up the initial design variables $\\rho_0=0.5, \\rho_{min}=0.01, \\rho_{max}=1.0$ and a volume constraint $V_0= 0.4 V_{max}$ with the maximum design volume $V_{max}$. "
   ]
  },
  {
   "cell_type": "code",
   "execution_count": 40,
   "metadata": {},
   "outputs": [],
   "source": [
    "# Initial thickness, minimum thickness, maximum thickness\n",
    "\n",
    "# Initial volume (40% of maximum design volume)"
   ]
  },
  {
   "attachments": {},
   "cell_type": "markdown",
   "metadata": {},
   "source": [
    "c) Perform the optimization with 80 iterations and the following parameters: \n",
    "$$p=2$$\n",
    "$$r=0$$ "
   ]
  },
  {
   "cell_type": "code",
   "execution_count": 41,
   "metadata": {},
   "outputs": [],
   "source": [
    "# Optimize and visualize results"
   ]
  },
  {
   "attachments": {},
   "cell_type": "markdown",
   "metadata": {},
   "source": [
    "d) Plot the evolution of design variables vs. iterations. What does the graph tell you?"
   ]
  },
  {
   "cell_type": "code",
   "execution_count": null,
   "metadata": {},
   "outputs": [],
   "source": []
  },
  {
   "attachments": {},
   "cell_type": "markdown",
   "metadata": {},
   "source": [
    "e) Perform the optimization with 250 iterations and the following parameters\n",
    "$$p=3$$\n",
    "$$r=0.06$$ "
   ]
  },
  {
   "cell_type": "code",
   "execution_count": 42,
   "metadata": {},
   "outputs": [],
   "source": [
    "# Optimize and visualize results\n"
   ]
  },
  {
   "attachments": {},
   "cell_type": "markdown",
   "metadata": {},
   "source": [
    "f) How do you interpret the design? Decide which manufacturing process you would like to use and use a CAD software to create a design based on your optimization."
   ]
  }
 ],
 "metadata": {
  "kernelspec": {
   "display_name": "Python 3 (ipykernel)",
   "language": "python",
   "name": "python3"
  },
  "language_info": {
   "codemirror_mode": {
    "name": "ipython",
    "version": 3
   },
   "file_extension": ".py",
   "mimetype": "text/x-python",
   "name": "python",
   "nbconvert_exporter": "python",
   "pygments_lexer": "ipython3",
   "version": "3.9.15"
  },
  "vscode": {
   "interpreter": {
    "hash": "53e816d343ac3b69abbe00d0113a5825a790940e53acda2e016fe2e76fc78702"
   }
  }
 },
 "nbformat": 4,
 "nbformat_minor": 4
}
