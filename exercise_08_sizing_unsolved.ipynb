{
 "cells": [
  {
   "attachments": {},
   "cell_type": "markdown",
   "metadata": {},
   "source": [
    "# Exercise 08 - Size optimization for continua\n"
   ]
  },
  {
   "attachments": {},
   "cell_type": "markdown",
   "metadata": {},
   "source": [
    "## Task 1 - Book shelf\n",
    "\n",
    "Let us consider a bookshelf that needs a support structure. The design domain is given by a unit square $x \\in [0, 1]^2$ and a maximum thickness $d_{max}=0.1$. The left boundary of the domain $\\partial \\Omega_D$ is fixed to the wall and the top boundary $\\partial \\Omega_N$ is loaded with a uniform line load representing the weight of books.\n",
    "\n",
    "<div>\n",
    "    <center>\n",
    "        <img src=\"figures/domain.png\" width=\"250\"/>\n",
    "    </center>\n",
    "</div>\n"
   ]
  },
  {
   "cell_type": "code",
   "execution_count": null,
   "metadata": {},
   "outputs": [],
   "source": [
    "from math import sqrt\n",
    "import torch\n",
    "from simple_fem import FEM, export_mesh\n",
    "\n",
    "torch.set_default_dtype(torch.double)"
   ]
  },
  {
   "attachments": {},
   "cell_type": "markdown",
   "metadata": {},
   "source": [
    "a) Reuse the code from last exercise´s code to reproduce the example domain in a FEM object called `square`. Use a constant thickness of $d=0.05$ for the entire domain, forces $f(\\mathbf{x}) = 1.0/N, \\mathbf{x} \\in \\partial \\Omega_N$ and the material parameters $E=1000.0, \\nu=0.25$."
   ]
  },
  {
   "cell_type": "code",
   "execution_count": null,
   "metadata": {},
   "outputs": [],
   "source": [
    "# Create nodes\n",
    "N = 10\n",
    "\n",
    "# Create elements connecting nodes\n",
    "\n",
    "# Load at top\n",
    "\n",
    "# Constrained displacement at left end\n",
    "\n",
    "# Thickness\n",
    "\n",
    "# Material\n",
    "\n",
    "# Create and plot the domain"
   ]
  },
  {
   "attachments": {},
   "cell_type": "markdown",
   "metadata": {},
   "source": [
    "b) To save material, the bookshelf should use only 50% of that given design space, while being as stiff as possible to support many books. We want to achieve this by a variable thickness distribution of the component. \n",
    "\n",
    "You are provided with a function that performs root finding with the bisection method from a previous exercise. Now, you should implement a size optimization algorithm with MMA in a function named `optimize(fem, d_0, d_min, d_max, V_0, iter=15)` that takes the FEM model `fem`, the initial thickness distribution `d_0`, the minimum and maximum thickness distributions `d_min, d_max`, the volume constraint, and the maximum iteration count `iter` with a default value of 15."
   ]
  },
  {
   "cell_type": "code",
   "execution_count": null,
   "metadata": {},
   "outputs": [],
   "source": [
    "def bisection(f, a, b, max_iter=50, tol=1e-10):\n",
    "    # Bisection method always finds a root, even with highly non-linear grad\n",
    "    i = 0\n",
    "    while (b - a) > tol:\n",
    "        c = (a + b) / 2.0\n",
    "        if i > max_iter:\n",
    "            raise Exception(f\"Bisection did not converge in {max_iter} iterations.\")\n",
    "        if f(a) * f(c) > 0:\n",
    "            a = c\n",
    "        else:\n",
    "            b = c\n",
    "        i += 1\n",
    "    return c"
   ]
  },
  {
   "cell_type": "code",
   "execution_count": null,
   "metadata": {},
   "outputs": [],
   "source": [
    "def optimize(fem, d_0, d_min, d_max, V_0, iter=15):\n",
    "    # List for thickness results and lower asymptotes\n",
    "    d = [d_0]\n",
    "    L = []\n",
    "\n",
    "    # Element-wise areas\n",
    "    areas = fem.areas()\n",
    "    \n",
    "    # MMA parameter\n",
    "    s = 0.7\n",
    "\n",
    "    # Check if there is a feasible solution before starting iteration\n",
    "    if torch.inner(d_min, areas) > V_0:\n",
    "        raise Exception(\"d_min is not compatible with V_0.\")\n",
    "\n",
    "    # Iterate solutions\n",
    "    for k in range(iter):\n",
    "        # Solve the problem at d_k\n",
    "\n",
    "        # Compute strain energy density\n",
    "\n",
    "        # Compute lower asymptote\n",
    "        if k <= 1:\n",
    "            L_k = d[k] - s * (d_max - d_min)\n",
    "        else:\n",
    "            L_k = torch.zeros_like(L[k - 1])\n",
    "            for j in range(len(L_k)):\n",
    "                if (d[k][j] - d[k - 1][j]) * (d[k - 1][j] - d[k - 2][j]) < 0.0:\n",
    "                    L_k[j] = d[k][j] - s * (d[k - 1][j] - L[k - 1][j])\n",
    "                else:\n",
    "                    L_k[j] = d[k][j] - 1 / sqrt(s) * (d[k - 1][j] - L[k - 1][j])\n",
    "        L.append(L_k)\n",
    "\n",
    "        # Compute lower move limit in this step\n",
    "        d_min_k = torch.maximum(d_min, 0.9 * L[k] + 0.1 * d[k])\n",
    "\n",
    "        # Analytical solution for d\n",
    "\n",
    "        # Analytical gradient\n",
    "\n",
    "        # Solve dual problem\n",
    "\n",
    "        # Compute current optimal point with dual solution and append it to solutions\n",
    "\n",
    "    return d"
   ]
  },
  {
   "attachments": {},
   "cell_type": "markdown",
   "metadata": {},
   "source": [
    "c) Now run the optimization with $d_0=0.05, d_{min}=0.001, d_{max}=0.1$ and a volume constraint $V_0=50\\%$ of the maximum design volume."
   ]
  },
  {
   "cell_type": "code",
   "execution_count": null,
   "metadata": {},
   "outputs": [],
   "source": [
    "# Initial thickness, minimum thickness, maximum thickness\n",
    "\n",
    "# Initial volume (50% of maximum design volume)\n",
    "\n",
    "# Optimize and visualize results"
   ]
  },
  {
   "attachments": {},
   "cell_type": "markdown",
   "metadata": {},
   "source": [
    "d) Plot the evolution of design variables vs. iterations. What does the graph tell you?"
   ]
  },
  {
   "cell_type": "code",
   "execution_count": null,
   "metadata": {},
   "outputs": [],
   "source": [
    "import matplotlib.pyplot as plt\n"
   ]
  },
  {
   "attachments": {},
   "cell_type": "markdown",
   "metadata": {},
   "source": [
    "e) How do you interpret the design? Decide which manufacturing process you would like to use and use a CAD software to create a design based on your optimization."
   ]
  },
  {
   "cell_type": "code",
   "execution_count": null,
   "metadata": {},
   "outputs": [],
   "source": [
    "export_mesh(square, \"exercise_08_sizing.vtk\", elem_data={\"Thickness\": [d_opt[-1]]})"
   ]
  }
 ],
 "metadata": {
  "kernelspec": {
   "display_name": "Python 3 (ipykernel)",
   "language": "python",
   "name": "python3"
  },
  "language_info": {
   "codemirror_mode": {
    "name": "ipython",
    "version": 3
   },
   "file_extension": ".py",
   "mimetype": "text/x-python",
   "name": "python",
   "nbconvert_exporter": "python",
   "pygments_lexer": "ipython3",
   "version": "3.9.15"
  },
  "vscode": {
   "interpreter": {
    "hash": "53e816d343ac3b69abbe00d0113a5825a790940e53acda2e016fe2e76fc78702"
   }
  }
 },
 "nbformat": 4,
 "nbformat_minor": 4
}
