{
 "cells": [
  {
   "attachments": {},
   "cell_type": "markdown",
   "metadata": {},
   "source": [
    "# Chapter 07 - Topology optimization"
   ]
  },
  {
   "cell_type": "code",
   "execution_count": 1,
   "metadata": {},
   "outputs": [],
   "source": [
    "import torch\n",
    "from math import sqrt\n",
    "from simple_fem import get_cantilever\n",
    "import matplotlib.pyplot as plt\n",
    "\n",
    "# Set plot to use TeX for rendering equations.\n",
    "plt.rcParams[\"text.usetex\"] = True\n",
    "\n",
    "torch.set_default_dtype(torch.double)"
   ]
  },
  {
   "attachments": {},
   "cell_type": "markdown",
   "metadata": {},
   "source": [
    "## Define the cantilever problem"
   ]
  },
  {
   "cell_type": "code",
   "execution_count": 2,
   "metadata": {},
   "outputs": [
    {
     "data": {
      "image/png": "[encoded data removed]",
      "text/plain": [
       "<Figure size 640x480 with 1 Axes>"
      ]
     },
     "metadata": {},
     "output_type": "display_data"
    }
   ],
   "source": [
    "cantilever = get_cantilever(1.0, 30.0, 14.0)\n",
    "cantilever.plot()"
   ]
  },
  {
   "attachments": {},
   "cell_type": "markdown",
   "metadata": {},
   "source": [
    "## Optimization with MMA"
   ]
  },
  {
   "cell_type": "code",
   "execution_count": 3,
   "metadata": {},
   "outputs": [],
   "source": [
    "def bisection(f, a, b, max_iter=50, tol=1e-10):\n",
    "    # Bisection method always finds a root, even with highly non-linear grad\n",
    "    i = 0\n",
    "    while (b - a) > tol:\n",
    "        c = (a + b) / 2.0\n",
    "        if i > max_iter:\n",
    "            raise Exception(f\"Bisection did not converge in {max_iter} iterations.\")\n",
    "        if f(a) * f(c) > 0:\n",
    "            a = c\n",
    "        else:\n",
    "            b = c\n",
    "        i += 1\n",
    "    return c\n",
    "\n",
    "\n",
    "def optimize_mma(fem, rho_0, rho_min, rho_max, V_0, iter=15, s=0.7, p=1.0, r_sens=0.0):\n",
    "    rho = [rho_0]\n",
    "    L = []\n",
    "    areas = fem.areas\n",
    "\n",
    "    # Precompute filter weights\n",
    "    if r_sens > 0.0:\n",
    "        H = r_sens - fem.dist\n",
    "        H[fem.dist > r_sens] = 0.0\n",
    "\n",
    "    # Check if there is a feasible solution before starting iteration\n",
    "    if torch.inner(rho_min, areas) > V_0:\n",
    "        raise Exception(\"rho_min is not compatible with V_0.\")\n",
    "\n",
    "    # Iterate solutions\n",
    "    for k in range(iter):\n",
    "        # Solve the problem at rho_k\n",
    "        u_k, f_k = fem.solve(rho[k])\n",
    "        \n",
    "        # Compute sensitivity \n",
    "        sensitivity = -p * rho[k] ** (p - 1) * 2.0 * fem.element_strain_energies(u_k)\n",
    "\n",
    "        # Filter sensitivities (if r_sens provided)\n",
    "        if r_sens > 0.0:\n",
    "            sensitivity = H @ (rho[k] * sensitivity) / H.sum(dim=0) / rho[k]\n",
    "\n",
    "        # Compute lower asymptote\n",
    "        if k <= 1:\n",
    "            L_k = rho[k] - s * (rho_max - rho_min)\n",
    "        else:\n",
    "            L_k = torch.zeros_like(L[k - 1])\n",
    "            for j in range(len(L_k)):\n",
    "                if (rho[k][j] - rho[k - 1][j]) * (rho[k - 1][j] - rho[k - 2][j]) < 0.0:\n",
    "                    L_k[j] = rho[k][j] - s * (rho[k - 1][j] - L[k - 1][j])\n",
    "                else:\n",
    "                    L_k[j] = rho[k][j] - 1 / sqrt(s) * (rho[k - 1][j] - L[k - 1][j])\n",
    "        L.append(L_k)\n",
    "\n",
    "        # Compute lower move limit in this step\n",
    "        rho_min_k = torch.maximum(rho_min, 0.9 * L[k] + 0.1 * rho[k])\n",
    "\n",
    "        # Analytical solution\n",
    "        def rho_star(mu):\n",
    "            EPS = 1e-15\n",
    "            rho_hat = L[k] + torch.sqrt(\n",
    "                (-sensitivity * (L[k] - rho[k]) ** 2 + EPS) / (mu * areas + EPS)\n",
    "            )\n",
    "            return torch.maximum(torch.minimum(rho_hat, rho_max), rho_min_k)\n",
    "\n",
    "        # Analytical gradient\n",
    "        def grad(mu):\n",
    "            return torch.dot(rho_star(mu), areas) - V_0\n",
    "\n",
    "        # Solve dual problem\n",
    "        mu_star = bisection(grad, 0.0, 100.0)\n",
    "\n",
    "        # Evaluation\n",
    "        compliance = torch.inner(f_k.ravel(), u_k.ravel())\n",
    "        print(f\"Iteration k={k:3d} - Compliance: {compliance:.5f}\")\n",
    "\n",
    "        # Compute current optimal point with dual solution\n",
    "        rho.append(rho_star(mu_star))\n",
    "\n",
    "    return rho"
   ]
  },
  {
   "attachments": {},
   "cell_type": "markdown",
   "metadata": {},
   "source": [
    "## Variable thickness optimization (p=1)"
   ]
  },
  {
   "cell_type": "code",
   "execution_count": 4,
   "metadata": {},
   "outputs": [
    {
     "name": "stdout",
     "output_type": "stream",
     "text": [
      "Iteration k=  0 - Compliance: 0.42667\n",
      "Iteration k=  1 - Compliance: 0.74000\n",
      "Iteration k=  2 - Compliance: 0.61235\n",
      "Iteration k=  3 - Compliance: 0.60660\n",
      "Iteration k=  4 - Compliance: 0.60315\n",
      "Iteration k=  5 - Compliance: 0.60171\n",
      "Iteration k=  6 - Compliance: 0.60050\n",
      "Iteration k=  7 - Compliance: 0.59980\n",
      "Iteration k=  8 - Compliance: 0.59953\n",
      "Iteration k=  9 - Compliance: 0.59942\n",
      "Iteration k= 10 - Compliance: 0.59933\n",
      "Iteration k= 11 - Compliance: 0.59925\n",
      "Iteration k= 12 - Compliance: 0.59919\n",
      "Iteration k= 13 - Compliance: 0.59914\n",
      "Iteration k= 14 - Compliance: 0.59911\n"
     ]
    },
    {
     "data": {
      "image/png": "[encoded data removed]",
      "text/plain": [
       "<Figure size 640x480 with 1 Axes>"
      ]
     },
     "metadata": {},
     "output_type": "display_data"
    }
   ],
   "source": [
    "rho_0 = torch.ones(len(cantilever.elements))\n",
    "rho_min = 0.1 * torch.ones_like(rho_0)\n",
    "rho_max = 1.0 * torch.ones_like(rho_0)\n",
    "areas = cantilever.areas\n",
    "V0 = 0.5 * torch.inner(rho_max, areas)\n",
    "\n",
    "rho_opt = optimize_mma(cantilever, rho_0, rho_min, rho_max, V0)\n",
    "cantilever.plot(element_property=rho_opt[-1])\n",
    "plt.savefig(\n",
    "    \"figures/cantilever_fem_optimized.pdf\", transparent=True, bbox_inches=\"tight\"\n",
    ")"
   ]
  },
  {
   "attachments": {},
   "cell_type": "markdown",
   "metadata": {},
   "source": [
    "## SIMP approach for binarization"
   ]
  },
  {
   "cell_type": "code",
   "execution_count": 5,
   "metadata": {},
   "outputs": [
    {
     "data": {
      "image/png": "[encoded data removed]",
      "text/plain": [
       "<Figure size 500x250 with 1 Axes>"
      ]
     },
     "metadata": {},
     "output_type": "display_data"
    }
   ],
   "source": [
    "p = 3\n",
    "Cxx = 1.0\n",
    "\n",
    "# Plot the SIMP relation\n",
    "rho = torch.linspace(0, 1, 20)\n",
    "plt.figure(figsize=(5,2.5))\n",
    "plt.plot(rho, Cxx * rho**1.0, label=\"$p=1$\")\n",
    "plt.plot(rho, Cxx * rho**2.0, label=\"$p=2$\")\n",
    "plt.plot(rho, Cxx * rho**3.0, label=\"$p=3$\")\n",
    "plt.xlabel(r\"$\\textrm{Normalized density } \\rho$\")\n",
    "plt.ylabel(r\"$\\textrm{Relative stiffness } C_{xx}(\\rho)/C_{xx}$\")\n",
    "plt.xlim([0, 1])\n",
    "plt.ylim([0, Cxx])\n",
    "plt.legend()\n",
    "plt.grid()\n",
    "plt.savefig(\"figures/simp.pdf\", transparent=True, bbox_inches=\"tight\")"
   ]
  },
  {
   "cell_type": "code",
   "execution_count": 6,
   "metadata": {},
   "outputs": [
    {
     "name": "stdout",
     "output_type": "stream",
     "text": [
      "Iteration k=  0 - Compliance: 0.42667\n",
      "Iteration k=  1 - Compliance: 0.74000\n",
      "Iteration k=  2 - Compliance: 0.61580\n",
      "Iteration k=  3 - Compliance: 0.61388\n",
      "Iteration k=  4 - Compliance: 0.62302\n",
      "Iteration k=  5 - Compliance: 0.62727\n",
      "Iteration k=  6 - Compliance: 0.62788\n",
      "Iteration k=  7 - Compliance: 0.62727\n",
      "Iteration k=  8 - Compliance: 0.62491\n",
      "Iteration k=  9 - Compliance: 0.62542\n",
      "Iteration k= 10 - Compliance: 0.62895\n",
      "Iteration k= 11 - Compliance: 0.63268\n",
      "Iteration k= 12 - Compliance: 0.63705\n",
      "Iteration k= 13 - Compliance: 0.63940\n",
      "Iteration k= 14 - Compliance: 0.64350\n",
      "Iteration k= 15 - Compliance: 0.64413\n",
      "Iteration k= 16 - Compliance: 0.64425\n",
      "Iteration k= 17 - Compliance: 0.64410\n",
      "Iteration k= 18 - Compliance: 0.64258\n",
      "Iteration k= 19 - Compliance: 0.64279\n",
      "Iteration k= 20 - Compliance: 0.64316\n",
      "Iteration k= 21 - Compliance: 0.64625\n",
      "Iteration k= 22 - Compliance: 0.64456\n",
      "Iteration k= 23 - Compliance: 0.64632\n",
      "Iteration k= 24 - Compliance: 0.64518\n"
     ]
    },
    {
     "data": {
      "image/png": "[encoded data removed]",
      "text/plain": [
       "<Figure size 640x480 with 1 Axes>"
      ]
     },
     "metadata": {},
     "output_type": "display_data"
    }
   ],
   "source": [
    "d_opt = optimize_mma(cantilever, rho_0, rho_min, rho_max, V0, p=2, iter=25)\n",
    "\n",
    "cantilever.plot(element_property=d_opt[-1])\n",
    "plt.savefig(\n",
    "    \"figures/cantilever_fem_optimized_binary.pdf\", transparent=True, bbox_inches=\"tight\"\n",
    ")"
   ]
  },
  {
   "cell_type": "code",
   "execution_count": 7,
   "metadata": {},
   "outputs": [
    {
     "name": "stdout",
     "output_type": "stream",
     "text": [
      "Iteration k=  0 - Compliance: 0.42667\n",
      "Iteration k=  1 - Compliance: 0.74159\n",
      "Iteration k=  2 - Compliance: 0.61700\n",
      "Iteration k=  3 - Compliance: 0.61635\n",
      "Iteration k=  4 - Compliance: 0.62343\n",
      "Iteration k=  5 - Compliance: 0.62930\n",
      "Iteration k=  6 - Compliance: 0.62971\n",
      "Iteration k=  7 - Compliance: 0.62939\n",
      "Iteration k=  8 - Compliance: 0.63136\n",
      "Iteration k=  9 - Compliance: 0.63098\n",
      "Iteration k= 10 - Compliance: 0.63228\n",
      "Iteration k= 11 - Compliance: 0.63330\n",
      "Iteration k= 12 - Compliance: 0.63493\n",
      "Iteration k= 13 - Compliance: 0.63586\n",
      "Iteration k= 14 - Compliance: 0.63502\n",
      "Iteration k= 15 - Compliance: 0.63427\n",
      "Iteration k= 16 - Compliance: 0.63338\n",
      "Iteration k= 17 - Compliance: 0.63509\n",
      "Iteration k= 18 - Compliance: 0.63482\n",
      "Iteration k= 19 - Compliance: 0.63790\n",
      "Iteration k= 20 - Compliance: 0.63368\n",
      "Iteration k= 21 - Compliance: 0.63776\n",
      "Iteration k= 22 - Compliance: 0.63378\n",
      "Iteration k= 23 - Compliance: 0.63429\n",
      "Iteration k= 24 - Compliance: 0.63117\n",
      "Iteration k= 25 - Compliance: 0.63073\n",
      "Iteration k= 26 - Compliance: 0.63056\n",
      "Iteration k= 27 - Compliance: 0.63030\n",
      "Iteration k= 28 - Compliance: 0.63042\n",
      "Iteration k= 29 - Compliance: 0.63026\n",
      "Iteration k= 30 - Compliance: 0.63033\n",
      "Iteration k= 31 - Compliance: 0.63034\n",
      "Iteration k= 32 - Compliance: 0.63035\n",
      "Iteration k= 33 - Compliance: 0.63036\n",
      "Iteration k= 34 - Compliance: 0.63025\n",
      "Iteration k= 35 - Compliance: 0.63039\n",
      "Iteration k= 36 - Compliance: 0.63015\n",
      "Iteration k= 37 - Compliance: 0.63074\n",
      "Iteration k= 38 - Compliance: 0.63058\n",
      "Iteration k= 39 - Compliance: 0.63041\n",
      "Iteration k= 40 - Compliance: 0.63035\n",
      "Iteration k= 41 - Compliance: 0.63035\n",
      "Iteration k= 42 - Compliance: 0.63040\n",
      "Iteration k= 43 - Compliance: 0.63043\n",
      "Iteration k= 44 - Compliance: 0.63050\n",
      "Iteration k= 45 - Compliance: 0.63053\n",
      "Iteration k= 46 - Compliance: 0.63063\n",
      "Iteration k= 47 - Compliance: 0.63105\n",
      "Iteration k= 48 - Compliance: 0.63034\n",
      "Iteration k= 49 - Compliance: 0.63118\n",
      "Iteration k= 50 - Compliance: 0.63251\n",
      "Iteration k= 51 - Compliance: 0.63041\n",
      "Iteration k= 52 - Compliance: 0.63087\n",
      "Iteration k= 53 - Compliance: 0.63109\n",
      "Iteration k= 54 - Compliance: 0.63027\n",
      "Iteration k= 55 - Compliance: 0.63084\n",
      "Iteration k= 56 - Compliance: 0.63075\n",
      "Iteration k= 57 - Compliance: 0.63081\n",
      "Iteration k= 58 - Compliance: 0.63045\n",
      "Iteration k= 59 - Compliance: 0.63080\n",
      "Iteration k= 60 - Compliance: 0.63066\n",
      "Iteration k= 61 - Compliance: 0.63079\n",
      "Iteration k= 62 - Compliance: 0.63073\n",
      "Iteration k= 63 - Compliance: 0.63079\n",
      "Iteration k= 64 - Compliance: 0.63075\n",
      "Iteration k= 65 - Compliance: 0.63080\n",
      "Iteration k= 66 - Compliance: 0.63077\n",
      "Iteration k= 67 - Compliance: 0.63079\n",
      "Iteration k= 68 - Compliance: 0.63077\n",
      "Iteration k= 69 - Compliance: 0.63079\n",
      "Iteration k= 70 - Compliance: 0.63079\n",
      "Iteration k= 71 - Compliance: 0.63079\n",
      "Iteration k= 72 - Compliance: 0.63080\n",
      "Iteration k= 73 - Compliance: 0.63079\n",
      "Iteration k= 74 - Compliance: 0.63079\n",
      "Iteration k= 75 - Compliance: 0.63079\n",
      "Iteration k= 76 - Compliance: 0.63079\n",
      "Iteration k= 77 - Compliance: 0.63079\n",
      "Iteration k= 78 - Compliance: 0.63079\n",
      "Iteration k= 79 - Compliance: 0.63078\n",
      "Iteration k= 80 - Compliance: 0.63079\n",
      "Iteration k= 81 - Compliance: 0.63078\n",
      "Iteration k= 82 - Compliance: 0.63079\n",
      "Iteration k= 83 - Compliance: 0.63079\n",
      "Iteration k= 84 - Compliance: 0.63079\n",
      "Iteration k= 85 - Compliance: 0.63079\n",
      "Iteration k= 86 - Compliance: 0.63079\n",
      "Iteration k= 87 - Compliance: 0.63079\n",
      "Iteration k= 88 - Compliance: 0.63079\n",
      "Iteration k= 89 - Compliance: 0.63079\n",
      "Iteration k= 90 - Compliance: 0.63080\n",
      "Iteration k= 91 - Compliance: 0.63080\n",
      "Iteration k= 92 - Compliance: 0.63080\n",
      "Iteration k= 93 - Compliance: 0.63081\n",
      "Iteration k= 94 - Compliance: 0.63081\n",
      "Iteration k= 95 - Compliance: 0.63081\n",
      "Iteration k= 96 - Compliance: 0.63082\n",
      "Iteration k= 97 - Compliance: 0.63083\n",
      "Iteration k= 98 - Compliance: 0.63083\n",
      "Iteration k= 99 - Compliance: 0.63084\n"
     ]
    },
    {
     "data": {
      "image/png": "[encoded data removed]",
      "text/plain": [
       "<Figure size 640x480 with 1 Axes>"
      ]
     },
     "metadata": {},
     "output_type": "display_data"
    }
   ],
   "source": [
    "d_opt = optimize_mma(cantilever, rho_0, rho_min, rho_max, V0, p=2, iter=100, r_sens=1.1)\n",
    "cantilever.plot(element_property=d_opt[-1])"
   ]
  },
  {
   "attachments": {},
   "cell_type": "markdown",
   "metadata": {},
   "source": [
    "## Optimization with optimality conditions"
   ]
  },
  {
   "cell_type": "code",
   "execution_count": 8,
   "metadata": {},
   "outputs": [],
   "source": [
    "def optimize_oc(fem, rho_0, rho_min, rho_max, V_0, iter=15, xi=0.5, m=0.2, p=2, r_sens=0.0):\n",
    "    rho = [rho_0]\n",
    "    areas = fem.areas\n",
    "\n",
    "    # Check if there is a feasible solution before starting iteration\n",
    "    if torch.inner(rho_min, areas) > V_0:\n",
    "        raise Exception(\"rho_min is not compatible with V_0.\")\n",
    "    \n",
    "    # Precompute filter weights\n",
    "    if r_sens > 0.0:\n",
    "        H = r_sens - fem.dist\n",
    "        H[fem.dist > r_sens] = 0.0\n",
    "\n",
    "    # Iterate solutions\n",
    "    for k in range(iter):\n",
    "        u_k, f_k = fem.solve(rho[k])\n",
    "        rho_k = rho[k].clone()\n",
    "\n",
    "        # Compute sensitivities\n",
    "        sensitivity = -p * rho[k] ** (p - 1) * 2.0* fem.element_strain_energies(u_k)\n",
    "\n",
    "        # Filter sensitivities (if r_filt provided)\n",
    "        if r_sens > 0.0:\n",
    "            sensitivity = H @ (rho[k] * sensitivity) / H.sum(dim=0) / rho[k]\n",
    "\n",
    "        def make_step(mu):\n",
    "            # Assuming a certain value of mu, apply the iteration scheme to\n",
    "            G_k = - sensitivity / (mu * areas)\n",
    "            upper = torch.min(rho_max, (1 + m) * rho_k)\n",
    "            lower = torch.max(rho_min, (1 - m) * rho_k)\n",
    "            rho_trial = G_k**xi * rho_k\n",
    "            return torch.maximum(torch.minimum(rho_trial, upper), lower)\n",
    "\n",
    "        def g(mu):\n",
    "            rho_k = make_step(mu)\n",
    "            return torch.dot(rho_k, areas) - V_0\n",
    "\n",
    "        mu = bisection(g, 0.000001, 1.0, tol=1e-15)\n",
    "\n",
    "        # Evaluation\n",
    "        compliance = torch.inner(f_k.ravel(), u_k.ravel())\n",
    "        print(f\"Iteration k={k} - Compliance: {compliance:.5f}\")\n",
    "\n",
    "        rho.append(make_step(mu))\n",
    "\n",
    "    return rho"
   ]
  },
  {
   "cell_type": "code",
   "execution_count": 9,
   "metadata": {},
   "outputs": [
    {
     "name": "stdout",
     "output_type": "stream",
     "text": [
      "Iteration k=0 - Compliance: 0.42667\n",
      "Iteration k=1 - Compliance: 0.53334\n",
      "Iteration k=2 - Compliance: 0.66667\n",
      "Iteration k=3 - Compliance: 0.83334\n",
      "Iteration k=4 - Compliance: 0.74787\n",
      "Iteration k=5 - Compliance: 0.68451\n",
      "Iteration k=6 - Compliance: 0.64657\n",
      "Iteration k=7 - Compliance: 0.63298\n",
      "Iteration k=8 - Compliance: 0.62980\n",
      "Iteration k=9 - Compliance: 0.62747\n",
      "Iteration k=10 - Compliance: 0.62567\n",
      "Iteration k=11 - Compliance: 0.62524\n",
      "Iteration k=12 - Compliance: 0.62566\n",
      "Iteration k=13 - Compliance: 0.62612\n",
      "Iteration k=14 - Compliance: 0.62640\n",
      "Iteration k=15 - Compliance: 0.62682\n",
      "Iteration k=16 - Compliance: 0.62752\n",
      "Iteration k=17 - Compliance: 0.62829\n",
      "Iteration k=18 - Compliance: 0.62921\n",
      "Iteration k=19 - Compliance: 0.62976\n",
      "Iteration k=20 - Compliance: 0.63021\n",
      "Iteration k=21 - Compliance: 0.63060\n",
      "Iteration k=22 - Compliance: 0.63086\n",
      "Iteration k=23 - Compliance: 0.63118\n",
      "Iteration k=24 - Compliance: 0.63140\n",
      "Iteration k=25 - Compliance: 0.63153\n",
      "Iteration k=26 - Compliance: 0.63170\n",
      "Iteration k=27 - Compliance: 0.63187\n",
      "Iteration k=28 - Compliance: 0.63201\n",
      "Iteration k=29 - Compliance: 0.63215\n",
      "Iteration k=30 - Compliance: 0.63237\n",
      "Iteration k=31 - Compliance: 0.63260\n",
      "Iteration k=32 - Compliance: 0.63285\n",
      "Iteration k=33 - Compliance: 0.63314\n",
      "Iteration k=34 - Compliance: 0.63345\n",
      "Iteration k=35 - Compliance: 0.63363\n",
      "Iteration k=36 - Compliance: 0.63375\n",
      "Iteration k=37 - Compliance: 0.63387\n",
      "Iteration k=38 - Compliance: 0.63398\n",
      "Iteration k=39 - Compliance: 0.63398\n",
      "Iteration k=40 - Compliance: 0.63394\n",
      "Iteration k=41 - Compliance: 0.63389\n",
      "Iteration k=42 - Compliance: 0.63386\n",
      "Iteration k=43 - Compliance: 0.63382\n",
      "Iteration k=44 - Compliance: 0.63378\n",
      "Iteration k=45 - Compliance: 0.63375\n",
      "Iteration k=46 - Compliance: 0.63373\n",
      "Iteration k=47 - Compliance: 0.63373\n",
      "Iteration k=48 - Compliance: 0.63374\n",
      "Iteration k=49 - Compliance: 0.63375\n"
     ]
    },
    {
     "data": {
      "image/png": "[encoded data removed]",
      "text/plain": [
       "<Figure size 640x480 with 1 Axes>"
      ]
     },
     "metadata": {},
     "output_type": "display_data"
    }
   ],
   "source": [
    "rho_opt = optimize_oc(cantilever, rho_0, rho_min, rho_max, V0, p=2, iter=50, r_sens=1.2)\n",
    "cantilever.plot(element_property=rho_opt[-1])\n",
    "plt.savefig(\n",
    "    \"figures/cantilever_fem_optimized_binary_filtered.pdf\",\n",
    "    transparent=True,\n",
    "    bbox_inches=\"tight\",\n",
    ")"
   ]
  },
  {
   "cell_type": "code",
   "execution_count": 10,
   "metadata": {},
   "outputs": [
    {
     "name": "stdout",
     "output_type": "stream",
     "text": [
      "Iteration k=  0 - Compliance: 0.43228\n",
      "Iteration k=  1 - Compliance: 0.74350\n",
      "Iteration k=  2 - Compliance: 0.62130\n",
      "Iteration k=  3 - Compliance: 0.61990\n",
      "Iteration k=  4 - Compliance: 0.62717\n",
      "Iteration k=  5 - Compliance: 0.63240\n",
      "Iteration k=  6 - Compliance: 0.63300\n",
      "Iteration k=  7 - Compliance: 0.63315\n",
      "Iteration k=  8 - Compliance: 0.63352\n",
      "Iteration k=  9 - Compliance: 0.63308\n",
      "Iteration k= 10 - Compliance: 0.63368\n",
      "Iteration k= 11 - Compliance: 0.63452\n",
      "Iteration k= 12 - Compliance: 0.63622\n",
      "Iteration k= 13 - Compliance: 0.63744\n",
      "Iteration k= 14 - Compliance: 0.63778\n",
      "Iteration k= 15 - Compliance: 0.63921\n",
      "Iteration k= 16 - Compliance: 0.64074\n",
      "Iteration k= 17 - Compliance: 0.64135\n",
      "Iteration k= 18 - Compliance: 0.64155\n",
      "Iteration k= 19 - Compliance: 0.64179\n",
      "Iteration k= 20 - Compliance: 0.64166\n",
      "Iteration k= 21 - Compliance: 0.64195\n",
      "Iteration k= 22 - Compliance: 0.64155\n",
      "Iteration k= 23 - Compliance: 0.64196\n",
      "Iteration k= 24 - Compliance: 0.64197\n",
      "Iteration k= 25 - Compliance: 0.64231\n",
      "Iteration k= 26 - Compliance: 0.64226\n",
      "Iteration k= 27 - Compliance: 0.64231\n",
      "Iteration k= 28 - Compliance: 0.64224\n",
      "Iteration k= 29 - Compliance: 0.64227\n",
      "Iteration k= 30 - Compliance: 0.64227\n",
      "Iteration k= 31 - Compliance: 0.64230\n",
      "Iteration k= 32 - Compliance: 0.64248\n",
      "Iteration k= 33 - Compliance: 0.64228\n",
      "Iteration k= 34 - Compliance: 0.64233\n",
      "Iteration k= 35 - Compliance: 0.64250\n",
      "Iteration k= 36 - Compliance: 0.64252\n",
      "Iteration k= 37 - Compliance: 0.64258\n",
      "Iteration k= 38 - Compliance: 0.64294\n",
      "Iteration k= 39 - Compliance: 0.64273\n",
      "Iteration k= 40 - Compliance: 0.64315\n",
      "Iteration k= 41 - Compliance: 0.64309\n",
      "Iteration k= 42 - Compliance: 0.64349\n",
      "Iteration k= 43 - Compliance: 0.64311\n",
      "Iteration k= 44 - Compliance: 0.64350\n",
      "Iteration k= 45 - Compliance: 0.64313\n",
      "Iteration k= 46 - Compliance: 0.64312\n",
      "Iteration k= 47 - Compliance: 0.64328\n",
      "Iteration k= 48 - Compliance: 0.64312\n",
      "Iteration k= 49 - Compliance: 0.64318\n"
     ]
    },
    {
     "data": {
      "image/png": "[encoded data removed]",
      "text/plain": [
       "<Figure size 640x480 with 1 Axes>"
      ]
     },
     "metadata": {},
     "output_type": "display_data"
    }
   ],
   "source": [
    "cantilever_fine = get_cantilever(0.5, 30.0, 14.0)\n",
    "\n",
    "rho_0 = torch.ones(len(cantilever_fine.elements))\n",
    "rho_min = 0.1 * torch.ones_like(rho_0)\n",
    "rho_max = 1.0 * torch.ones_like(rho_0)\n",
    "areas = cantilever_fine.areas\n",
    "V0 = 0.5 * torch.inner(rho_max, areas)\n",
    "\n",
    "\n",
    "rho_opt = optimize_mma(cantilever_fine, rho_0, rho_min, rho_max, V0, p=2, iter=50)\n",
    "cantilever_fine.plot(element_property=rho_opt[-1])\n",
    "plt.savefig(\n",
    "    \"figures/cantilever_fem_optimized_binary_fine.pdf\", transparent=True, bbox_inches=\"tight\"\n",
    ")"
   ]
  },
  {
   "cell_type": "code",
   "execution_count": 11,
   "metadata": {},
   "outputs": [
    {
     "name": "stdout",
     "output_type": "stream",
     "text": [
      "Iteration k=0 - Compliance: 0.43228\n",
      "Iteration k=1 - Compliance: 0.54035\n",
      "Iteration k=2 - Compliance: 0.67543\n",
      "Iteration k=3 - Compliance: 0.84429\n",
      "Iteration k=4 - Compliance: 0.75651\n",
      "Iteration k=5 - Compliance: 0.69111\n",
      "Iteration k=6 - Compliance: 0.65111\n",
      "Iteration k=7 - Compliance: 0.63488\n",
      "Iteration k=8 - Compliance: 0.62959\n",
      "Iteration k=9 - Compliance: 0.62638\n",
      "Iteration k=10 - Compliance: 0.62456\n",
      "Iteration k=11 - Compliance: 0.62445\n",
      "Iteration k=12 - Compliance: 0.62571\n",
      "Iteration k=13 - Compliance: 0.62824\n",
      "Iteration k=14 - Compliance: 0.63167\n",
      "Iteration k=15 - Compliance: 0.63356\n",
      "Iteration k=16 - Compliance: 0.63418\n",
      "Iteration k=17 - Compliance: 0.63516\n",
      "Iteration k=18 - Compliance: 0.63647\n",
      "Iteration k=19 - Compliance: 0.63782\n",
      "Iteration k=20 - Compliance: 0.63900\n",
      "Iteration k=21 - Compliance: 0.63959\n",
      "Iteration k=22 - Compliance: 0.63981\n",
      "Iteration k=23 - Compliance: 0.63984\n",
      "Iteration k=24 - Compliance: 0.63987\n",
      "Iteration k=25 - Compliance: 0.64004\n",
      "Iteration k=26 - Compliance: 0.64019\n",
      "Iteration k=27 - Compliance: 0.64034\n",
      "Iteration k=28 - Compliance: 0.64043\n",
      "Iteration k=29 - Compliance: 0.64051\n",
      "Iteration k=30 - Compliance: 0.64077\n",
      "Iteration k=31 - Compliance: 0.64138\n",
      "Iteration k=32 - Compliance: 0.64198\n",
      "Iteration k=33 - Compliance: 0.64243\n",
      "Iteration k=34 - Compliance: 0.64280\n",
      "Iteration k=35 - Compliance: 0.64317\n",
      "Iteration k=36 - Compliance: 0.64343\n",
      "Iteration k=37 - Compliance: 0.64363\n",
      "Iteration k=38 - Compliance: 0.64386\n",
      "Iteration k=39 - Compliance: 0.64405\n",
      "Iteration k=40 - Compliance: 0.64422\n",
      "Iteration k=41 - Compliance: 0.64437\n",
      "Iteration k=42 - Compliance: 0.64447\n",
      "Iteration k=43 - Compliance: 0.64457\n",
      "Iteration k=44 - Compliance: 0.64466\n",
      "Iteration k=45 - Compliance: 0.64473\n",
      "Iteration k=46 - Compliance: 0.64483\n",
      "Iteration k=47 - Compliance: 0.64497\n",
      "Iteration k=48 - Compliance: 0.64505\n",
      "Iteration k=49 - Compliance: 0.64511\n"
     ]
    },
    {
     "data": {
      "image/png": "[encoded data removed]",
      "text/plain": [
       "<Figure size 640x480 with 1 Axes>"
      ]
     },
     "metadata": {},
     "output_type": "display_data"
    }
   ],
   "source": [
    "rho_opt = optimize_oc(cantilever_fine, rho_0, rho_min, rho_max, V0, p=2, iter=50)\n",
    "cantilever_fine.plot(element_property=rho_opt[-1])"
   ]
  },
  {
   "cell_type": "code",
   "execution_count": 12,
   "metadata": {},
   "outputs": [
    {
     "name": "stdout",
     "output_type": "stream",
     "text": [
      "Iteration k=0 - Compliance: 0.43228\n",
      "Iteration k=1 - Compliance: 0.54035\n",
      "Iteration k=2 - Compliance: 0.67543\n",
      "Iteration k=3 - Compliance: 0.84429\n",
      "Iteration k=4 - Compliance: 0.75679\n",
      "Iteration k=5 - Compliance: 0.69184\n",
      "Iteration k=6 - Compliance: 0.65241\n",
      "Iteration k=7 - Compliance: 0.63711\n",
      "Iteration k=8 - Compliance: 0.63359\n",
      "Iteration k=9 - Compliance: 0.63132\n",
      "Iteration k=10 - Compliance: 0.62977\n",
      "Iteration k=11 - Compliance: 0.62964\n",
      "Iteration k=12 - Compliance: 0.63046\n",
      "Iteration k=13 - Compliance: 0.63100\n",
      "Iteration k=14 - Compliance: 0.63164\n",
      "Iteration k=15 - Compliance: 0.63254\n",
      "Iteration k=16 - Compliance: 0.63364\n",
      "Iteration k=17 - Compliance: 0.63473\n",
      "Iteration k=18 - Compliance: 0.63552\n",
      "Iteration k=19 - Compliance: 0.63604\n",
      "Iteration k=20 - Compliance: 0.63645\n",
      "Iteration k=21 - Compliance: 0.63678\n",
      "Iteration k=22 - Compliance: 0.63702\n",
      "Iteration k=23 - Compliance: 0.63727\n",
      "Iteration k=24 - Compliance: 0.63752\n",
      "Iteration k=25 - Compliance: 0.63781\n",
      "Iteration k=26 - Compliance: 0.63811\n",
      "Iteration k=27 - Compliance: 0.63842\n",
      "Iteration k=28 - Compliance: 0.63877\n",
      "Iteration k=29 - Compliance: 0.63914\n",
      "Iteration k=30 - Compliance: 0.63955\n",
      "Iteration k=31 - Compliance: 0.64002\n",
      "Iteration k=32 - Compliance: 0.64040\n",
      "Iteration k=33 - Compliance: 0.64069\n",
      "Iteration k=34 - Compliance: 0.64101\n",
      "Iteration k=35 - Compliance: 0.64125\n",
      "Iteration k=36 - Compliance: 0.64140\n",
      "Iteration k=37 - Compliance: 0.64150\n",
      "Iteration k=38 - Compliance: 0.64159\n",
      "Iteration k=39 - Compliance: 0.64165\n",
      "Iteration k=40 - Compliance: 0.64166\n",
      "Iteration k=41 - Compliance: 0.64168\n",
      "Iteration k=42 - Compliance: 0.64170\n",
      "Iteration k=43 - Compliance: 0.64171\n",
      "Iteration k=44 - Compliance: 0.64174\n",
      "Iteration k=45 - Compliance: 0.64176\n",
      "Iteration k=46 - Compliance: 0.64179\n",
      "Iteration k=47 - Compliance: 0.64182\n",
      "Iteration k=48 - Compliance: 0.64185\n",
      "Iteration k=49 - Compliance: 0.64187\n"
     ]
    },
    {
     "data": {
      "image/png": "[encoded data removed]",
      "text/plain": [
       "<Figure size 640x480 with 1 Axes>"
      ]
     },
     "metadata": {},
     "output_type": "display_data"
    }
   ],
   "source": [
    "rho_opt = optimize_oc(cantilever_fine, rho_0, rho_min, rho_max, V0, p=2, iter=50, r_sens=1.1)\n",
    "cantilever_fine.plot(element_property=rho_opt[-1])\n",
    "plt.savefig(\n",
    "    \"figures/cantilever_fem_optimized_binary_fine_filtered.pdf\", transparent=True, bbox_inches=\"tight\"\n",
    ")"
   ]
  },
  {
   "cell_type": "code",
   "execution_count": 13,
   "metadata": {},
   "outputs": [
    {
     "name": "stdout",
     "output_type": "stream",
     "text": [
      "Iteration k=  0 - Compliance: 0.36661\n",
      "Iteration k=  1 - Compliance: 0.63069\n",
      "Iteration k=  2 - Compliance: 0.53087\n",
      "Iteration k=  3 - Compliance: 0.52934\n",
      "Iteration k=  4 - Compliance: 0.53621\n",
      "Iteration k=  5 - Compliance: 0.54128\n",
      "Iteration k=  6 - Compliance: 0.54184\n",
      "Iteration k=  7 - Compliance: 0.54123\n",
      "Iteration k=  8 - Compliance: 0.54187\n",
      "Iteration k=  9 - Compliance: 0.54196\n",
      "Iteration k= 10 - Compliance: 0.54285\n",
      "Iteration k= 11 - Compliance: 0.54346\n",
      "Iteration k= 12 - Compliance: 0.54434\n",
      "Iteration k= 13 - Compliance: 0.54555\n",
      "Iteration k= 14 - Compliance: 0.54599\n",
      "Iteration k= 15 - Compliance: 0.54628\n",
      "Iteration k= 16 - Compliance: 0.54657\n",
      "Iteration k= 17 - Compliance: 0.54699\n",
      "Iteration k= 18 - Compliance: 0.54705\n",
      "Iteration k= 19 - Compliance: 0.54709\n"
     ]
    },
    {
     "data": {
      "image/png": "[encoded data removed]",
      "text/plain": [
       "<Figure size 640x480 with 1 Axes>"
      ]
     },
     "metadata": {},
     "output_type": "display_data"
    }
   ],
   "source": [
    "cantilever_extra_fine = get_cantilever(0.25, 30.0, 15.0)\n",
    "\n",
    "rho_0 = torch.ones(len(cantilever_extra_fine.elements))\n",
    "rho_min = 0.1 * torch.ones_like(rho_0)\n",
    "rho_max = 1.0 * torch.ones_like(rho_0)\n",
    "areas = cantilever_extra_fine.areas\n",
    "V0 = 0.5 * torch.inner(rho_max, areas)\n",
    "\n",
    "\n",
    "rho_opt = optimize_mma(cantilever_extra_fine, rho_0, rho_min, rho_max, V0, p=2, iter=20)\n",
    "cantilever_extra_fine.plot(element_property=rho_opt[-1])\n",
    "plt.savefig(\n",
    "    \"figures/cantilever_fem_optimized_binary_extra_fine.pdf\", transparent=True, bbox_inches=\"tight\"\n",
    ")"
   ]
  },
  {
   "cell_type": "code",
   "execution_count": 14,
   "metadata": {},
   "outputs": [
    {
     "name": "stdout",
     "output_type": "stream",
     "text": [
      "Iteration k=0 - Compliance: 0.36661\n",
      "Iteration k=1 - Compliance: 0.45826\n",
      "Iteration k=2 - Compliance: 0.57283\n",
      "Iteration k=3 - Compliance: 0.71604\n",
      "Iteration k=4 - Compliance: 0.64410\n",
      "Iteration k=5 - Compliance: 0.59074\n",
      "Iteration k=6 - Compliance: 0.55802\n",
      "Iteration k=7 - Compliance: 0.54460\n",
      "Iteration k=8 - Compliance: 0.54120\n",
      "Iteration k=9 - Compliance: 0.53885\n",
      "Iteration k=10 - Compliance: 0.53727\n",
      "Iteration k=11 - Compliance: 0.53721\n",
      "Iteration k=12 - Compliance: 0.53820\n",
      "Iteration k=13 - Compliance: 0.53905\n",
      "Iteration k=14 - Compliance: 0.53996\n",
      "Iteration k=15 - Compliance: 0.54104\n",
      "Iteration k=16 - Compliance: 0.54206\n",
      "Iteration k=17 - Compliance: 0.54279\n",
      "Iteration k=18 - Compliance: 0.54332\n",
      "Iteration k=19 - Compliance: 0.54372\n",
      "Iteration k=20 - Compliance: 0.54404\n",
      "Iteration k=21 - Compliance: 0.54430\n",
      "Iteration k=22 - Compliance: 0.54454\n",
      "Iteration k=23 - Compliance: 0.54479\n",
      "Iteration k=24 - Compliance: 0.54507\n",
      "Iteration k=25 - Compliance: 0.54538\n",
      "Iteration k=26 - Compliance: 0.54571\n",
      "Iteration k=27 - Compliance: 0.54595\n",
      "Iteration k=28 - Compliance: 0.54614\n",
      "Iteration k=29 - Compliance: 0.54630\n",
      "Iteration k=30 - Compliance: 0.54646\n",
      "Iteration k=31 - Compliance: 0.54659\n",
      "Iteration k=32 - Compliance: 0.54672\n",
      "Iteration k=33 - Compliance: 0.54684\n",
      "Iteration k=34 - Compliance: 0.54694\n",
      "Iteration k=35 - Compliance: 0.54703\n",
      "Iteration k=36 - Compliance: 0.54710\n",
      "Iteration k=37 - Compliance: 0.54718\n",
      "Iteration k=38 - Compliance: 0.54725\n",
      "Iteration k=39 - Compliance: 0.54732\n",
      "Iteration k=40 - Compliance: 0.54737\n",
      "Iteration k=41 - Compliance: 0.54742\n",
      "Iteration k=42 - Compliance: 0.54748\n",
      "Iteration k=43 - Compliance: 0.54754\n",
      "Iteration k=44 - Compliance: 0.54759\n",
      "Iteration k=45 - Compliance: 0.54764\n",
      "Iteration k=46 - Compliance: 0.54770\n",
      "Iteration k=47 - Compliance: 0.54776\n",
      "Iteration k=48 - Compliance: 0.54782\n",
      "Iteration k=49 - Compliance: 0.54787\n"
     ]
    },
    {
     "data": {
      "image/png": "[encoded data removed]",
      "text/plain": [
       "<Figure size 640x480 with 1 Axes>"
      ]
     },
     "metadata": {},
     "output_type": "display_data"
    }
   ],
   "source": [
    "rho_opt = optimize_oc(cantilever_extra_fine, rho_0, rho_min, rho_max, V0, p=2, iter=50, r_sens=1.1)\n",
    "cantilever_extra_fine.plot(element_property=rho_opt[-1])\n",
    "plt.savefig(\n",
    "    \"figures/cantilever_fem_optimized_binary_extra_fine_filtered.pdf\", transparent=True, bbox_inches=\"tight\"\n",
    ")"
   ]
  }
 ],
 "metadata": {
  "kernelspec": {
   "display_name": "Python 3 (ipykernel)",
   "language": "python",
   "name": "python3"
  },
  "language_info": {
   "codemirror_mode": {
    "name": "ipython",
    "version": 3
   },
   "file_extension": ".py",
   "mimetype": "text/x-python",
   "name": "python",
   "nbconvert_exporter": "python",
   "pygments_lexer": "ipython3",
   "version": "3.9.15"
  },
  "vscode": {
   "interpreter": {
    "hash": "53e816d343ac3b69abbe00d0113a5825a790940e53acda2e016fe2e76fc78702"
   }
  }
 },
 "nbformat": 4,
 "nbformat_minor": 4
}
