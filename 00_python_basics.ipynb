{
 "cells": [
  {
   "attachments": {},
   "cell_type": "markdown",
   "metadata": {},
   "source": [
    "# 00 Introduction to Python basics\n",
    "\n",
    "## Agenda \n",
    "- Setting up Python and Visual Studio Code\n",
    "- Using Python in three ways (interactive, script, notebook)\n",
    "- Build-in data types \n",
    "- Functions\n",
    "- Concepts of object oriented programming\n",
    "- Inheritance \n",
    "- Numpy"
   ]
  },
  {
   "cell_type": "markdown",
   "metadata": {},
   "source": [
    "\n",
    "## Setting up Python\n",
    "There are many ways to install Python and many editors to write Python code. If you have already a version of Python or Anaconda installed, you can keep that version. However, if you are installing Python for the first time, I recommend the following procedure:\n",
    "\n",
    "### Install a minimal Python\n",
    "- Go to https://github.com/conda-forge/miniforge and download installer of \"Miniforge 3\" for your operating system\n",
    "- Start the installer\n",
    "- Install for \"Just Me\" and add to PATH variable\n",
    "\n",
    "### Install Visual Studio Code as your code editor\n",
    "- Go to https://code.visualstudio.com and download installer of \"Visual Studio Code\" for your operating system \n",
    "- Start the installer\n",
    "- Install using your personal preferences (desktop icon etc.)\n",
    "- Customize to your liking\n"
   ]
  },
  {
   "attachments": {},
   "cell_type": "markdown",
   "metadata": {},
   "source": [
    "## Using Python in three ways\n",
    "There are several ways to execute Python code. We take a look at three options and subsequently \n",
    "\n",
    "### Command prompt\n",
    "This is a quick way to execute or test a few Python commands, but not for serious programming. \n",
    "\n",
    "Open a command promt (Windows Terminal) and type \n",
    "```\n",
    "conda activate base\n",
    "```\n",
    "Then type \n",
    "```\n",
    "python\n",
    "```\n",
    "and you are in an interactive python promt, where you can execute Python commands:\n",
    "```\n",
    "a = 5\n",
    "print(\"My variable 'a' has the value:\")\n",
    "print(a)\n",
    "```\n",
    "\n",
    "### Execute a Python script\n",
    "For longer scripts you can store your commands in a \".py\" file, which is then executed in a terminal window.\n",
    "\n",
    "Create a new file in VS Code named `test_script.py` and enter the example code: \n",
    "```\n",
    "a = 5\n",
    "print(\"My variable 'a' has the value:\")\n",
    "print(a)\n",
    "```\n",
    "On the bottom right of your VS Code Window, there should be a button to select a Python Interpreter. Set it to \"'base': conda\". \n",
    "\n",
    "Open a Terminal in VS Code (or somewhere else and navigate to your directory with the file) and activate your Python environment: \n",
    "```\n",
    "conda activate base\n",
    "```\n",
    "Then type \n",
    "```\n",
    "python test_script.py\n",
    "```\n",
    "to execute your script.\n",
    "\n",
    "### Jupyter Notebooks\n",
    "A very convenient and popular alternative for beginners are interactive Jupyter Notebooks. We will use such notebooks in this lecture series.\n",
    "\n",
    "In VS Code, you may create a file `test_script.ipynb`. If you open that file, you can select the Kernel on the top right button \"Select Kernel\". Now you have a Notebook in which you can create Markdown cells for text (indeed, you are reading such a Markdown cell right now) and Python code cells to write Python code. The next cell is of such type - try running is with the Play button on the left of the cell or by hitting \"SHIFT\" and \"ENTER\" at the same time. \n"
   ]
  },
  {
   "cell_type": "code",
   "execution_count": 1,
   "metadata": {},
   "outputs": [
    {
     "name": "stdout",
     "output_type": "stream",
     "text": [
      "My variable 'a' has the value:\n",
      "5\n"
     ]
    }
   ],
   "source": [
    "a = 5\n",
    "print(\"My variable 'a' has the value:\")\n",
    "print(a)"
   ]
  },
  {
   "cell_type": "markdown",
   "metadata": {},
   "source": [
    "## Build-in data types \n",
    "### Primitive data types\n",
    "Great, you have already executed your first lines of Python code! Let's take a look at what was going on here:\n",
    "\n",
    "The line `a = 5` defines a new variable named `a` and assigns the value 5 to it. In contrast to many other programming languages, the type of this variable is assigned implicitly - in this case it is of the type `int` meaning integer. We can confirm this using the build-in `type()` function:"
   ]
  },
  {
   "cell_type": "code",
   "execution_count": 2,
   "metadata": {},
   "outputs": [
    {
     "name": "stdout",
     "output_type": "stream",
     "text": [
      "<class 'int'>\n"
     ]
    }
   ],
   "source": [
    "type_of_a = type(a)\n",
    "print(type_of_a)"
   ]
  },
  {
   "cell_type": "markdown",
   "metadata": {},
   "source": [
    "Another variable type is a character string (`str`) that is implicitly defined using quotation marks. This can be double quotes or single quotes, but I recommend double quotes. In addition, there is a special string character type called f-String in modern Python. It can be used to format results nicely. "
   ]
  },
  {
   "cell_type": "code",
   "execution_count": 3,
   "metadata": {},
   "outputs": [
    {
     "name": "stdout",
     "output_type": "stream",
     "text": [
      "My variable 'a' has the value 5 and my variable 'str_variable' has the value 'A character string'.\n"
     ]
    }
   ],
   "source": [
    "str_variable = \"A character string\"\n",
    "another_str_variable = 'Another character string'\n",
    "\n",
    "formatted_string = f\"My variable 'a' has the value {a} and my variable 'str_variable' has the value '{str_variable}'.\"\n",
    "print(formatted_string)"
   ]
  },
  {
   "cell_type": "markdown",
   "metadata": {},
   "source": [
    "The next line in the first example `print(\"My variable 'a' has the value:\")` prints a charcter string using the build-in `print()` function. But there are more build-in data types than just integers an strings:"
   ]
  },
  {
   "cell_type": "code",
   "execution_count": 4,
   "metadata": {},
   "outputs": [],
   "source": [
    "xf = 2.75 # float \n",
    "xc = 1+3j # complex\n",
    "xb = True # bool\n",
    "xn = None # NoneType"
   ]
  },
  {
   "cell_type": "markdown",
   "metadata": {},
   "source": [
    "We can convert between types using the type name as a function. Often, this is done automatically, e.g. we can user print(a) instead of print(str(a)) and the result of `div = 5/2` is automatically 2.5. But we should be aware of the types we use, therefore I would recommend writing `div = 5.0/2.0`."
   ]
  },
  {
   "cell_type": "code",
   "execution_count": 5,
   "metadata": {},
   "outputs": [
    {
     "name": "stdout",
     "output_type": "stream",
     "text": [
      "5.0\n",
      "<class 'float'>\n"
     ]
    }
   ],
   "source": [
    "af = float(a)\n",
    "type_of_af = type(af)\n",
    "print(af)\n",
    "print(type_of_af)"
   ]
  },
  {
   "cell_type": "markdown",
   "metadata": {},
   "source": [
    "We can use these data types to calculate stuff just like in a calculator:"
   ]
  },
  {
   "cell_type": "code",
   "execution_count": 6,
   "metadata": {},
   "outputs": [
    {
     "name": "stdout",
     "output_type": "stream",
     "text": [
      "1150388837569254463\n"
     ]
    }
   ],
   "source": [
    "# Add numbers \n",
    "number1 = 12389849\n",
    "number2 = 92849302487\n",
    "print(number1 * number2)"
   ]
  },
  {
   "cell_type": "code",
   "execution_count": 7,
   "metadata": {},
   "outputs": [
    {
     "name": "stdout",
     "output_type": "stream",
     "text": [
      "False\n"
     ]
    }
   ],
   "source": [
    "# Evaluate boolean expressions\n",
    "b1 = True\n",
    "b2 = False \n",
    "b3 = True \n",
    "print (b1 and not (b2 or b3))"
   ]
  },
  {
   "cell_type": "code",
   "execution_count": 8,
   "metadata": {},
   "outputs": [
    {
     "name": "stdout",
     "output_type": "stream",
     "text": [
      "The area of a circle with radius 5.0 is 78.54.\n"
     ]
    }
   ],
   "source": [
    "# Compute the area of a circle\n",
    "PI = 3.1415926535\n",
    "r = 5.0\n",
    "area = PI * r **2\n",
    "print(f\"The area of a circle with radius {r} is {area:.2f}.\")"
   ]
  },
  {
   "cell_type": "markdown",
   "metadata": {},
   "source": [
    "### Sequences\n",
    "\n",
    "There are also data types to collect variables. A `list` stores ordered variables (of multiple types) dynamically, while a `tuple` contains ordered variables (of multiple types) immutably."
   ]
  },
  {
   "cell_type": "code",
   "execution_count": 9,
   "metadata": {},
   "outputs": [],
   "source": [
    "fruit_list = [\"bananas\", \"apples\", \"peaches\"]    # list\n",
    "fruit_tuple = (\"bananas\", \"apples\", \"peaches\")    # tuple"
   ]
  },
  {
   "cell_type": "markdown",
   "metadata": {},
   "source": [
    "We can traverse trough lists and tuples using a for loop. Everything that should happen inside the loop, must use indentation:"
   ]
  },
  {
   "cell_type": "code",
   "execution_count": 10,
   "metadata": {},
   "outputs": [
    {
     "name": "stdout",
     "output_type": "stream",
     "text": [
      "bananas\n",
      "apples\n",
      "peaches\n"
     ]
    }
   ],
   "source": [
    "for fruit in fruit_list:\n",
    "    print(fruit)"
   ]
  },
  {
   "cell_type": "markdown",
   "metadata": {},
   "source": [
    "We can change a list item, but not a tuple item"
   ]
  },
  {
   "cell_type": "code",
   "execution_count": 11,
   "metadata": {},
   "outputs": [
    {
     "name": "stdout",
     "output_type": "stream",
     "text": [
      "['bananas', 'melons', 'peaches']\n"
     ]
    }
   ],
   "source": [
    "fruit_list[1] = \"melons\"\n",
    "print(fruit_list)"
   ]
  },
  {
   "cell_type": "markdown",
   "metadata": {},
   "source": [
    "We can also append data to a list:"
   ]
  },
  {
   "cell_type": "code",
   "execution_count": 12,
   "metadata": {},
   "outputs": [
    {
     "name": "stdout",
     "output_type": "stream",
     "text": [
      "['bananas', 'melons', 'peaches', 'apples']\n"
     ]
    }
   ],
   "source": [
    "fruit_list.append(\"apples\")\n",
    "print(fruit_list)"
   ]
  },
  {
   "cell_type": "markdown",
   "metadata": {},
   "source": [
    "### Dictionaries\n",
    "Sometimes we want to store sequences as key, value pairs. For this, we can use dictionaries:"
   ]
  },
  {
   "cell_type": "code",
   "execution_count": 13,
   "metadata": {},
   "outputs": [
    {
     "name": "stdout",
     "output_type": "stream",
     "text": [
      "Joe\n",
      "80\n"
     ]
    }
   ],
   "source": [
    "person = {\"Name\": \"Joe\", \"Age\": 80}\n",
    "\n",
    "print(person[\"Name\"])\n",
    "print(person[\"Age\"])"
   ]
  },
  {
   "cell_type": "markdown",
   "metadata": {},
   "source": [
    "You may iterate conveniently through dictionaries like this:"
   ]
  },
  {
   "cell_type": "code",
   "execution_count": 14,
   "metadata": {},
   "outputs": [
    {
     "name": "stdout",
     "output_type": "stream",
     "text": [
      "Name: Joe\n",
      "Age: 80\n"
     ]
    }
   ],
   "source": [
    "for key, value in person.items():\n",
    "    print(f\"{key}: {value}\")"
   ]
  },
  {
   "cell_type": "markdown",
   "metadata": {},
   "source": [
    "\n",
    "## Functions\n",
    "A fundamental principal of writing code is \"Don't repeat yourself\" (DRY). This means that we want to write code for a functionality once and reuse it instead of copying chunks of code. Lets say, we want to compute the area of a circle more often, then we want to define a function once and just call that function instead of writing the same all over again.\n",
    "\n",
    "A function starts with `def`, the name of the function `compute_circle_area`, arguments enclosed in brackets `(radius)` and a colon `:`. everything inside the function is indented:"
   ]
  },
  {
   "cell_type": "code",
   "execution_count": 15,
   "metadata": {},
   "outputs": [
    {
     "name": "stdout",
     "output_type": "stream",
     "text": [
      "28.2743338815\n",
      "78.5398163375\n"
     ]
    }
   ],
   "source": [
    "def compute_circle_area(radius):\n",
    "    # Compute the area for a circle with 'radius'\n",
    "    PI = 3.1415926535\n",
    "    area = PI * radius **2\n",
    "    return area \n",
    "\n",
    "\n",
    "print(compute_circle_area(3.0))\n",
    "print(compute_circle_area(5.0))"
   ]
  },
  {
   "cell_type": "markdown",
   "metadata": {},
   "source": [
    "The function `compute_circle_area` takes one argument and returns one result. But there can be also functions without arguments or without a `return` statement:"
   ]
  },
  {
   "cell_type": "code",
   "execution_count": 16,
   "metadata": {},
   "outputs": [
    {
     "name": "stdout",
     "output_type": "stream",
     "text": [
      "I promise to use the DRY principle.\n",
      "I promise to use the DRY principle.\n",
      "I promise to use the DRY principle.\n",
      "I promise to use the DRY principle.\n",
      "I promise to use the DRY principle.\n",
      "I promise to use the DRY principle.\n",
      "I promise to use the DRY principle.\n",
      "I promise to use the DRY principle.\n",
      "I promise to use the DRY principle.\n",
      "I promise to use the DRY principle.\n"
     ]
    }
   ],
   "source": [
    "def write_hello():\n",
    "    # A function that writes a fixed phrase \n",
    "    print(\"I promise to use the DRY principle.\")\n",
    "\n",
    "for i in range(10):\n",
    "    write_hello()"
   ]
  },
  {
   "cell_type": "markdown",
   "metadata": {},
   "source": [
    "Functions may also take multiple arguments, some of which can have default values"
   ]
  },
  {
   "cell_type": "code",
   "execution_count": 17,
   "metadata": {},
   "outputs": [
    {
     "name": "stdout",
     "output_type": "stream",
     "text": [
      "3.7416573867739413\n",
      "2.23606797749979\n",
      "3.7416573867739413\n"
     ]
    }
   ],
   "source": [
    "def compute_vector_norm(x, y, z=0):\n",
    "    # Return the squared length of a vector defined by x,y,z\n",
    "    return(x**2 + y**2 + z**2)**0.5\n",
    "\n",
    "n = compute_vector_norm(1,2,3)\n",
    "print(n)\n",
    "\n",
    "n = compute_vector_norm(1,2)\n",
    "print(n)\n",
    "\n",
    "vec = [1,2,3]\n",
    "n = compute_vector_norm(*vec)\n",
    "print(n)"
   ]
  },
  {
   "cell_type": "markdown",
   "metadata": {},
   "source": [
    "Function can also return lists and thus essentially return multiple values. We illustrate this by writing our first algorithm."
   ]
  },
  {
   "cell_type": "code",
   "execution_count": 18,
   "metadata": {},
   "outputs": [
    {
     "name": "stdout",
     "output_type": "stream",
     "text": [
      "Resulting list: [43, 1]\n",
      "Resulting value: 43, resulting position: 1\n",
      "Just the resulting value: 43\n"
     ]
    }
   ],
   "source": [
    "def find_max(input):\n",
    "    # Compute maximum value and position of the maximum in and input list \n",
    "    # The result is returned as a list containing [maximum, idx]\n",
    "    current_max = -1\n",
    "    current_idx = -1\n",
    "    for i, val in enumerate(input):\n",
    "        if val > current_max:\n",
    "            current_max = val\n",
    "            current_idx = i\n",
    "    return [current_max, current_idx]\n",
    "\n",
    "\n",
    "random_numbers = [33, 43, 9, 7, 38, 25, 17, 19, 29]\n",
    "\n",
    "# Use \n",
    "result = find_max(random_numbers)\n",
    "print(f\"Resulting list: {result}\")\n",
    "\n",
    "value, position = find_max(random_numbers)\n",
    "print(f\"Resulting value: {value}, resulting position: {position}\")\n",
    "\n",
    "value, _ = find_max(random_numbers)\n",
    "print(f\"Just the resulting value: {value}\")\n",
    "\n"
   ]
  },
  {
   "cell_type": "markdown",
   "metadata": {},
   "source": [
    "## Concepts of object oriented programming\n",
    "The primitive data types like floats, strings, lists and dictionaries are cool. However, they are a bit limited. It would be great if we could define more complex data types like points, users, microscopes, spaceships, or any other object. \n",
    "\n",
    "Luckliy we can do this using object oriented programming. The idea here is that we can improve the reusability of code by abstracting indvidual objects which can interact. New custom objects are created from a template called `class`. \n",
    "\n",
    "### Example: geometric objects\n",
    "A point has spatial coordinates. A line is defined by two points and should have the functionality of computing its length.\n",
    "\n",
    "Let's first define a class for points. The class is defined by the keyword `class`. It has a special funtion to initialize the class called `__init__`. This is called the constructor. It works like any other function, however class functions always take a first argument called `self`. This is a reference to the class itself. For the point, the contructor takes three arguments (`x`, `y`, `z`) in addition to `self` and saves them to the class itself. "
   ]
  },
  {
   "cell_type": "code",
   "execution_count": 19,
   "metadata": {},
   "outputs": [],
   "source": [
    "class Point: \n",
    "    def __init__(self, x, y, z):\n",
    "        self.x = x \n",
    "        self.y = y\n",
    "        self.z = z"
   ]
  },
  {
   "cell_type": "markdown",
   "metadata": {},
   "source": [
    "Let's also create a class for a line. The constructor works just like the points constructor. In addition, this class should also get some more functionality, i.e. compute the length. Therefore we add a class function called `compute_length` that takes only `self` as an argument and returns the length of the line."
   ]
  },
  {
   "cell_type": "code",
   "execution_count": 20,
   "metadata": {},
   "outputs": [],
   "source": [
    "class Line: \n",
    "    def __init__(self, a, b):\n",
    "        self.a = a\n",
    "        self.b = b\n",
    "    \n",
    "    def compute_length(self):\n",
    "        dx = self.a.x - self.b.x\n",
    "        dy = self.a.y - self.b.y\n",
    "        dz = self.a.z - self.b.z\n",
    "        return (dx**2 + dy**2 + dz**2)**0.5"
   ]
  },
  {
   "cell_type": "markdown",
   "metadata": {},
   "source": [
    "We can now use the class and create points (Note that the type of these points is now our new data type `Point`!):"
   ]
  },
  {
   "cell_type": "code",
   "execution_count": 21,
   "metadata": {},
   "outputs": [
    {
     "name": "stdout",
     "output_type": "stream",
     "text": [
      "<class '__main__.Point'>\n"
     ]
    }
   ],
   "source": [
    "a = Point(1.0, 2.0, 3.0)\n",
    "b = Point(0.0, 1.0, 5.0)\n",
    "c = Point(5.0, 2.0, -3.0)\n",
    "\n",
    "print(type(a))"
   ]
  },
  {
   "cell_type": "markdown",
   "metadata": {},
   "source": [
    "We can define lines between these points and compute their lengths "
   ]
  },
  {
   "cell_type": "code",
   "execution_count": 22,
   "metadata": {},
   "outputs": [
    {
     "name": "stdout",
     "output_type": "stream",
     "text": [
      "2.449489742783178\n",
      "7.211102550927978\n"
     ]
    }
   ],
   "source": [
    "a_b = Line(a, b)\n",
    "a_c = Line(a, c)\n",
    "\n",
    "print(a_b.compute_length())\n",
    "print(a_c.compute_length())"
   ]
  },
  {
   "cell_type": "markdown",
   "metadata": {},
   "source": [
    "The advantage of these objects is that they are quite easy to read, interpret, and adapt. "
   ]
  },
  {
   "cell_type": "markdown",
   "metadata": {},
   "source": [
    "### Example: cars on a street\n",
    "Let's take a look at another example. We define a class `Car` to represent cars. A car will be represented by a symbol (e.g. \"=\" or \"*\"), has a speed and a brand name. It has a function `drive` that computes how far the car drives in a given time. "
   ]
  },
  {
   "cell_type": "code",
   "execution_count": 23,
   "metadata": {},
   "outputs": [],
   "source": [
    "class Car:\n",
    "    def __init__(self, symbol, brand, speed):\n",
    "        self.symbol = symbol\n",
    "        self.brand = brand\n",
    "        self.speed = speed\n",
    "    \n",
    "    def __str__(self):\n",
    "        return self.brand\n",
    "    \n",
    "    def plot(self):\n",
    "        return self.symbol\n",
    "    \n",
    "    def drive(self, time):\n",
    "        return self.speed * time"
   ]
  },
  {
   "cell_type": "markdown",
   "metadata": {},
   "source": [
    "We can create a couple of cars. "
   ]
  },
  {
   "cell_type": "code",
   "execution_count": 24,
   "metadata": {},
   "outputs": [],
   "source": [
    "multipla = Car(\"🚗\", \"Fiat\", 1)\n",
    "golf = Car(\"🚙\", \"VW\", 2)\n",
    "f40 = Car(\"🏎️\", \"Ferrari\", 3)"
   ]
  },
  {
   "cell_type": "markdown",
   "metadata": {},
   "source": [
    "Now, we need a street for the cars to drive on. "
   ]
  },
  {
   "cell_type": "code",
   "execution_count": 25,
   "metadata": {},
   "outputs": [],
   "source": [
    "class Street: \n",
    "    def __init__(self, length=100):\n",
    "        self.cars = length*[None]\n",
    "\n",
    "    def add_car(self, car, position):\n",
    "        self.cars[position] = car\n",
    "\n",
    "    def update(self, time):\n",
    "        N = len(self.cars)\n",
    "        new_cars = N*[None]\n",
    "\n",
    "        # Drive all cars (does not account for crashes or street ends)\n",
    "        for i, car in enumerate(self.cars):\n",
    "            if car:\n",
    "                new_position = (i - car.drive(time))\n",
    "                new_cars[new_position] = car\n",
    "        \n",
    "        self.cars = new_cars\n",
    "\n",
    "    def __str__(self):\n",
    "        characters = \"[\"\n",
    "        for car in self.cars:\n",
    "            if car:\n",
    "                characters += car.plot()\n",
    "            else: \n",
    "                characters +=  \" \"\n",
    "        characters += \"]\"\n",
    "        return characters"
   ]
  },
  {
   "cell_type": "markdown",
   "metadata": {},
   "source": [
    "Now, we can put our little street model together"
   ]
  },
  {
   "cell_type": "code",
   "execution_count": 26,
   "metadata": {},
   "outputs": [
    {
     "name": "stdout",
     "output_type": "stream",
     "text": [
      "[                                                                                                    ]\n"
     ]
    }
   ],
   "source": [
    "# Create a new Street\n",
    "sesame_street = Street() \n",
    "\n",
    "print(sesame_street)"
   ]
  },
  {
   "cell_type": "code",
   "execution_count": 27,
   "metadata": {},
   "outputs": [
    {
     "name": "stdout",
     "output_type": "stream",
     "text": [
      "[          🚗                                            🚙                                  🏎️         ]\n"
     ]
    }
   ],
   "source": [
    "# Add the cars \n",
    "sesame_street.add_car(multipla, 10)\n",
    "sesame_street.add_car(golf, 55)\n",
    "sesame_street.add_car(f40, 90)\n",
    "\n",
    "print(sesame_street)"
   ]
  },
  {
   "cell_type": "code",
   "execution_count": 28,
   "metadata": {},
   "outputs": [
    {
     "name": "stdout",
     "output_type": "stream",
     "text": [
      "[     🚗                                       🚙                             🏎️                        ]\n"
     ]
    }
   ],
   "source": [
    "sesame_street.update(5)\n",
    "print(sesame_street)"
   ]
  },
  {
   "cell_type": "markdown",
   "metadata": {},
   "source": [
    "## Inheritance and polymorphism \n",
    "\n",
    "Inheritance allows us to derive special versions of classes that inherit properties and methods from their parent classes. To inherit a class form another class we use the syntax \n",
    "```\n",
    "class MyNewClass(MyParentClass):\n",
    "```\n",
    "in the class defintion. \n",
    "\n",
    "For example, a Taxi is a very specific version of a car that shares the base functionality and properties with a car (like `brand`, `speed`,  `drive()`), but has some additional properies and fucntions (like `pick_up_customer`)."
   ]
  },
  {
   "cell_type": "code",
   "execution_count": 29,
   "metadata": {},
   "outputs": [],
   "source": [
    "class Taxi(Car):\n",
    "    def __init__(self, brand, speed):\n",
    "        super().__init__(\"🚕\", brand, speed)\n",
    "        self.customer = None\n",
    "\n",
    "    def pick_up_customer(self, customer_name):\n",
    "        self.customer = customer_name\n",
    "\n",
    "    def plot(self): \n",
    "        if self.customer:\n",
    "            return self.symbol + f\"({self.customer})\"\n",
    "        else: \n",
    "            return self.symbol"
   ]
  },
  {
   "cell_type": "markdown",
   "metadata": {},
   "source": [
    "Let's create taxis."
   ]
  },
  {
   "cell_type": "code",
   "execution_count": 30,
   "metadata": {},
   "outputs": [
    {
     "name": "stdout",
     "output_type": "stream",
     "text": [
      "[     🚗                        🚕    🚕         🚙                             🏎️                        ]\n"
     ]
    }
   ],
   "source": [
    "taxi_a = Taxi(\"Mercedes\", 2)\n",
    "taxi_b = Taxi(\"Audi\", 2)\n",
    "\n",
    "sesame_street.add_car(taxi_a, 30)\n",
    "sesame_street.add_car(taxi_b, 35)\n",
    "\n",
    "print(sesame_street)"
   ]
  },
  {
   "cell_type": "code",
   "execution_count": 31,
   "metadata": {},
   "outputs": [
    {
     "name": "stdout",
     "output_type": "stream",
     "text": [
      "[  🚗                     🚕(NM)    🚕         🚙                          🏎️                                 ]\n"
     ]
    }
   ],
   "source": [
    "taxi_a.pick_up_customer(\"NM\")\n",
    "sesame_street.update(3)\n",
    "\n",
    "print(sesame_street)"
   ]
  },
  {
   "cell_type": "markdown",
   "metadata": {},
   "source": [
    "## Numpy\n",
    "Numpy is an important package for scientific computing. It provides powerful tools for arrays and numerical computations. We can load the numpy package with the `import` statement, for example `import numpy`. Whenever we want to use a numpy function or class, we may call it with `numpy.function_name()`. "
   ]
  },
  {
   "cell_type": "code",
   "execution_count": 32,
   "metadata": {},
   "outputs": [],
   "source": [
    "import numpy"
   ]
  },
  {
   "cell_type": "markdown",
   "metadata": {},
   "source": [
    "### Numpy data types \n",
    "The core data type used in the previous example is `ndarray`, an array class for numpy."
   ]
  },
  {
   "cell_type": "code",
   "execution_count": 33,
   "metadata": {},
   "outputs": [
    {
     "name": "stdout",
     "output_type": "stream",
     "text": [
      "[[1 2 3]\n",
      " [4 5 6]]\n"
     ]
    }
   ],
   "source": [
    "a = numpy.array([[1,2,3],[4,5,6]])\n",
    "print(a)"
   ]
  },
  {
   "cell_type": "markdown",
   "metadata": {},
   "source": [
    "We can verify the type and access some basic properties of the numpy array `a`:"
   ]
  },
  {
   "cell_type": "code",
   "execution_count": 34,
   "metadata": {},
   "outputs": [
    {
     "name": "stdout",
     "output_type": "stream",
     "text": [
      "<class 'numpy.ndarray'>\n",
      "2\n",
      "(2, 3)\n",
      "6\n",
      "int64\n"
     ]
    }
   ],
   "source": [
    "print(type(a))  \n",
    "print(a.ndim)   # Number of dimensions\n",
    "print(a.shape)  # Shape of array\n",
    "print(a.size)   # Total number of entries\n",
    "print(a.dtype)  # Data type in the array"
   ]
  },
  {
   "cell_type": "markdown",
   "metadata": {},
   "source": [
    "We can create numpy arrays from lists with the `numpy.array()` function."
   ]
  },
  {
   "cell_type": "code",
   "execution_count": 35,
   "metadata": {},
   "outputs": [
    {
     "name": "stdout",
     "output_type": "stream",
     "text": [
      "int64\n",
      "float64\n"
     ]
    }
   ],
   "source": [
    "b = numpy.array([1,2,3])                    # Integer array\n",
    "c = numpy.array([1,2,3], dtype=float)       # Float array\n",
    "d = numpy.array([0.4, 0.5, 0.6, 0.9])       # Float array\n",
    "e = numpy.array([[1.5, 2, 3], [4, 5, 6]])   # Two-dimensional array\n",
    "print(b.dtype)\n",
    "print(c.dtype)"
   ]
  },
  {
   "cell_type": "markdown",
   "metadata": {},
   "source": [
    "We can also create placeholder values:"
   ]
  },
  {
   "cell_type": "code",
   "execution_count": 36,
   "metadata": {},
   "outputs": [
    {
     "name": "stdout",
     "output_type": "stream",
     "text": [
      "[[0.75828045 0.46501888 0.95015722]\n",
      " [0.81510203 0.41341171 0.72714924]\n",
      " [0.72769222 0.14886762 0.44349259]]\n"
     ]
    }
   ],
   "source": [
    "f = numpy.zeros((3,2))          # Array filled with zeros\n",
    "g = numpy.ones((2,3))           # Array filled with ones\n",
    "h = numpy.eye(3)                # Array filled with identity matrix\n",
    "r = numpy.random.random((3,3))  # Array with random values\n",
    "\n",
    "x = numpy.linspace(0,1,11)      # Array filled with evenly spaced values\n",
    "y = numpy.arange(0,30,5)        # Array filled with evenly spaced values \n",
    "print(r)\n"
   ]
  },
  {
   "cell_type": "markdown",
   "metadata": {},
   "source": [
    "### Indexing and slicing \n",
    "We can index and slice parts of numpy arrays:"
   ]
  },
  {
   "cell_type": "code",
   "execution_count": 37,
   "metadata": {},
   "outputs": [
    {
     "name": "stdout",
     "output_type": "stream",
     "text": [
      "Input array: [0.  0.1 0.2 0.3 0.4 0.5 0.6 0.7 0.8 0.9 1. ]\n",
      "Outputs:\n",
      "0.30000000000000004\n",
      "0.9\n",
      "[0.2 0.3 0.4]\n",
      "[0.  0.3 0.6 0.9]\n",
      "[1.  0.9 0.8 0.7 0.6 0.5 0.4 0.3 0.2 0.1 0. ]\n",
      "[0.6 0.7 0.8 0.9 1. ]\n",
      "[0.1 0.2 0.3]\n",
      "Input array:\n",
      "[[0.75828045 0.46501888 0.95015722]\n",
      " [0.81510203 0.41341171 0.72714924]\n",
      " [0.72769222 0.14886762 0.44349259]]\n",
      "Outputs:\n",
      "0.4134117106791634\n",
      "[0.46501888 0.41341171 0.14886762]\n",
      "[[0.75828045 0.46501888]\n",
      " [0.81510203 0.41341171]]\n"
     ]
    }
   ],
   "source": [
    "print(f\"Input array: {x}\")\n",
    "print(\"Outputs:\")\n",
    "print(x[3])         # The fourth(!) entry of 'x'\n",
    "print(x[-2])        # The second last entry of 'x'\n",
    "print(x[2:5])       # The entries 2-4 of 'x'\n",
    "print(x[::3])       # Every third entry of 'x' \n",
    "print(x[::-1])      # Reversed order of 'x'\n",
    "print(x[x>0.5])     # Select elements larger than 0.5\n",
    "print(x[b])         # Index with another integer numpy array\n",
    "\n",
    "print(\"Input array:\")\n",
    "print(r)\n",
    "print(\"Outputs:\")\n",
    "print(r[1,1])       # The entry at the 1,1 position of 'r'\n",
    "print(r[:,1])       # The second column of 'r'\n",
    "print(r[0:2, 0:2])  # The top lefet corner entries of 'r'\n"
   ]
  },
  {
   "cell_type": "markdown",
   "metadata": {},
   "source": [
    "### Reshaping\n",
    "We can modify the shapes of arrays:"
   ]
  },
  {
   "cell_type": "code",
   "execution_count": 38,
   "metadata": {},
   "outputs": [
    {
     "name": "stdout",
     "output_type": "stream",
     "text": [
      "[[1 4]\n",
      " [2 5]\n",
      " [3 6]]\n",
      "[1 2 3 4 5 6]\n",
      "[[0.4 0.5]\n",
      " [0.6 0.9]]\n",
      "[[1 2 3]\n",
      " [1 2 3]]\n",
      "[1 2 3 1 2 3]\n"
     ]
    }
   ],
   "source": [
    "print(a.T)                  # Transpose an array\n",
    "print(a.ravel())            # Flatten the array to one dimension\n",
    "print(d.reshape((2,2)))     # Reshape an array\n",
    "print(numpy.vstack([b,b]))  # Stack arrays vertically\n",
    "print(numpy.hstack([b,b]))  # Stack arrays horizontally"
   ]
  },
  {
   "cell_type": "markdown",
   "metadata": {},
   "source": [
    "### Pointwise mathematical operations\n",
    "We can also do all kind of maths with numpy arrays:"
   ]
  },
  {
   "cell_type": "code",
   "execution_count": 39,
   "metadata": {},
   "outputs": [
    {
     "name": "stdout",
     "output_type": "stream",
     "text": [
      "Input arrays\n",
      "b: [1 2 3]\n",
      "c: [1. 2. 3.]\n",
      "Outputs\n",
      "[2. 4. 6.]\n",
      "[0. 0. 0.]\n",
      "[1. 1. 1.]\n",
      "[1. 4. 9.]\n"
     ]
    }
   ],
   "source": [
    "print(\"Input arrays\")\n",
    "print(f\"b: {b}\")\n",
    "print(f\"c: {c}\")\n",
    "\n",
    "print(\"Outputs\")\n",
    "print(b+c)              # Pointwise addition\n",
    "print(b-c)              # Pointwise difference\n",
    "print(b/c)              # Pointwise division\n",
    "print(b*c)              # Pointwise multiplication\n",
    "squared = x**2          # Pointwise power\n",
    "sine = numpy.sin(x)     # Pointwise sine\n",
    "exp = numpy.exp(x)      # Pointwise exponential"
   ]
  },
  {
   "cell_type": "markdown",
   "metadata": {},
   "source": [
    "### Matrix multiplication example\n",
    "To demonstrate the power of numpy, we take a look at the matrix product. The product between a Matrix $A \\in \\reals^{n \\times m}$ and another matrix $ B \\in \\reals^{m \\times o}$ is \n",
    "$$\n",
    "    C = A B,  \n",
    "$$\n",
    "with $C \\in \\reals^{n \\times o}$\n",
    "It is computed as \n",
    "$$\n",
    "    C_{ij} = \\sum_{k} A_{ik} B_{kj}\n",
    "$$"
   ]
  },
  {
   "cell_type": "code",
   "execution_count": 40,
   "metadata": {},
   "outputs": [],
   "source": [
    "m = 1000\n",
    "n = 100\n",
    "o = 500\n",
    "\n",
    "A = numpy.random.random((n,m))\n",
    "B = numpy.random.random((m,o))\n",
    "C = numpy.zeros((n,o))"
   ]
  },
  {
   "cell_type": "markdown",
   "metadata": {},
   "source": [
    "A naive implementation of the matrix product looks like this:"
   ]
  },
  {
   "cell_type": "code",
   "execution_count": 41,
   "metadata": {},
   "outputs": [],
   "source": [
    "for i in range(n):\n",
    "    for j in range(o):\n",
    "        for k in range(m):\n",
    "            C[i,j] += A[i,k] * B[k,j]"
   ]
  },
  {
   "cell_type": "markdown",
   "metadata": {},
   "source": [
    "The expression above is very slow, as the Python intepreter does not apply any optimization or vectorization for the processor to be fast. The same code using numpy looks like this: "
   ]
  },
  {
   "cell_type": "code",
   "execution_count": 42,
   "metadata": {},
   "outputs": [],
   "source": [
    "C = numpy.matmul(A, B)"
   ]
  },
  {
   "cell_type": "markdown",
   "metadata": {},
   "source": [
    "This code executed way faster, because the underlying implementation is pre-compiled and optimized for your processor. Whenever there is a precompiled version of a function that saves a lot of lopping in Python, use that version! Looping in Python is relatively slow.\n",
    "\n",
    "The matrix multiplication is so common, that there is a dedicated operator for it: "
   ]
  },
  {
   "cell_type": "code",
   "execution_count": 43,
   "metadata": {},
   "outputs": [],
   "source": [
    "C = A @ B"
   ]
  }
 ],
 "metadata": {
  "kernelspec": {
   "display_name": "Python 3 (ipykernel)",
   "language": "python",
   "name": "python3"
  },
  "language_info": {
   "codemirror_mode": {
    "name": "ipython",
    "version": 3
   },
   "file_extension": ".py",
   "mimetype": "text/x-python",
   "name": "python",
   "nbconvert_exporter": "python",
   "pygments_lexer": "ipython3",
   "version": "3.10.6"
  }
 },
 "nbformat": 4,
 "nbformat_minor": 4
}
